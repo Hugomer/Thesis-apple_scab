{
  "cells": [
    {
      "cell_type": "markdown",
      "metadata": {
        "id": "v0RlqCkMzrje"
      },
      "source": [
        "# Load in the data set fruits:"
      ]
    },
    {
      "cell_type": "code",
      "execution_count": null,
      "metadata": {
        "id": "qpI0UVqKwA66"
      },
      "outputs": [],
      "source": [
        "from google.colab import drive\n",
        "\n",
        "# Mount Google Drive to access files and folders\n",
        "drive.mount('/content/drive')"
      ]
    },
    {
      "cell_type": "code",
      "execution_count": null,
      "metadata": {
        "id": "OIsqvIbjwDpS"
      },
      "outputs": [],
      "source": [
        "path = '/content/drive/MyDrive/Thesis code/healthy_scab_LDs'\n",
        "train_dir = '/content/drive/MyDrive/Thesis code/healthy_scab_LDs/training'\n",
        "val_dir = '/content/drive/MyDrive/Thesis code/healthy_scab_LDs/validation'\n",
        "train_val_dir = '/content/drive/MyDrive/Thesis code/healthy_scab_LDs/train_val'\n",
        "test_dir = '/content/drive/MyDrive/Thesis code/healthy_scab_LDs/test'"
      ]
    },
    {
      "cell_type": "markdown",
      "metadata": {
        "id": "saZ0l4ifzwvS"
      },
      "source": [
        "# Preprocess the images and apply data augmentation to the training set:"
      ]
    },
    {
      "cell_type": "code",
      "execution_count": null,
      "metadata": {
        "id": "bIbc-KGuAxaI"
      },
      "outputs": [],
      "source": [
        "from keras.preprocessing.image import ImageDataGenerator\n",
        "import numpy as np\n",
        "\n",
        "def train_val_test_generators(TRAINING_DIR, VALIDATION_DIR, TRAIN_VAL_DIR, TESTING_DIR):\n",
        "\n",
        "  # preprocessing training images (including data augmentation)\n",
        "  train_datagen = ImageDataGenerator(rescale=1./255,\n",
        "                                     rotation_range=40,\n",
        "                                     width_shift_range=0.2,\n",
        "                                     height_shift_range=0.2,\n",
        "                                     shear_range=0.2,\n",
        "                                     zoom_range=0.2,\n",
        "                                     horizontal_flip=True,\n",
        "                                     fill_mode='nearest')\n",
        "\n",
        "  train_generator = train_datagen.flow_from_directory(directory=TRAINING_DIR,\n",
        "                                                      batch_size=32,\n",
        "                                                      class_mode='binary',\n",
        "                                                      target_size=(224, 224))\n",
        "  \n",
        "  # preprocessing training images\n",
        "  validation_datagen = ImageDataGenerator(rescale = 1/255)\n",
        "\n",
        "  validation_generator = validation_datagen.flow_from_directory(directory= VALIDATION_DIR,\n",
        "                                                                shuffle = False,\n",
        "                                                                batch_size=32,\n",
        "                                                                class_mode='binary',\n",
        "                                                                target_size=(224, 224))\n",
        "  \n",
        "  # preprocessing train_val images (including data augmentation)\n",
        "  train_val_datagen = ImageDataGenerator(rescale=1./255,\n",
        "                                     rotation_range=40,\n",
        "                                     width_shift_range=0.2,\n",
        "                                     height_shift_range=0.2,\n",
        "                                     shear_range=0.2,\n",
        "                                     zoom_range=0.2,\n",
        "                                     horizontal_flip=True,\n",
        "                                     fill_mode='nearest')\n",
        "\n",
        "  train_val_generator = train_val_datagen.flow_from_directory(directory=TRAIN_VAL_DIR, \n",
        "                                                              shuffle=True,\n",
        "                                                              batch_size=32,\n",
        "                                                              class_mode='binary',\n",
        "                                                              target_size=(224, 224))\n",
        "  \n",
        "  # preprocessing train_val images (including data augmentation)\n",
        "  testing_datagen = ImageDataGenerator(rescale = 1/255)\n",
        "\n",
        "  testing_generator = testing_datagen.flow_from_directory(directory= TESTING_DIR,\n",
        "                                                          shuffle=False,\n",
        "                                                          batch_size=32,\n",
        "                                                          class_mode='binary',\n",
        "                                                          target_size=(224, 224))\n",
        "\n",
        "  return train_generator, validation_generator, train_val_generator, testing_generator"
      ]
    },
    {
      "cell_type": "markdown",
      "metadata": {
        "id": "AlUc1BKh074U"
      },
      "source": [
        "# Download/import libraries"
      ]
    },
    {
      "cell_type": "markdown",
      "metadata": {
        "id": "LyM368U80y0Y"
      },
      "source": [
        "## Install Optuna (library for the tuning of hyperparameters)"
      ]
    },
    {
      "cell_type": "code",
      "execution_count": null,
      "metadata": {
        "id": "c1hH_QPaPX0J"
      },
      "outputs": [],
      "source": [
        "!pip install optuna"
      ]
    },
    {
      "cell_type": "markdown",
      "metadata": {
        "id": "njQE5Eci1v0f"
      },
      "source": [
        "## Importing the necessary libraries (such as Optuna and Tensorflow/Keras)"
      ]
    },
    {
      "cell_type": "code",
      "execution_count": null,
      "metadata": {
        "id": "Du_FR3R30vWh"
      },
      "outputs": [],
      "source": [
        "import optuna\n",
        "import tensorflow as tf\n",
        "import urllib\n",
        "import warnings\n",
        "\n",
        "from tensorflow.keras import Model\n",
        "from keras.metrics import Recall, Precision\n",
        "from tensorflow.keras.callbacks import EarlyStopping\n",
        "from tensorflow.keras.layers import Conv2D, Dense, Dropout, Flatten, MaxPooling2D\n",
        "from tensorflow.keras.models import Sequential\n",
        "from tensorflow.keras.optimizers import Adam, AdamW, RMSprop\n",
        "from keras.backend import clear_session\n",
        "\n",
        "import matplotlib.pyplot as plt\n",
        "import numpy as np\n",
        "\n",
        "from sklearn.utils.class_weight import compute_class_weight\n",
        "from sklearn.metrics import confusion_matrix, accuracy_score, precision_score, recall_score, f1_score, roc_auc_score, classification_report"
      ]
    },
    {
      "cell_type": "markdown",
      "metadata": {
        "id": "HoylzyBn4uIj"
      },
      "source": [
        "# Basic CNN model:"
      ]
    },
    {
      "cell_type": "markdown",
      "metadata": {
        "id": "3YAyXV4Q475i"
      },
      "source": [
        "## Perform hyperparameter tuning on the Basic CNN model."
      ]
    },
    {
      "cell_type": "code",
      "execution_count": null,
      "metadata": {
        "colab": {
          "base_uri": "https://localhost:8080/"
        },
        "id": "l2W7N-4GoDUk",
        "outputId": "56d3d9b9-ad8e-4dd9-fd85-4ab51ef1ee14"
      },
      "outputs": [
        {
          "metadata": {
            "tags": null
          },
          "name": "stderr",
          "output_type": "stream",
          "text": [
            "<ipython-input-7-c5d59712e866>:61: UserWarning: Recent Keras release (2.4.0) simply redirects all APIs in the standalone keras package to point to tf.keras. There is now only one Keras: tf.keras. There may be some breaking changes for some workflows by upgrading to keras 2.4.0. Test before upgrading. REF:https://github.com/keras-team/keras/releases/tag/2.4.0\n",
            "  warnings.warn(\n",
            "\u001b[32m[I 2023-05-15 09:35:14,969]\u001b[0m A new study created in memory with name: no-name-022bc0ca-1fd4-467a-a77d-f1935bf9658b\u001b[0m\n"
          ]
        },
        {
          "metadata": {
            "tags": null
          },
          "name": "stdout",
          "output_type": "stream",
          "text": [
            "Found 713 images belonging to 2 classes.\n",
            "Found 237 images belonging to 2 classes.\n",
            "Found 950 images belonging to 2 classes.\n",
            "Found 240 images belonging to 2 classes.\n",
            "Epoch 1/100\n",
            "23/23 [==============================] - 190s 8s/step - loss: 0.8152 - accuracy: 0.4965 - val_loss: 0.6744 - val_accuracy: 0.8481\n",
            "Epoch 2/100\n",
            "23/23 [==============================] - 185s 8s/step - loss: 0.6896 - accuracy: 0.4698 - val_loss: 0.5610 - val_accuracy: 0.8270\n",
            "Epoch 3/100\n",
            "23/23 [==============================] - 181s 8s/step - loss: 0.6863 - accuracy: 0.5989 - val_loss: 0.7186 - val_accuracy: 0.4304\n",
            "Epoch 4/100\n",
            "23/23 [==============================] - 186s 8s/step - loss: 0.6905 - accuracy: 0.6045 - val_loss: 0.7078 - val_accuracy: 0.4726\n",
            "Epoch 5/100\n",
            "23/23 [==============================] - 186s 8s/step - loss: 0.6733 - accuracy: 0.6424 - val_loss: 0.6420 - val_accuracy: 0.6287\n",
            "Epoch 6/100\n",
            "23/23 [==============================] - 185s 8s/step - loss: 0.6730 - accuracy: 0.6396 - val_loss: 0.6989 - val_accuracy: 0.5148\n",
            "Epoch 7/100\n",
            "23/23 [==============================] - 184s 8s/step - loss: 0.6690 - accuracy: 0.5470 - val_loss: 0.6205 - val_accuracy: 0.6709\n",
            "8/8 [==============================] - 46s 6s/step\n"
          ]
        },
        {
          "metadata": {
            "tags": null
          },
          "name": "stderr",
          "output_type": "stream",
          "text": [
            "\u001b[32m[I 2023-05-15 09:57:52,465]\u001b[0m Trial 0 finished with value: 0.4526558891454965 and parameters: {'hidden_layers': 2, 'first_neuron': 256, 'drop_out': 0.5, 'optimizer': 'RMSprop', 'lr': 0.00024245257932506282}. Best is trial 0 with value: 0.4526558891454965.\u001b[0m\n"
          ]
        },
        {
          "metadata": {
            "tags": null
          },
          "name": "stdout",
          "output_type": "stream",
          "text": [
            "0.4526558891454965\n",
            "Found 713 images belonging to 2 classes.\n",
            "Found 237 images belonging to 2 classes.\n",
            "Found 950 images belonging to 2 classes.\n",
            "Found 240 images belonging to 2 classes.\n",
            "Epoch 1/100\n",
            "23/23 [==============================] - 194s 8s/step - loss: 0.6955 - accuracy: 0.5778 - val_loss: 0.6818 - val_accuracy: 0.8270\n",
            "Epoch 2/100\n",
            "23/23 [==============================] - 182s 8s/step - loss: 0.6909 - accuracy: 0.5652 - val_loss: 0.6858 - val_accuracy: 0.7046\n",
            "Epoch 3/100\n",
            "23/23 [==============================] - 185s 8s/step - loss: 0.6880 - accuracy: 0.5470 - val_loss: 0.6758 - val_accuracy: 0.8397\n",
            "Epoch 4/100\n",
            "23/23 [==============================] - 184s 8s/step - loss: 0.6829 - accuracy: 0.5778 - val_loss: 0.7021 - val_accuracy: 0.3291\n",
            "Epoch 5/100\n",
            "23/23 [==============================] - 186s 8s/step - loss: 0.6981 - accuracy: 0.5568 - val_loss: 0.6745 - val_accuracy: 0.7342\n",
            "Epoch 6/100\n",
            "23/23 [==============================] - 185s 8s/step - loss: 0.7038 - accuracy: 0.5778 - val_loss: 0.6742 - val_accuracy: 0.7384\n",
            "Epoch 7/100\n",
            "23/23 [==============================] - 186s 8s/step - loss: 0.6862 - accuracy: 0.6438 - val_loss: 0.6476 - val_accuracy: 0.8439\n",
            "Epoch 8/100\n",
            "23/23 [==============================] - 185s 8s/step - loss: 0.6882 - accuracy: 0.6550 - val_loss: 0.6757 - val_accuracy: 0.6329\n",
            "Epoch 9/100\n",
            "23/23 [==============================] - 182s 8s/step - loss: 0.6887 - accuracy: 0.5891 - val_loss: 0.6585 - val_accuracy: 0.7553\n",
            "Epoch 10/100\n",
            "23/23 [==============================] - 182s 8s/step - loss: 0.6820 - accuracy: 0.6115 - val_loss: 0.6561 - val_accuracy: 0.7173\n",
            "Epoch 11/100\n",
            "23/23 [==============================] - 186s 8s/step - loss: 0.6916 - accuracy: 0.5849 - val_loss: 0.6443 - val_accuracy: 0.7342\n",
            "Epoch 12/100\n",
            "23/23 [==============================] - 184s 8s/step - loss: 0.6874 - accuracy: 0.6115 - val_loss: 0.6589 - val_accuracy: 0.6540\n",
            "Epoch 13/100\n",
            "23/23 [==============================] - 184s 8s/step - loss: 0.6770 - accuracy: 0.6522 - val_loss: 0.6507 - val_accuracy: 0.6878\n",
            "Epoch 14/100\n",
            "23/23 [==============================] - 182s 8s/step - loss: 0.6784 - accuracy: 0.6143 - val_loss: 0.6340 - val_accuracy: 0.7046\n",
            "Epoch 15/100\n",
            "23/23 [==============================] - 184s 8s/step - loss: 0.6728 - accuracy: 0.7125 - val_loss: 0.6635 - val_accuracy: 0.5949\n",
            "Epoch 16/100\n",
            "23/23 [==============================] - 181s 8s/step - loss: 0.6783 - accuracy: 0.5863 - val_loss: 0.6416 - val_accuracy: 0.6414\n",
            "Epoch 17/100\n",
            "23/23 [==============================] - 182s 8s/step - loss: 0.6691 - accuracy: 0.6297 - val_loss: 0.7159 - val_accuracy: 0.4557\n",
            "Epoch 18/100\n",
            "23/23 [==============================] - 186s 8s/step - loss: 0.6731 - accuracy: 0.5835 - val_loss: 0.6489 - val_accuracy: 0.5992\n",
            "Epoch 19/100\n",
            "23/23 [==============================] - 183s 8s/step - loss: 0.6736 - accuracy: 0.6171 - val_loss: 0.6490 - val_accuracy: 0.6118\n",
            "8/8 [==============================] - 43s 5s/step\n"
          ]
        },
        {
          "metadata": {
            "tags": null
          },
          "name": "stderr",
          "output_type": "stream",
          "text": [
            "\u001b[32m[I 2023-05-15 10:57:12,327]\u001b[0m Trial 1 finished with value: 0.6136829359165425 and parameters: {'hidden_layers': 2, 'first_neuron': 128, 'drop_out': 0.5, 'optimizer': 'RMSprop', 'lr': 1.5520332396597338e-05}. Best is trial 1 with value: 0.6136829359165425.\u001b[0m\n"
          ]
        },
        {
          "metadata": {
            "tags": null
          },
          "name": "stdout",
          "output_type": "stream",
          "text": [
            "0.6136829359165425\n",
            "Found 713 images belonging to 2 classes.\n",
            "Found 237 images belonging to 2 classes.\n",
            "Found 950 images belonging to 2 classes.\n",
            "Found 240 images belonging to 2 classes.\n",
            "Epoch 1/100\n",
            "23/23 [==============================] - 189s 8s/step - loss: 1.7100 - accuracy: 0.4642 - val_loss: 0.7210 - val_accuracy: 0.1730\n",
            "Epoch 2/100\n",
            "23/23 [==============================] - 183s 8s/step - loss: 0.7047 - accuracy: 0.5231 - val_loss: 0.7784 - val_accuracy: 0.1730\n",
            "Epoch 3/100\n",
            "23/23 [==============================] - 181s 8s/step - loss: 0.7246 - accuracy: 0.4488 - val_loss: 0.6594 - val_accuracy: 0.8439\n",
            "Epoch 4/100\n",
            "23/23 [==============================] - 182s 8s/step - loss: 0.6999 - accuracy: 0.4937 - val_loss: 0.6819 - val_accuracy: 0.5907\n",
            "Epoch 5/100\n",
            "23/23 [==============================] - 188s 8s/step - loss: 0.7012 - accuracy: 0.6101 - val_loss: 0.6448 - val_accuracy: 0.8776\n",
            "Epoch 6/100\n",
            "23/23 [==============================] - 186s 8s/step - loss: 0.6895 - accuracy: 0.6031 - val_loss: 0.5783 - val_accuracy: 0.7848\n",
            "Epoch 7/100\n",
            "23/23 [==============================] - 188s 8s/step - loss: 0.6943 - accuracy: 0.6311 - val_loss: 0.6194 - val_accuracy: 0.8059\n",
            "Epoch 8/100\n",
            "23/23 [==============================] - 185s 8s/step - loss: 0.6862 - accuracy: 0.7139 - val_loss: 0.7780 - val_accuracy: 0.4304\n",
            "Epoch 9/100\n",
            "23/23 [==============================] - 183s 8s/step - loss: 0.6810 - accuracy: 0.6620 - val_loss: 0.6946 - val_accuracy: 0.6076\n",
            "Epoch 10/100\n",
            "23/23 [==============================] - 181s 8s/step - loss: 0.7531 - accuracy: 0.5792 - val_loss: 0.7210 - val_accuracy: 0.4937\n",
            "Epoch 11/100\n",
            "23/23 [==============================] - 181s 8s/step - loss: 0.6689 - accuracy: 0.6522 - val_loss: 0.6713 - val_accuracy: 0.7468\n",
            "8/8 [==============================] - 44s 5s/step\n"
          ]
        },
        {
          "metadata": {
            "tags": null
          },
          "name": "stderr",
          "output_type": "stream",
          "text": [
            "\u001b[32m[I 2023-05-15 11:31:54,081]\u001b[0m Trial 2 finished with value: 0.669474144767426 and parameters: {'hidden_layers': 2, 'first_neuron': 512, 'drop_out': 0, 'optimizer': 'RMSprop', 'lr': 0.001239918094918828}. Best is trial 2 with value: 0.669474144767426.\u001b[0m\n"
          ]
        },
        {
          "output_type": "stream",
          "name": "stdout",
          "text": [
            "0.669474144767426\n",
            "Found 713 images belonging to 2 classes.\n",
            "Found 237 images belonging to 2 classes.\n",
            "Found 950 images belonging to 2 classes.\n",
            "Found 240 images belonging to 2 classes.\n",
            "Epoch 1/100\n",
            "23/23 [==============================] - 189s 8s/step - loss: 0.7032 - accuracy: 0.6311 - val_loss: 0.6504 - val_accuracy: 0.8565\n",
            "Epoch 2/100\n",
            "23/23 [==============================] - 183s 8s/step - loss: 0.6884 - accuracy: 0.5554 - val_loss: 0.5969 - val_accuracy: 0.8523\n",
            "Epoch 3/100\n",
            "23/23 [==============================] - 180s 8s/step - loss: 0.6899 - accuracy: 0.6003 - val_loss: 0.6925 - val_accuracy: 0.5443\n",
            "Epoch 4/100\n",
            "23/23 [==============================] - 184s 8s/step - loss: 0.6630 - accuracy: 0.5849 - val_loss: 0.5964 - val_accuracy: 0.7342\n",
            "Epoch 5/100\n",
            "23/23 [==============================] - 183s 8s/step - loss: 0.6689 - accuracy: 0.6466 - val_loss: 0.7223 - val_accuracy: 0.5232\n",
            "Epoch 6/100\n",
            "23/23 [==============================] - 186s 8s/step - loss: 0.6564 - accuracy: 0.6410 - val_loss: 0.6703 - val_accuracy: 0.5907\n",
            "Epoch 7/100\n",
            "23/23 [==============================] - 185s 8s/step - loss: 0.6563 - accuracy: 0.6283 - val_loss: 0.8356 - val_accuracy: 0.3122\n",
            "Epoch 8/100\n",
            "23/23 [==============================] - 185s 8s/step - loss: 0.6526 - accuracy: 0.6325 - val_loss: 0.7811 - val_accuracy: 0.4219\n",
            "Epoch 9/100\n",
            "23/23 [==============================] - 184s 8s/step - loss: 0.6526 - accuracy: 0.6311 - val_loss: 0.7481 - val_accuracy: 0.4937\n",
            "8/8 [==============================] - 46s 6s/step\n"
          ]
        },
        {
          "output_type": "stream",
          "name": "stderr",
          "text": [
            "\u001b[32m[I 2023-05-15 12:00:32,966]\u001b[0m Trial 3 finished with value: 0.629439356712084 and parameters: {'hidden_layers': 2, 'first_neuron': 256, 'drop_out': 0, 'optimizer': 'Adam', 'lr': 4.080533715588306e-05}. Best is trial 2 with value: 0.669474144767426.\u001b[0m\n"
          ]
        },
        {
          "output_type": "stream",
          "name": "stdout",
          "text": [
            "0.629439356712084\n",
            "Found 713 images belonging to 2 classes.\n",
            "Found 237 images belonging to 2 classes.\n",
            "Found 950 images belonging to 2 classes.\n",
            "Found 240 images belonging to 2 classes.\n",
            "Epoch 1/100\n",
            "23/23 [==============================] - 192s 8s/step - loss: 0.7059 - accuracy: 0.6985 - val_loss: 0.7011 - val_accuracy: 0.1772\n",
            "Epoch 2/100\n",
            "23/23 [==============================] - 187s 8s/step - loss: 0.6912 - accuracy: 0.5133 - val_loss: 0.6840 - val_accuracy: 0.6793\n",
            "Epoch 3/100\n",
            "23/23 [==============================] - 185s 8s/step - loss: 0.6865 - accuracy: 0.5891 - val_loss: 0.6795 - val_accuracy: 0.6329\n",
            "Epoch 4/100\n",
            "23/23 [==============================] - 182s 8s/step - loss: 0.6817 - accuracy: 0.5512 - val_loss: 0.6882 - val_accuracy: 0.5527\n",
            "Epoch 5/100\n",
            "23/23 [==============================] - 185s 8s/step - loss: 0.6812 - accuracy: 0.5989 - val_loss: 0.6450 - val_accuracy: 0.6878\n",
            "Epoch 6/100\n",
            "23/23 [==============================] - 186s 8s/step - loss: 0.6714 - accuracy: 0.5919 - val_loss: 0.6357 - val_accuracy: 0.6835\n",
            "Epoch 7/100\n",
            "23/23 [==============================] - 183s 8s/step - loss: 0.6669 - accuracy: 0.6143 - val_loss: 0.6360 - val_accuracy: 0.6624\n",
            "Epoch 8/100\n",
            "23/23 [==============================] - 184s 8s/step - loss: 0.6686 - accuracy: 0.6199 - val_loss: 0.7349 - val_accuracy: 0.4388\n",
            "Epoch 9/100\n",
            "23/23 [==============================] - 181s 8s/step - loss: 0.6683 - accuracy: 0.5708 - val_loss: 0.5781 - val_accuracy: 0.7679\n",
            "Epoch 10/100\n",
            "23/23 [==============================] - 183s 8s/step - loss: 0.6618 - accuracy: 0.6522 - val_loss: 0.7786 - val_accuracy: 0.3840\n",
            "Epoch 11/100\n",
            "23/23 [==============================] - 183s 8s/step - loss: 0.6595 - accuracy: 0.6045 - val_loss: 0.7538 - val_accuracy: 0.4430\n",
            "Epoch 12/100\n",
            "23/23 [==============================] - 181s 8s/step - loss: 0.6530 - accuracy: 0.5947 - val_loss: 0.8955 - val_accuracy: 0.2532\n",
            "Epoch 13/100\n",
            "23/23 [==============================] - 185s 8s/step - loss: 0.6489 - accuracy: 0.5498 - val_loss: 0.5599 - val_accuracy: 0.7553\n",
            "Epoch 14/100\n",
            "23/23 [==============================] - 181s 8s/step - loss: 0.6607 - accuracy: 0.6031 - val_loss: 0.7485 - val_accuracy: 0.4515\n",
            "Epoch 15/100\n",
            "23/23 [==============================] - 183s 8s/step - loss: 0.6514 - accuracy: 0.6213 - val_loss: 0.7641 - val_accuracy: 0.4430\n",
            "Epoch 16/100\n",
            "23/23 [==============================] - 183s 8s/step - loss: 0.6531 - accuracy: 0.6199 - val_loss: 0.8438 - val_accuracy: 0.3544\n",
            "Epoch 17/100\n",
            "23/23 [==============================] - 182s 8s/step - loss: 0.6519 - accuracy: 0.5792 - val_loss: 0.8758 - val_accuracy: 0.3333\n",
            "Epoch 18/100\n",
            "23/23 [==============================] - 181s 8s/step - loss: 0.6542 - accuracy: 0.5568 - val_loss: 0.6196 - val_accuracy: 0.6371\n",
            "8/8 [==============================] - 44s 5s/step\n"
          ]
        },
        {
          "output_type": "stream",
          "name": "stderr",
          "text": [
            "\u001b[32m[I 2023-05-15 12:56:37,730]\u001b[0m Trial 4 finished with value: 0.6476107465135357 and parameters: {'hidden_layers': 2, 'first_neuron': 128, 'drop_out': 0, 'optimizer': 'RMSprop', 'lr': 2.881977764573328e-05}. Best is trial 2 with value: 0.669474144767426.\u001b[0m\n"
          ]
        },
        {
          "output_type": "stream",
          "name": "stdout",
          "text": [
            "0.6476107465135357\n",
            "Found 713 images belonging to 2 classes.\n",
            "Found 237 images belonging to 2 classes.\n",
            "Found 950 images belonging to 2 classes.\n",
            "Found 240 images belonging to 2 classes.\n",
            "Epoch 1/100\n",
            "23/23 [==============================] - 189s 8s/step - loss: 0.7067 - accuracy: 0.5049 - val_loss: 0.6367 - val_accuracy: 0.8270\n",
            "Epoch 2/100\n",
            "23/23 [==============================] - 183s 8s/step - loss: 0.6987 - accuracy: 0.6157 - val_loss: 0.6640 - val_accuracy: 0.8270\n",
            "Epoch 3/100\n",
            "23/23 [==============================] - 184s 8s/step - loss: 0.6983 - accuracy: 0.6396 - val_loss: 0.6785 - val_accuracy: 0.8270\n",
            "Epoch 4/100\n",
            "23/23 [==============================] - 183s 8s/step - loss: 0.6957 - accuracy: 0.5891 - val_loss: 0.6833 - val_accuracy: 0.8228\n",
            "Epoch 5/100\n",
            "23/23 [==============================] - 182s 8s/step - loss: 0.6923 - accuracy: 0.6185 - val_loss: 0.6974 - val_accuracy: 0.3629\n",
            "Epoch 6/100\n",
            "23/23 [==============================] - 180s 8s/step - loss: 0.6908 - accuracy: 0.5750 - val_loss: 0.7020 - val_accuracy: 0.2954\n",
            "8/8 [==============================] - 43s 5s/step\n"
          ]
        },
        {
          "output_type": "stream",
          "name": "stderr",
          "text": [
            "\u001b[32m[I 2023-05-15 13:15:52,972]\u001b[0m Trial 5 finished with value: 0.4526558891454965 and parameters: {'hidden_layers': 2, 'first_neuron': 128, 'drop_out': 0.5, 'optimizer': 'RMSprop', 'lr': 3.061741280012905e-05}. Best is trial 2 with value: 0.669474144767426.\u001b[0m\n"
          ]
        },
        {
          "output_type": "stream",
          "name": "stdout",
          "text": [
            "0.4526558891454965\n",
            "Found 713 images belonging to 2 classes.\n",
            "Found 237 images belonging to 2 classes.\n",
            "Found 950 images belonging to 2 classes.\n",
            "Found 240 images belonging to 2 classes.\n",
            "Epoch 1/100\n",
            "23/23 [==============================] - 190s 8s/step - loss: 0.7894 - accuracy: 0.6003 - val_loss: 0.6477 - val_accuracy: 0.8270\n",
            "Epoch 2/100\n",
            "23/23 [==============================] - 183s 8s/step - loss: 0.6939 - accuracy: 0.6788 - val_loss: 0.6624 - val_accuracy: 0.6793\n",
            "Epoch 3/100\n",
            "23/23 [==============================] - 181s 8s/step - loss: 0.6863 - accuracy: 0.6339 - val_loss: 0.7128 - val_accuracy: 0.4346\n",
            "Epoch 4/100\n",
            "23/23 [==============================] - 183s 8s/step - loss: 0.6757 - accuracy: 0.6410 - val_loss: 0.5982 - val_accuracy: 0.7511\n",
            "Epoch 5/100\n",
            "23/23 [==============================] - 183s 8s/step - loss: 0.6682 - accuracy: 0.4769 - val_loss: 0.5399 - val_accuracy: 0.7426\n",
            "Epoch 6/100\n",
            "23/23 [==============================] - 185s 8s/step - loss: 0.6698 - accuracy: 0.6199 - val_loss: 0.5883 - val_accuracy: 0.7131\n",
            "Epoch 7/100\n",
            "23/23 [==============================] - 182s 8s/step - loss: 0.6503 - accuracy: 0.6045 - val_loss: 0.7150 - val_accuracy: 0.3291\n",
            "Epoch 8/100\n",
            "23/23 [==============================] - 184s 8s/step - loss: 0.6404 - accuracy: 0.5849 - val_loss: 0.6113 - val_accuracy: 0.5907\n",
            "Epoch 9/100\n",
            "23/23 [==============================] - 182s 8s/step - loss: 0.6593 - accuracy: 0.5498 - val_loss: 0.6421 - val_accuracy: 0.5992\n",
            "Epoch 10/100\n",
            "23/23 [==============================] - 183s 8s/step - loss: 0.6417 - accuracy: 0.5947 - val_loss: 0.7675 - val_accuracy: 0.3502\n",
            "8/8 [==============================] - 46s 6s/step\n"
          ]
        },
        {
          "output_type": "stream",
          "name": "stderr",
          "text": [
            "\u001b[32m[I 2023-05-15 13:47:29,310]\u001b[0m Trial 6 finished with value: 0.6318470039980646 and parameters: {'hidden_layers': 2, 'first_neuron': 512, 'drop_out': 0.5, 'optimizer': 'AdamW', 'lr': 0.0006056818435462832}. Best is trial 2 with value: 0.669474144767426.\u001b[0m\n"
          ]
        },
        {
          "output_type": "stream",
          "name": "stdout",
          "text": [
            "0.6318470039980646\n",
            "Found 713 images belonging to 2 classes.\n",
            "Found 237 images belonging to 2 classes.\n",
            "Found 950 images belonging to 2 classes.\n",
            "Found 240 images belonging to 2 classes.\n",
            "Epoch 1/100\n",
            "23/23 [==============================] - 188s 8s/step - loss: 0.7672 - accuracy: 0.5231 - val_loss: 0.6831 - val_accuracy: 0.8270\n",
            "Epoch 2/100\n",
            "23/23 [==============================] - 185s 8s/step - loss: 0.7047 - accuracy: 0.5470 - val_loss: 0.6808 - val_accuracy: 0.8270\n",
            "Epoch 3/100\n",
            "23/23 [==============================] - 186s 8s/step - loss: 0.6983 - accuracy: 0.6830 - val_loss: 0.5945 - val_accuracy: 0.8270\n",
            "Epoch 4/100\n",
            "23/23 [==============================] - 181s 8s/step - loss: 0.7043 - accuracy: 0.6494 - val_loss: 0.7389 - val_accuracy: 0.3586\n",
            "Epoch 5/100\n",
            "23/23 [==============================] - 186s 8s/step - loss: 0.7043 - accuracy: 0.6339 - val_loss: 0.7033 - val_accuracy: 0.3629\n",
            "Epoch 6/100\n",
            "23/23 [==============================] - 184s 8s/step - loss: 0.7121 - accuracy: 0.4712 - val_loss: 0.6026 - val_accuracy: 0.8143\n",
            "Epoch 7/100\n",
            "23/23 [==============================] - 186s 8s/step - loss: 0.6909 - accuracy: 0.5484 - val_loss: 0.8255 - val_accuracy: 0.1730\n",
            "Epoch 8/100\n",
            "23/23 [==============================] - 185s 8s/step - loss: 0.6901 - accuracy: 0.5456 - val_loss: 0.7614 - val_accuracy: 0.2152\n",
            "8/8 [==============================] - 44s 5s/step\n"
          ]
        },
        {
          "output_type": "stream",
          "name": "stderr",
          "text": [
            "\u001b[32m[I 2023-05-15 14:13:06,242]\u001b[0m Trial 7 finished with value: 0.4526558891454965 and parameters: {'hidden_layers': 2, 'first_neuron': 256, 'drop_out': 0.5, 'optimizer': 'RMSprop', 'lr': 0.0018185747467442438}. Best is trial 2 with value: 0.669474144767426.\u001b[0m\n"
          ]
        },
        {
          "output_type": "stream",
          "name": "stdout",
          "text": [
            "0.4526558891454965\n",
            "Found 713 images belonging to 2 classes.\n",
            "Found 237 images belonging to 2 classes.\n",
            "Found 950 images belonging to 2 classes.\n",
            "Found 240 images belonging to 2 classes.\n",
            "Epoch 1/100\n",
            "23/23 [==============================] - 189s 8s/step - loss: 0.7672 - accuracy: 0.4909 - val_loss: 0.6098 - val_accuracy: 0.8270\n",
            "Epoch 2/100\n",
            "23/23 [==============================] - 183s 8s/step - loss: 0.6933 - accuracy: 0.7405 - val_loss: 0.6173 - val_accuracy: 0.8481\n",
            "Epoch 3/100\n",
            "23/23 [==============================] - 183s 8s/step - loss: 0.6945 - accuracy: 0.4067 - val_loss: 0.6904 - val_accuracy: 0.5823\n",
            "Epoch 4/100\n",
            "23/23 [==============================] - 183s 8s/step - loss: 0.6912 - accuracy: 0.6564 - val_loss: 0.6117 - val_accuracy: 0.7679\n",
            "Epoch 5/100\n",
            "23/23 [==============================] - 185s 8s/step - loss: 0.6744 - accuracy: 0.5835 - val_loss: 0.6497 - val_accuracy: 0.7257\n",
            "Epoch 6/100\n",
            "23/23 [==============================] - 187s 8s/step - loss: 0.6667 - accuracy: 0.7391 - val_loss: 0.6756 - val_accuracy: 0.7089\n",
            "8/8 [==============================] - 46s 6s/step\n"
          ]
        },
        {
          "output_type": "stream",
          "name": "stderr",
          "text": [
            "\u001b[32m[I 2023-05-15 14:32:34,337]\u001b[0m Trial 8 finished with value: 0.4526558891454965 and parameters: {'hidden_layers': 2, 'first_neuron': 128, 'drop_out': 0.3, 'optimizer': 'Adam', 'lr': 0.0005445726675956471}. Best is trial 2 with value: 0.669474144767426.\u001b[0m\n"
          ]
        },
        {
          "output_type": "stream",
          "name": "stdout",
          "text": [
            "0.4526558891454965\n",
            "Found 713 images belonging to 2 classes.\n",
            "Found 237 images belonging to 2 classes.\n",
            "Found 950 images belonging to 2 classes.\n",
            "Found 240 images belonging to 2 classes.\n",
            "Epoch 1/100\n",
            "23/23 [==============================] - 193s 8s/step - loss: 0.6964 - accuracy: 0.6101 - val_loss: 0.6710 - val_accuracy: 0.6245\n",
            "Epoch 2/100\n",
            "23/23 [==============================] - 183s 8s/step - loss: 0.6787 - accuracy: 0.5778 - val_loss: 0.8311 - val_accuracy: 0.1899\n",
            "Epoch 3/100\n",
            "23/23 [==============================] - 181s 8s/step - loss: 0.6649 - accuracy: 0.6213 - val_loss: 0.6723 - val_accuracy: 0.5612\n",
            "Epoch 4/100\n",
            "23/23 [==============================] - 187s 8s/step - loss: 0.6643 - accuracy: 0.5288 - val_loss: 0.4726 - val_accuracy: 0.8312\n",
            "Epoch 5/100\n",
            "23/23 [==============================] - 184s 8s/step - loss: 0.6809 - accuracy: 0.5919 - val_loss: 0.6939 - val_accuracy: 0.4979\n",
            "Epoch 6/100\n",
            "23/23 [==============================] - 183s 8s/step - loss: 0.6540 - accuracy: 0.5989 - val_loss: 0.6017 - val_accuracy: 0.6793\n",
            "Epoch 7/100\n",
            "23/23 [==============================] - 183s 8s/step - loss: 0.6542 - accuracy: 0.5947 - val_loss: 0.6901 - val_accuracy: 0.5021\n",
            "Epoch 8/100\n",
            "23/23 [==============================] - 183s 8s/step - loss: 0.6669 - accuracy: 0.5849 - val_loss: 0.8074 - val_accuracy: 0.3502\n",
            "Epoch 9/100\n",
            "23/23 [==============================] - 182s 8s/step - loss: 0.6421 - accuracy: 0.6269 - val_loss: 0.6728 - val_accuracy: 0.5485\n",
            "8/8 [==============================] - 45s 5s/step\n"
          ]
        },
        {
          "output_type": "stream",
          "name": "stderr",
          "text": [
            "\u001b[32m[I 2023-05-15 15:01:10,266]\u001b[0m Trial 9 finished with value: 0.6070954907161803 and parameters: {'hidden_layers': 1, 'first_neuron': 256, 'drop_out': 0, 'optimizer': 'AdamW', 'lr': 4.011987108453446e-05}. Best is trial 2 with value: 0.669474144767426.\u001b[0m\n"
          ]
        },
        {
          "output_type": "stream",
          "name": "stdout",
          "text": [
            "0.6070954907161803\n",
            "Number of finished trials: 10\n",
            "Best trial:\n",
            "  Value: 0.669474144767426\n",
            "  Params: \n",
            "    hidden_layers: 2\n",
            "    first_neuron: 512\n",
            "    drop_out: 0\n",
            "    optimizer: RMSprop\n",
            "    lr: 0.001239918094918828\n"
          ]
        }
      ],
      "source": [
        "def hp_basic_cnn(trail):\n",
        "\n",
        "  clear_session()\n",
        "\n",
        "  # preprocess data\n",
        "  train, val, train_val, test = train_val_test_generators(train_dir, val_dir, train_val_dir, test_dir)\n",
        "\n",
        "  class_weights = compute_class_weight(class_weight = 'balanced', classes = np.unique(train.classes), y = train.classes)\n",
        "  class_weights = {i : class_weights[i] for i in range(2)}\n",
        "\n",
        "  # build model\n",
        "  hidden_layers = trail.suggest_int('hidden_layers', 1, 2)\n",
        "  first_neuron = trail.suggest_categorical('first_neuron', [128, 256, 512])\n",
        "  drop_out = trail.suggest_categorical('drop_out', [0, 0.3, 0.5])\n",
        "\n",
        "  model = tf.keras.models.Sequential([ \n",
        "      tf.keras.layers.Conv2D(32, (3,3), activation='relu', input_shape=(224, 224, 3)),\n",
        "      tf.keras.layers.MaxPooling2D(2,2),\n",
        "      tf.keras.layers.Conv2D(64, (3,3), activation='relu'),\n",
        "      tf.keras.layers.MaxPooling2D(2,2), \n",
        "      tf.keras.layers.Conv2D(128, (3,3), activation='relu'), \n",
        "      tf.keras.layers.MaxPooling2D(2,2),\n",
        "      tf.keras.layers.Flatten() ])\n",
        "  \n",
        "  for i in range(hidden_layers):\n",
        "    model.add(Dense(first_neuron, activation='relu'))\n",
        "    model.add(Dropout(drop_out))\n",
        "\n",
        "  model.add(Dense(1, activation='sigmoid'))\n",
        "\n",
        "  # compile/train model\n",
        "  optimizer_name = trail.suggest_categorical('optimizer', ['Adam', 'RMSprop', 'AdamW'])\n",
        "  learning_rate = trail.suggest_float('lr', 1e-5, 1e-2, log=True)\n",
        "\n",
        "  if optimizer_name == 'Adam':\n",
        "      optimizer = Adam(learning_rate=learning_rate)\n",
        "  elif optimizer_name == 'RMSprop':\n",
        "      optimizer = RMSprop(learning_rate=learning_rate)\n",
        "  elif optimizer_name == 'AdamW':\n",
        "      optimizer = AdamW(learning_rate=learning_rate)\n",
        "\n",
        "  model.compile(optimizer=optimizer,\n",
        "                loss = 'binary_crossentropy', \n",
        "                metrics = ['accuracy'])#, Recall(), Precision()\n",
        "  \n",
        "  early_stop = EarlyStopping(monitor='val_loss', patience=5, restore_best_weights=True)\n",
        "\n",
        "  model.fit(train, validation_data=val, class_weight=class_weights, epochs = 100, callbacks=[early_stop])\n",
        "  \n",
        "  # evaluate macro f1 score\n",
        "  y_pred_val = model.predict(val)\n",
        "  y_pred_val = np.round(y_pred_val)\n",
        "\n",
        "  f1score_macro = f1_score(val.labels, y_pred_val, average = 'macro')\n",
        "  print(f1score_macro)\n",
        "  \n",
        "  return f1score_macro\n",
        "\n",
        "\n",
        "if __name__ == \"__main__\":\n",
        "    warnings.warn(\n",
        "        \"Recent Keras release (2.4.0) simply redirects all APIs \"\n",
        "        \"in the standalone keras package to point to tf.keras. \"\n",
        "        \"There is now only one Keras: tf.keras. \"\n",
        "        \"There may be some breaking changes for some workflows by upgrading to keras 2.4.0. \"\n",
        "        \"Test before upgrading. \"\n",
        "        \"REF:https://github.com/keras-team/keras/releases/tag/2.4.0\"\n",
        "    )\n",
        "    study = optuna.create_study(direction=\"maximize\")\n",
        "    study.optimize(hp_basic_cnn, n_trials=10)\n",
        "\n",
        "    print(\"Number of finished trials: {}\".format(len(study.trials)))\n",
        "\n",
        "    print(\"Best trial:\")\n",
        "    trial = study.best_trial\n",
        "\n",
        "    print(\"  Value: {}\".format(trial.value))\n",
        "\n",
        "    print(\"  Params: \")\n",
        "    for key, value in trial.params.items():\n",
        "        print(\"    {}: {}\".format(key, value))"
      ]
    },
    {
      "cell_type": "code",
      "execution_count": null,
      "metadata": {
        "id": "l1R9D0KuHg_3",
        "colab": {
          "base_uri": "https://localhost:8080/",
          "height": 600
        },
        "outputId": "c0b5aa96-36d3-48b0-fa2e-d342930cdf04"
      },
      "outputs": [
        {
          "output_type": "execute_result",
          "data": {
            "text/plain": [
              "   number     value             datetime_start          datetime_complete  \\\n",
              "0       0  0.452656 2023-05-15 09:35:14.972206 2023-05-15 09:57:52.465045   \n",
              "1       1  0.613683 2023-05-15 09:57:52.467209 2023-05-15 10:57:12.327324   \n",
              "2       2  0.669474 2023-05-15 10:57:12.329114 2023-05-15 11:31:54.081525   \n",
              "3       3  0.629439 2023-05-15 11:31:54.082825 2023-05-15 12:00:32.966226   \n",
              "4       4  0.647611 2023-05-15 12:00:32.967674 2023-05-15 12:56:37.730532   \n",
              "5       5  0.452656 2023-05-15 12:56:37.731790 2023-05-15 13:15:52.972518   \n",
              "6       6  0.631847 2023-05-15 13:15:52.974445 2023-05-15 13:47:29.310660   \n",
              "7       7  0.452656 2023-05-15 13:47:29.312364 2023-05-15 14:13:06.242166   \n",
              "8       8  0.452656 2023-05-15 14:13:06.244099 2023-05-15 14:32:34.337442   \n",
              "9       9  0.607095 2023-05-15 14:32:34.338799 2023-05-15 15:01:10.265966   \n",
              "\n",
              "                duration  params_drop_out  params_first_neuron  \\\n",
              "0 0 days 00:22:37.492839              0.5                  256   \n",
              "1 0 days 00:59:19.860115              0.5                  128   \n",
              "2 0 days 00:34:41.752411              0.0                  512   \n",
              "3 0 days 00:28:38.883401              0.0                  256   \n",
              "4 0 days 00:56:04.762858              0.0                  128   \n",
              "5 0 days 00:19:15.240728              0.5                  128   \n",
              "6 0 days 00:31:36.336215              0.5                  512   \n",
              "7 0 days 00:25:36.929802              0.5                  256   \n",
              "8 0 days 00:19:28.093343              0.3                  128   \n",
              "9 0 days 00:28:35.927167              0.0                  256   \n",
              "\n",
              "   params_hidden_layers  params_lr params_optimizer     state  \n",
              "0                     2   0.000242          RMSprop  COMPLETE  \n",
              "1                     2   0.000016          RMSprop  COMPLETE  \n",
              "2                     2   0.001240          RMSprop  COMPLETE  \n",
              "3                     2   0.000041             Adam  COMPLETE  \n",
              "4                     2   0.000029          RMSprop  COMPLETE  \n",
              "5                     2   0.000031          RMSprop  COMPLETE  \n",
              "6                     2   0.000606            AdamW  COMPLETE  \n",
              "7                     2   0.001819          RMSprop  COMPLETE  \n",
              "8                     2   0.000545             Adam  COMPLETE  \n",
              "9                     1   0.000040            AdamW  COMPLETE  "
            ],
            "text/html": [
              "\n",
              "  <div id=\"df-6cfe364c-4333-4fe3-9298-8fb42c00ccd8\">\n",
              "    <div class=\"colab-df-container\">\n",
              "      <div>\n",
              "<style scoped>\n",
              "    .dataframe tbody tr th:only-of-type {\n",
              "        vertical-align: middle;\n",
              "    }\n",
              "\n",
              "    .dataframe tbody tr th {\n",
              "        vertical-align: top;\n",
              "    }\n",
              "\n",
              "    .dataframe thead th {\n",
              "        text-align: right;\n",
              "    }\n",
              "</style>\n",
              "<table border=\"1\" class=\"dataframe\">\n",
              "  <thead>\n",
              "    <tr style=\"text-align: right;\">\n",
              "      <th></th>\n",
              "      <th>number</th>\n",
              "      <th>value</th>\n",
              "      <th>datetime_start</th>\n",
              "      <th>datetime_complete</th>\n",
              "      <th>duration</th>\n",
              "      <th>params_drop_out</th>\n",
              "      <th>params_first_neuron</th>\n",
              "      <th>params_hidden_layers</th>\n",
              "      <th>params_lr</th>\n",
              "      <th>params_optimizer</th>\n",
              "      <th>state</th>\n",
              "    </tr>\n",
              "  </thead>\n",
              "  <tbody>\n",
              "    <tr>\n",
              "      <th>0</th>\n",
              "      <td>0</td>\n",
              "      <td>0.452656</td>\n",
              "      <td>2023-05-15 09:35:14.972206</td>\n",
              "      <td>2023-05-15 09:57:52.465045</td>\n",
              "      <td>0 days 00:22:37.492839</td>\n",
              "      <td>0.5</td>\n",
              "      <td>256</td>\n",
              "      <td>2</td>\n",
              "      <td>0.000242</td>\n",
              "      <td>RMSprop</td>\n",
              "      <td>COMPLETE</td>\n",
              "    </tr>\n",
              "    <tr>\n",
              "      <th>1</th>\n",
              "      <td>1</td>\n",
              "      <td>0.613683</td>\n",
              "      <td>2023-05-15 09:57:52.467209</td>\n",
              "      <td>2023-05-15 10:57:12.327324</td>\n",
              "      <td>0 days 00:59:19.860115</td>\n",
              "      <td>0.5</td>\n",
              "      <td>128</td>\n",
              "      <td>2</td>\n",
              "      <td>0.000016</td>\n",
              "      <td>RMSprop</td>\n",
              "      <td>COMPLETE</td>\n",
              "    </tr>\n",
              "    <tr>\n",
              "      <th>2</th>\n",
              "      <td>2</td>\n",
              "      <td>0.669474</td>\n",
              "      <td>2023-05-15 10:57:12.329114</td>\n",
              "      <td>2023-05-15 11:31:54.081525</td>\n",
              "      <td>0 days 00:34:41.752411</td>\n",
              "      <td>0.0</td>\n",
              "      <td>512</td>\n",
              "      <td>2</td>\n",
              "      <td>0.001240</td>\n",
              "      <td>RMSprop</td>\n",
              "      <td>COMPLETE</td>\n",
              "    </tr>\n",
              "    <tr>\n",
              "      <th>3</th>\n",
              "      <td>3</td>\n",
              "      <td>0.629439</td>\n",
              "      <td>2023-05-15 11:31:54.082825</td>\n",
              "      <td>2023-05-15 12:00:32.966226</td>\n",
              "      <td>0 days 00:28:38.883401</td>\n",
              "      <td>0.0</td>\n",
              "      <td>256</td>\n",
              "      <td>2</td>\n",
              "      <td>0.000041</td>\n",
              "      <td>Adam</td>\n",
              "      <td>COMPLETE</td>\n",
              "    </tr>\n",
              "    <tr>\n",
              "      <th>4</th>\n",
              "      <td>4</td>\n",
              "      <td>0.647611</td>\n",
              "      <td>2023-05-15 12:00:32.967674</td>\n",
              "      <td>2023-05-15 12:56:37.730532</td>\n",
              "      <td>0 days 00:56:04.762858</td>\n",
              "      <td>0.0</td>\n",
              "      <td>128</td>\n",
              "      <td>2</td>\n",
              "      <td>0.000029</td>\n",
              "      <td>RMSprop</td>\n",
              "      <td>COMPLETE</td>\n",
              "    </tr>\n",
              "    <tr>\n",
              "      <th>5</th>\n",
              "      <td>5</td>\n",
              "      <td>0.452656</td>\n",
              "      <td>2023-05-15 12:56:37.731790</td>\n",
              "      <td>2023-05-15 13:15:52.972518</td>\n",
              "      <td>0 days 00:19:15.240728</td>\n",
              "      <td>0.5</td>\n",
              "      <td>128</td>\n",
              "      <td>2</td>\n",
              "      <td>0.000031</td>\n",
              "      <td>RMSprop</td>\n",
              "      <td>COMPLETE</td>\n",
              "    </tr>\n",
              "    <tr>\n",
              "      <th>6</th>\n",
              "      <td>6</td>\n",
              "      <td>0.631847</td>\n",
              "      <td>2023-05-15 13:15:52.974445</td>\n",
              "      <td>2023-05-15 13:47:29.310660</td>\n",
              "      <td>0 days 00:31:36.336215</td>\n",
              "      <td>0.5</td>\n",
              "      <td>512</td>\n",
              "      <td>2</td>\n",
              "      <td>0.000606</td>\n",
              "      <td>AdamW</td>\n",
              "      <td>COMPLETE</td>\n",
              "    </tr>\n",
              "    <tr>\n",
              "      <th>7</th>\n",
              "      <td>7</td>\n",
              "      <td>0.452656</td>\n",
              "      <td>2023-05-15 13:47:29.312364</td>\n",
              "      <td>2023-05-15 14:13:06.242166</td>\n",
              "      <td>0 days 00:25:36.929802</td>\n",
              "      <td>0.5</td>\n",
              "      <td>256</td>\n",
              "      <td>2</td>\n",
              "      <td>0.001819</td>\n",
              "      <td>RMSprop</td>\n",
              "      <td>COMPLETE</td>\n",
              "    </tr>\n",
              "    <tr>\n",
              "      <th>8</th>\n",
              "      <td>8</td>\n",
              "      <td>0.452656</td>\n",
              "      <td>2023-05-15 14:13:06.244099</td>\n",
              "      <td>2023-05-15 14:32:34.337442</td>\n",
              "      <td>0 days 00:19:28.093343</td>\n",
              "      <td>0.3</td>\n",
              "      <td>128</td>\n",
              "      <td>2</td>\n",
              "      <td>0.000545</td>\n",
              "      <td>Adam</td>\n",
              "      <td>COMPLETE</td>\n",
              "    </tr>\n",
              "    <tr>\n",
              "      <th>9</th>\n",
              "      <td>9</td>\n",
              "      <td>0.607095</td>\n",
              "      <td>2023-05-15 14:32:34.338799</td>\n",
              "      <td>2023-05-15 15:01:10.265966</td>\n",
              "      <td>0 days 00:28:35.927167</td>\n",
              "      <td>0.0</td>\n",
              "      <td>256</td>\n",
              "      <td>1</td>\n",
              "      <td>0.000040</td>\n",
              "      <td>AdamW</td>\n",
              "      <td>COMPLETE</td>\n",
              "    </tr>\n",
              "  </tbody>\n",
              "</table>\n",
              "</div>\n",
              "      <button class=\"colab-df-convert\" onclick=\"convertToInteractive('df-6cfe364c-4333-4fe3-9298-8fb42c00ccd8')\"\n",
              "              title=\"Convert this dataframe to an interactive table.\"\n",
              "              style=\"display:none;\">\n",
              "        \n",
              "  <svg xmlns=\"http://www.w3.org/2000/svg\" height=\"24px\"viewBox=\"0 0 24 24\"\n",
              "       width=\"24px\">\n",
              "    <path d=\"M0 0h24v24H0V0z\" fill=\"none\"/>\n",
              "    <path d=\"M18.56 5.44l.94 2.06.94-2.06 2.06-.94-2.06-.94-.94-2.06-.94 2.06-2.06.94zm-11 1L8.5 8.5l.94-2.06 2.06-.94-2.06-.94L8.5 2.5l-.94 2.06-2.06.94zm10 10l.94 2.06.94-2.06 2.06-.94-2.06-.94-.94-2.06-.94 2.06-2.06.94z\"/><path d=\"M17.41 7.96l-1.37-1.37c-.4-.4-.92-.59-1.43-.59-.52 0-1.04.2-1.43.59L10.3 9.45l-7.72 7.72c-.78.78-.78 2.05 0 2.83L4 21.41c.39.39.9.59 1.41.59.51 0 1.02-.2 1.41-.59l7.78-7.78 2.81-2.81c.8-.78.8-2.07 0-2.86zM5.41 20L4 18.59l7.72-7.72 1.47 1.35L5.41 20z\"/>\n",
              "  </svg>\n",
              "      </button>\n",
              "      \n",
              "  <style>\n",
              "    .colab-df-container {\n",
              "      display:flex;\n",
              "      flex-wrap:wrap;\n",
              "      gap: 12px;\n",
              "    }\n",
              "\n",
              "    .colab-df-convert {\n",
              "      background-color: #E8F0FE;\n",
              "      border: none;\n",
              "      border-radius: 50%;\n",
              "      cursor: pointer;\n",
              "      display: none;\n",
              "      fill: #1967D2;\n",
              "      height: 32px;\n",
              "      padding: 0 0 0 0;\n",
              "      width: 32px;\n",
              "    }\n",
              "\n",
              "    .colab-df-convert:hover {\n",
              "      background-color: #E2EBFA;\n",
              "      box-shadow: 0px 1px 2px rgba(60, 64, 67, 0.3), 0px 1px 3px 1px rgba(60, 64, 67, 0.15);\n",
              "      fill: #174EA6;\n",
              "    }\n",
              "\n",
              "    [theme=dark] .colab-df-convert {\n",
              "      background-color: #3B4455;\n",
              "      fill: #D2E3FC;\n",
              "    }\n",
              "\n",
              "    [theme=dark] .colab-df-convert:hover {\n",
              "      background-color: #434B5C;\n",
              "      box-shadow: 0px 1px 3px 1px rgba(0, 0, 0, 0.15);\n",
              "      filter: drop-shadow(0px 1px 2px rgba(0, 0, 0, 0.3));\n",
              "      fill: #FFFFFF;\n",
              "    }\n",
              "  </style>\n",
              "\n",
              "      <script>\n",
              "        const buttonEl =\n",
              "          document.querySelector('#df-6cfe364c-4333-4fe3-9298-8fb42c00ccd8 button.colab-df-convert');\n",
              "        buttonEl.style.display =\n",
              "          google.colab.kernel.accessAllowed ? 'block' : 'none';\n",
              "\n",
              "        async function convertToInteractive(key) {\n",
              "          const element = document.querySelector('#df-6cfe364c-4333-4fe3-9298-8fb42c00ccd8');\n",
              "          const dataTable =\n",
              "            await google.colab.kernel.invokeFunction('convertToInteractive',\n",
              "                                                     [key], {});\n",
              "          if (!dataTable) return;\n",
              "\n",
              "          const docLinkHtml = 'Like what you see? Visit the ' +\n",
              "            '<a target=\"_blank\" href=https://colab.research.google.com/notebooks/data_table.ipynb>data table notebook</a>'\n",
              "            + ' to learn more about interactive tables.';\n",
              "          element.innerHTML = '';\n",
              "          dataTable['output_type'] = 'display_data';\n",
              "          await google.colab.output.renderOutput(dataTable, element);\n",
              "          const docLink = document.createElement('div');\n",
              "          docLink.innerHTML = docLinkHtml;\n",
              "          element.appendChild(docLink);\n",
              "        }\n",
              "      </script>\n",
              "    </div>\n",
              "  </div>\n",
              "  "
            ]
          },
          "metadata": {},
          "execution_count": 14
        }
      ],
      "source": [
        "trials_df_ = study.trials_dataframe()\n",
        "trials_df_"
      ]
    },
    {
      "cell_type": "code",
      "execution_count": null,
      "metadata": {
        "id": "iaEKhfFl06Qj",
        "colab": {
          "base_uri": "https://localhost:8080/",
          "height": 542
        },
        "outputId": "3dfb2fb5-071d-44fb-9c75-dd698708b0f1"
      },
      "outputs": [
        {
          "output_type": "display_data",
          "data": {
            "text/html": [
              "<html>\n",
              "<head><meta charset=\"utf-8\" /></head>\n",
              "<body>\n",
              "    <div>            <script src=\"https://cdnjs.cloudflare.com/ajax/libs/mathjax/2.7.5/MathJax.js?config=TeX-AMS-MML_SVG\"></script><script type=\"text/javascript\">if (window.MathJax && window.MathJax.Hub && window.MathJax.Hub.Config) {window.MathJax.Hub.Config({SVG: {font: \"STIX-Web\"}});}</script>                <script type=\"text/javascript\">window.PlotlyConfig = {MathJaxConfig: 'local'};</script>\n",
              "        <script src=\"https://cdn.plot.ly/plotly-2.18.2.min.js\"></script>                <div id=\"1fb0d1fe-94b5-47b1-ab06-58610cb7d43e\" class=\"plotly-graph-div\" style=\"height:525px; width:100%;\"></div>            <script type=\"text/javascript\">                                    window.PLOTLYENV=window.PLOTLYENV || {};                                    if (document.getElementById(\"1fb0d1fe-94b5-47b1-ab06-58610cb7d43e\")) {                    Plotly.newPlot(                        \"1fb0d1fe-94b5-47b1-ab06-58610cb7d43e\",                        [{\"cliponaxis\":false,\"hovertemplate\":[\"hidden_layers (IntDistribution): 0.0013284205550634991<extra></extra>\",\"optimizer (CategoricalDistribution): 0.11474069113009605<extra></extra>\",\"first_neuron (CategoricalDistribution): 0.15831768837465093<extra></extra>\",\"lr (FloatDistribution): 0.1640217563022694<extra></extra>\",\"drop_out (CategoricalDistribution): 0.5615914436379201<extra></extra>\"],\"marker\":{\"color\":\"rgb(66,146,198)\"},\"orientation\":\"h\",\"text\":[\"<0.01\",\"0.11\",\"0.16\",\"0.16\",\"0.56\"],\"textposition\":\"outside\",\"x\":[0.0013284205550634991,0.11474069113009605,0.15831768837465093,0.1640217563022694,0.5615914436379201],\"y\":[\"hidden_layers\",\"optimizer\",\"first_neuron\",\"lr\",\"drop_out\"],\"type\":\"bar\"}],                        {\"showlegend\":false,\"title\":{\"text\":\"Hyperparameter Importances\"},\"xaxis\":{\"title\":{\"text\":\"Importance for Objective Value\"}},\"yaxis\":{\"title\":{\"text\":\"Hyperparameter\"}},\"template\":{\"data\":{\"histogram2dcontour\":[{\"type\":\"histogram2dcontour\",\"colorbar\":{\"outlinewidth\":0,\"ticks\":\"\"},\"colorscale\":[[0.0,\"#0d0887\"],[0.1111111111111111,\"#46039f\"],[0.2222222222222222,\"#7201a8\"],[0.3333333333333333,\"#9c179e\"],[0.4444444444444444,\"#bd3786\"],[0.5555555555555556,\"#d8576b\"],[0.6666666666666666,\"#ed7953\"],[0.7777777777777778,\"#fb9f3a\"],[0.8888888888888888,\"#fdca26\"],[1.0,\"#f0f921\"]]}],\"choropleth\":[{\"type\":\"choropleth\",\"colorbar\":{\"outlinewidth\":0,\"ticks\":\"\"}}],\"histogram2d\":[{\"type\":\"histogram2d\",\"colorbar\":{\"outlinewidth\":0,\"ticks\":\"\"},\"colorscale\":[[0.0,\"#0d0887\"],[0.1111111111111111,\"#46039f\"],[0.2222222222222222,\"#7201a8\"],[0.3333333333333333,\"#9c179e\"],[0.4444444444444444,\"#bd3786\"],[0.5555555555555556,\"#d8576b\"],[0.6666666666666666,\"#ed7953\"],[0.7777777777777778,\"#fb9f3a\"],[0.8888888888888888,\"#fdca26\"],[1.0,\"#f0f921\"]]}],\"heatmap\":[{\"type\":\"heatmap\",\"colorbar\":{\"outlinewidth\":0,\"ticks\":\"\"},\"colorscale\":[[0.0,\"#0d0887\"],[0.1111111111111111,\"#46039f\"],[0.2222222222222222,\"#7201a8\"],[0.3333333333333333,\"#9c179e\"],[0.4444444444444444,\"#bd3786\"],[0.5555555555555556,\"#d8576b\"],[0.6666666666666666,\"#ed7953\"],[0.7777777777777778,\"#fb9f3a\"],[0.8888888888888888,\"#fdca26\"],[1.0,\"#f0f921\"]]}],\"heatmapgl\":[{\"type\":\"heatmapgl\",\"colorbar\":{\"outlinewidth\":0,\"ticks\":\"\"},\"colorscale\":[[0.0,\"#0d0887\"],[0.1111111111111111,\"#46039f\"],[0.2222222222222222,\"#7201a8\"],[0.3333333333333333,\"#9c179e\"],[0.4444444444444444,\"#bd3786\"],[0.5555555555555556,\"#d8576b\"],[0.6666666666666666,\"#ed7953\"],[0.7777777777777778,\"#fb9f3a\"],[0.8888888888888888,\"#fdca26\"],[1.0,\"#f0f921\"]]}],\"contourcarpet\":[{\"type\":\"contourcarpet\",\"colorbar\":{\"outlinewidth\":0,\"ticks\":\"\"}}],\"contour\":[{\"type\":\"contour\",\"colorbar\":{\"outlinewidth\":0,\"ticks\":\"\"},\"colorscale\":[[0.0,\"#0d0887\"],[0.1111111111111111,\"#46039f\"],[0.2222222222222222,\"#7201a8\"],[0.3333333333333333,\"#9c179e\"],[0.4444444444444444,\"#bd3786\"],[0.5555555555555556,\"#d8576b\"],[0.6666666666666666,\"#ed7953\"],[0.7777777777777778,\"#fb9f3a\"],[0.8888888888888888,\"#fdca26\"],[1.0,\"#f0f921\"]]}],\"surface\":[{\"type\":\"surface\",\"colorbar\":{\"outlinewidth\":0,\"ticks\":\"\"},\"colorscale\":[[0.0,\"#0d0887\"],[0.1111111111111111,\"#46039f\"],[0.2222222222222222,\"#7201a8\"],[0.3333333333333333,\"#9c179e\"],[0.4444444444444444,\"#bd3786\"],[0.5555555555555556,\"#d8576b\"],[0.6666666666666666,\"#ed7953\"],[0.7777777777777778,\"#fb9f3a\"],[0.8888888888888888,\"#fdca26\"],[1.0,\"#f0f921\"]]}],\"mesh3d\":[{\"type\":\"mesh3d\",\"colorbar\":{\"outlinewidth\":0,\"ticks\":\"\"}}],\"scatter\":[{\"fillpattern\":{\"fillmode\":\"overlay\",\"size\":10,\"solidity\":0.2},\"type\":\"scatter\"}],\"parcoords\":[{\"type\":\"parcoords\",\"line\":{\"colorbar\":{\"outlinewidth\":0,\"ticks\":\"\"}}}],\"scatterpolargl\":[{\"type\":\"scatterpolargl\",\"marker\":{\"colorbar\":{\"outlinewidth\":0,\"ticks\":\"\"}}}],\"bar\":[{\"error_x\":{\"color\":\"#2a3f5f\"},\"error_y\":{\"color\":\"#2a3f5f\"},\"marker\":{\"line\":{\"color\":\"#E5ECF6\",\"width\":0.5},\"pattern\":{\"fillmode\":\"overlay\",\"size\":10,\"solidity\":0.2}},\"type\":\"bar\"}],\"scattergeo\":[{\"type\":\"scattergeo\",\"marker\":{\"colorbar\":{\"outlinewidth\":0,\"ticks\":\"\"}}}],\"scatterpolar\":[{\"type\":\"scatterpolar\",\"marker\":{\"colorbar\":{\"outlinewidth\":0,\"ticks\":\"\"}}}],\"histogram\":[{\"marker\":{\"pattern\":{\"fillmode\":\"overlay\",\"size\":10,\"solidity\":0.2}},\"type\":\"histogram\"}],\"scattergl\":[{\"type\":\"scattergl\",\"marker\":{\"colorbar\":{\"outlinewidth\":0,\"ticks\":\"\"}}}],\"scatter3d\":[{\"type\":\"scatter3d\",\"line\":{\"colorbar\":{\"outlinewidth\":0,\"ticks\":\"\"}},\"marker\":{\"colorbar\":{\"outlinewidth\":0,\"ticks\":\"\"}}}],\"scattermapbox\":[{\"type\":\"scattermapbox\",\"marker\":{\"colorbar\":{\"outlinewidth\":0,\"ticks\":\"\"}}}],\"scatterternary\":[{\"type\":\"scatterternary\",\"marker\":{\"colorbar\":{\"outlinewidth\":0,\"ticks\":\"\"}}}],\"scattercarpet\":[{\"type\":\"scattercarpet\",\"marker\":{\"colorbar\":{\"outlinewidth\":0,\"ticks\":\"\"}}}],\"carpet\":[{\"aaxis\":{\"endlinecolor\":\"#2a3f5f\",\"gridcolor\":\"white\",\"linecolor\":\"white\",\"minorgridcolor\":\"white\",\"startlinecolor\":\"#2a3f5f\"},\"baxis\":{\"endlinecolor\":\"#2a3f5f\",\"gridcolor\":\"white\",\"linecolor\":\"white\",\"minorgridcolor\":\"white\",\"startlinecolor\":\"#2a3f5f\"},\"type\":\"carpet\"}],\"table\":[{\"cells\":{\"fill\":{\"color\":\"#EBF0F8\"},\"line\":{\"color\":\"white\"}},\"header\":{\"fill\":{\"color\":\"#C8D4E3\"},\"line\":{\"color\":\"white\"}},\"type\":\"table\"}],\"barpolar\":[{\"marker\":{\"line\":{\"color\":\"#E5ECF6\",\"width\":0.5},\"pattern\":{\"fillmode\":\"overlay\",\"size\":10,\"solidity\":0.2}},\"type\":\"barpolar\"}],\"pie\":[{\"automargin\":true,\"type\":\"pie\"}]},\"layout\":{\"autotypenumbers\":\"strict\",\"colorway\":[\"#636efa\",\"#EF553B\",\"#00cc96\",\"#ab63fa\",\"#FFA15A\",\"#19d3f3\",\"#FF6692\",\"#B6E880\",\"#FF97FF\",\"#FECB52\"],\"font\":{\"color\":\"#2a3f5f\"},\"hovermode\":\"closest\",\"hoverlabel\":{\"align\":\"left\"},\"paper_bgcolor\":\"white\",\"plot_bgcolor\":\"#E5ECF6\",\"polar\":{\"bgcolor\":\"#E5ECF6\",\"angularaxis\":{\"gridcolor\":\"white\",\"linecolor\":\"white\",\"ticks\":\"\"},\"radialaxis\":{\"gridcolor\":\"white\",\"linecolor\":\"white\",\"ticks\":\"\"}},\"ternary\":{\"bgcolor\":\"#E5ECF6\",\"aaxis\":{\"gridcolor\":\"white\",\"linecolor\":\"white\",\"ticks\":\"\"},\"baxis\":{\"gridcolor\":\"white\",\"linecolor\":\"white\",\"ticks\":\"\"},\"caxis\":{\"gridcolor\":\"white\",\"linecolor\":\"white\",\"ticks\":\"\"}},\"coloraxis\":{\"colorbar\":{\"outlinewidth\":0,\"ticks\":\"\"}},\"colorscale\":{\"sequential\":[[0.0,\"#0d0887\"],[0.1111111111111111,\"#46039f\"],[0.2222222222222222,\"#7201a8\"],[0.3333333333333333,\"#9c179e\"],[0.4444444444444444,\"#bd3786\"],[0.5555555555555556,\"#d8576b\"],[0.6666666666666666,\"#ed7953\"],[0.7777777777777778,\"#fb9f3a\"],[0.8888888888888888,\"#fdca26\"],[1.0,\"#f0f921\"]],\"sequentialminus\":[[0.0,\"#0d0887\"],[0.1111111111111111,\"#46039f\"],[0.2222222222222222,\"#7201a8\"],[0.3333333333333333,\"#9c179e\"],[0.4444444444444444,\"#bd3786\"],[0.5555555555555556,\"#d8576b\"],[0.6666666666666666,\"#ed7953\"],[0.7777777777777778,\"#fb9f3a\"],[0.8888888888888888,\"#fdca26\"],[1.0,\"#f0f921\"]],\"diverging\":[[0,\"#8e0152\"],[0.1,\"#c51b7d\"],[0.2,\"#de77ae\"],[0.3,\"#f1b6da\"],[0.4,\"#fde0ef\"],[0.5,\"#f7f7f7\"],[0.6,\"#e6f5d0\"],[0.7,\"#b8e186\"],[0.8,\"#7fbc41\"],[0.9,\"#4d9221\"],[1,\"#276419\"]]},\"xaxis\":{\"gridcolor\":\"white\",\"linecolor\":\"white\",\"ticks\":\"\",\"title\":{\"standoff\":15},\"zerolinecolor\":\"white\",\"automargin\":true,\"zerolinewidth\":2},\"yaxis\":{\"gridcolor\":\"white\",\"linecolor\":\"white\",\"ticks\":\"\",\"title\":{\"standoff\":15},\"zerolinecolor\":\"white\",\"automargin\":true,\"zerolinewidth\":2},\"scene\":{\"xaxis\":{\"backgroundcolor\":\"#E5ECF6\",\"gridcolor\":\"white\",\"linecolor\":\"white\",\"showbackground\":true,\"ticks\":\"\",\"zerolinecolor\":\"white\",\"gridwidth\":2},\"yaxis\":{\"backgroundcolor\":\"#E5ECF6\",\"gridcolor\":\"white\",\"linecolor\":\"white\",\"showbackground\":true,\"ticks\":\"\",\"zerolinecolor\":\"white\",\"gridwidth\":2},\"zaxis\":{\"backgroundcolor\":\"#E5ECF6\",\"gridcolor\":\"white\",\"linecolor\":\"white\",\"showbackground\":true,\"ticks\":\"\",\"zerolinecolor\":\"white\",\"gridwidth\":2}},\"shapedefaults\":{\"line\":{\"color\":\"#2a3f5f\"}},\"annotationdefaults\":{\"arrowcolor\":\"#2a3f5f\",\"arrowhead\":0,\"arrowwidth\":1},\"geo\":{\"bgcolor\":\"white\",\"landcolor\":\"#E5ECF6\",\"subunitcolor\":\"white\",\"showland\":true,\"showlakes\":true,\"lakecolor\":\"white\"},\"title\":{\"x\":0.05},\"mapbox\":{\"style\":\"light\"}}}},                        {\"responsive\": true}                    ).then(function(){\n",
              "                            \n",
              "var gd = document.getElementById('1fb0d1fe-94b5-47b1-ab06-58610cb7d43e');\n",
              "var x = new MutationObserver(function (mutations, observer) {{\n",
              "        var display = window.getComputedStyle(gd).display;\n",
              "        if (!display || display === 'none') {{\n",
              "            console.log([gd, 'removed!']);\n",
              "            Plotly.purge(gd);\n",
              "            observer.disconnect();\n",
              "        }}\n",
              "}});\n",
              "\n",
              "// Listen for the removal of the full notebook cells\n",
              "var notebookContainer = gd.closest('#notebook-container');\n",
              "if (notebookContainer) {{\n",
              "    x.observe(notebookContainer, {childList: true});\n",
              "}}\n",
              "\n",
              "// Listen for the clearing of the current output cell\n",
              "var outputEl = gd.closest('.output');\n",
              "if (outputEl) {{\n",
              "    x.observe(outputEl, {childList: true});\n",
              "}}\n",
              "\n",
              "                        })                };                            </script>        </div>\n",
              "</body>\n",
              "</html>"
            ]
          },
          "metadata": {}
        }
      ],
      "source": [
        "fig = optuna.visualization.plot_param_importances(study)\n",
        "fig.show()"
      ]
    },
    {
      "cell_type": "code",
      "execution_count": null,
      "metadata": {
        "id": "5IpFRnVA1Yo2"
      },
      "outputs": [],
      "source": [
        "# Play an audio beep. Any audio URL will do.\n",
        "for i in range(10):\n",
        "  from google.colab import output\n",
        "  output.eval_js('new Audio(\"https://upload.wikimedia.org/wikipedia/commons/0/05/Beep-09.ogg\").play()')"
      ]
    },
    {
      "cell_type": "markdown",
      "metadata": {
        "id": "wth37DPg5Itl"
      },
      "source": [
        "## Re-train the Basic CNN model using the best hyperparameters."
      ]
    },
    {
      "cell_type": "code",
      "execution_count": null,
      "metadata": {
        "colab": {
          "base_uri": "https://localhost:8080/"
        },
        "id": "0VIgVhml6aaN",
        "outputId": "7f584b75-5512-47df-e8d2-bb97a28b286c"
      },
      "outputs": [
        {
          "output_type": "stream",
          "name": "stdout",
          "text": [
            "Found 713 images belonging to 2 classes.\n",
            "Found 237 images belonging to 2 classes.\n",
            "Found 950 images belonging to 2 classes.\n",
            "Found 240 images belonging to 2 classes.\n",
            "Epoch 1/6\n",
            "30/30 [==============================] - 117s 4s/step - loss: 1.1434 - accuracy: 0.4221 - recall: 0.3707 - precision: 0.8410 - val_loss: 0.9001 - val_accuracy: 0.1750 - val_recall: 0.0000e+00 - val_precision: 0.0000e+00\n",
            "Epoch 2/6\n",
            "30/30 [==============================] - 73s 2s/step - loss: 0.7271 - accuracy: 0.3284 - recall: 0.2293 - precision: 0.8451 - val_loss: 0.6847 - val_accuracy: 0.8250 - val_recall: 0.9091 - val_precision: 0.8824\n",
            "Epoch 3/6\n",
            "30/30 [==============================] - 82s 3s/step - loss: 0.6684 - accuracy: 0.6895 - recall: 0.7439 - precision: 0.8614 - val_loss: 0.6670 - val_accuracy: 0.7625 - val_recall: 0.8485 - val_precision: 0.8615\n",
            "Epoch 4/6\n",
            "30/30 [==============================] - 82s 2s/step - loss: 0.6786 - accuracy: 0.6937 - recall: 0.7439 - precision: 0.8665 - val_loss: 0.7548 - val_accuracy: 0.6125 - val_recall: 0.6313 - val_precision: 0.8621\n",
            "Epoch 5/6\n",
            "30/30 [==============================] - 79s 2s/step - loss: 0.6687 - accuracy: 0.6979 - recall: 0.7516 - precision: 0.8651 - val_loss: 0.5087 - val_accuracy: 0.8333 - val_recall: 0.9343 - val_precision: 0.8726\n",
            "Epoch 6/6\n",
            "30/30 [==============================] - 81s 2s/step - loss: 0.6833 - accuracy: 0.7158 - recall: 0.7694 - precision: 0.8716 - val_loss: 0.6730 - val_accuracy: 0.7125 - val_recall: 0.7778 - val_precision: 0.8603\n"
          ]
        }
      ],
      "source": [
        "clear_session()\n",
        "\n",
        "# preprocess data\n",
        "train, val, train_val, test = train_val_test_generators(train_dir, val_dir, train_val_dir, test_dir)\n",
        "\n",
        "class_weights_train_val = compute_class_weight(class_weight = 'balanced', classes = np.unique(train_val.classes), y = train_val.classes)\n",
        "class_weights_train_val = {i : class_weights_train_val[i] for i in range(2)}\n",
        "\n",
        "# get best hyperparameters\n",
        "best_hidden_layers = study.best_params['hidden_layers']\n",
        "best_neurons = study.best_params['first_neuron']\n",
        "best_dropout = study.best_params['drop_out']\n",
        "best_optimizer = study.best_params['optimizer']\n",
        "best_lr = study.best_params['lr']\n",
        "epochs =6 # take best epoch from HP tuning trail\n",
        "\n",
        "# retrain model\n",
        "model = tf.keras.models.Sequential([ \n",
        "      tf.keras.layers.Conv2D(32, (3,3), activation='relu', input_shape=(224, 224, 3)),\n",
        "      tf.keras.layers.MaxPooling2D(2,2),\n",
        "      tf.keras.layers.Conv2D(64, (3,3), activation='relu'),\n",
        "      tf.keras.layers.MaxPooling2D(2,2), \n",
        "      tf.keras.layers.Conv2D(128, (3,3), activation='relu'), \n",
        "      tf.keras.layers.MaxPooling2D(2,2),\n",
        "      tf.keras.layers.Flatten() ])\n",
        "  \n",
        "for i in range(best_hidden_layers):\n",
        "  model.add(Dense(best_neurons, activation='relu'))\n",
        "  model.add(Dropout(best_dropout))\n",
        "\n",
        "model.add(Dense(1, activation='sigmoid'))\n",
        "\n",
        "if best_optimizer == 'Adam':\n",
        "    optimizer = Adam(learning_rate=best_lr)\n",
        "elif best_optimizer == 'RMSprop':\n",
        "    optimizer = RMSprop(learning_rate=best_lr)\n",
        "elif best_optimizer == 'AdamW':\n",
        "    optimizer = AdamW(learning_rate=best_lr)\n",
        "\n",
        "model.compile(optimizer=optimizer,\n",
        "              loss = 'binary_crossentropy', \n",
        "              metrics = ['accuracy', Recall(), Precision()])\n",
        "\n",
        "basic_cnn_history = model.fit(train_val, validation_data=test, # test set used only for monitoring loss and accuracy, not for HP tuning\n",
        "                              class_weight=class_weights_train_val, epochs = epochs, \n",
        "                              max_queue_size=40, workers=4, use_multiprocessing=True)"
      ]
    },
    {
      "cell_type": "code",
      "execution_count": null,
      "metadata": {
        "colab": {
          "base_uri": "https://localhost:8080/",
          "height": 927
        },
        "id": "nK9TVL_BZNd1",
        "outputId": "742b1e7e-ac6d-4401-f537-0a99a44c06a7"
      },
      "outputs": [
        {
          "output_type": "display_data",
          "data": {
            "text/plain": [
              "<Figure size 640x480 with 1 Axes>"
            ],
            "image/png": "[encoded data removed]"
          },
          "metadata": {}
        },
        {
          "output_type": "display_data",
          "data": {
            "text/plain": [
              "<Figure size 640x480 with 1 Axes>"
            ],
            "image/png": "[encoded data removed]"
          },
          "metadata": {}
        }
      ],
      "source": [
        "# Plot training and validation accuracy curves\n",
        "plt.plot(basic_cnn_history.history['accuracy'])\n",
        "plt.plot(basic_cnn_history.history['val_accuracy'])\n",
        "plt.title('Basic CNN model accuracy')\n",
        "plt.ylabel('Accuracy')\n",
        "plt.xlabel('Epoch')\n",
        "plt.legend(['Train_Val', 'Test'], loc='upper left')\n",
        "plt.show()\n",
        "\n",
        "# Plot training and validation loss curves\n",
        "plt.plot(basic_cnn_history.history['loss'])\n",
        "plt.plot(basic_cnn_history.history['val_loss'])\n",
        "plt.title('Basic CNN model loss')\n",
        "plt.ylabel('Loss')\n",
        "plt.xlabel('Epoch')\n",
        "plt.legend(['Train_Val', 'Test'], loc='upper left')\n",
        "plt.show()"
      ]
    },
    {
      "cell_type": "markdown",
      "metadata": {
        "id": "H1IXhBf-5cdG"
      },
      "source": [
        "## Test the performance of the Basic CNN model on the test set."
      ]
    },
    {
      "cell_type": "code",
      "execution_count": null,
      "metadata": {
        "colab": {
          "base_uri": "https://localhost:8080/"
        },
        "id": "shfZRx-O68XC",
        "outputId": "2b2022ed-40c3-4700-81b0-d590ce220a6b"
      },
      "outputs": [
        {
          "output_type": "stream",
          "name": "stdout",
          "text": [
            "8/8 [==============================] - 45s 6s/step - loss: 0.6730 - accuracy: 0.7125 - recall: 0.7778 - precision: 0.8603\n",
            "Test loss: 0.6729777455329895\n",
            "Test accuracy: 0.7124999761581421\n"
          ]
        }
      ],
      "source": [
        "# Evaluate model performance on test set\n",
        "performance_basic_cnn = model.evaluate(test)\n",
        "print('Test loss:', performance_basic_cnn[0])\n",
        "print('Test accuracy:', performance_basic_cnn[1])"
      ]
    },
    {
      "cell_type": "code",
      "execution_count": null,
      "metadata": {
        "colab": {
          "base_uri": "https://localhost:8080/"
        },
        "id": "3SQd8CC66akH",
        "outputId": "aa28997d-ed65-417e-f19a-6689411e95a7"
      },
      "outputs": [
        {
          "output_type": "stream",
          "name": "stdout",
          "text": [
            "8/8 [==============================] - 44s 5s/step\n",
            "Accuracy: 0.7125\n",
            "Precision: 0.8603351955307262\n",
            "Recall: 0.7777777777777778\n",
            "F1-score: 0.8169761273209548\n",
            "F1_score_macro: 0.5735366073497978\n",
            "AUC-ROC: 0.5912698412698413\n",
            "\n",
            "              precision    recall  f1-score   support\n",
            "\n",
            "           0       0.28      0.40      0.33        42\n",
            "           1       0.86      0.78      0.82       198\n",
            "\n",
            "    accuracy                           0.71       240\n",
            "   macro avg       0.57      0.59      0.57       240\n",
            "weighted avg       0.76      0.71      0.73       240\n",
            "\n"
          ]
        }
      ],
      "source": [
        "# Use the trained model to predict on the test set and round the prediction\n",
        "y_pred = model.predict(test)\n",
        "y_pred = np.round(y_pred)\n",
        "\n",
        "# Calculate the evaluation metrics\n",
        "accuracy = accuracy_score(test.labels, y_pred)\n",
        "precision = precision_score(test.labels, y_pred)\n",
        "recall = recall_score(test.labels, y_pred)\n",
        "f1score = f1_score(test.labels, y_pred)\n",
        "f1score_macro = f1_score(test.labels, y_pred, average = 'macro')\n",
        "auc_roc = roc_auc_score(test.labels, y_pred)\n",
        "\n",
        "# Print the evaluation metrics\n",
        "print('Accuracy:', accuracy)\n",
        "print('Precision:', precision)\n",
        "print('Recall:', recall)\n",
        "print('F1-score:', f1score)\n",
        "print('F1_score_macro:', f1score_macro)\n",
        "print('AUC-ROC:', auc_roc)\n",
        "print()\n",
        "\n",
        "print(classification_report(test.labels, y_pred))"
      ]
    },
    {
      "cell_type": "code",
      "execution_count": null,
      "metadata": {
        "colab": {
          "base_uri": "https://localhost:8080/",
          "height": 506
        },
        "id": "4BzuEcVqy0ls",
        "outputId": "a5a91f0c-a9d1-422d-bf91-b93db1426a41"
      },
      "outputs": [
        {
          "output_type": "display_data",
          "data": {
            "text/plain": [
              "<Figure size 640x480 with 2 Axes>"
            ],
            "image/png": "[encoded data removed]"
          },
          "metadata": {}
        }
      ],
      "source": [
        "# Create a confusion matrix:\n",
        "cm = confusion_matrix(test.labels, y_pred)\n",
        "\n",
        "# Define the class labels\n",
        "classes = np.unique(['Healthy', 'Scab'])\n",
        "\n",
        "# Create the plot\n",
        "fig, ax = plt.subplots()\n",
        "im = ax.imshow(cm, interpolation='nearest', cmap=plt.cm.Blues)\n",
        "ax.figure.colorbar(im, ax=ax)\n",
        "\n",
        "# Add axis labels and tick marks\n",
        "ax.set(xticks=np.arange(cm.shape[1]),\n",
        "       yticks=np.arange(cm.shape[0]),\n",
        "       xticklabels=classes,\n",
        "       yticklabels=classes,\n",
        "       xlabel='Predicted label',\n",
        "       ylabel='True label')\n",
        "\n",
        "# Rotate the tick labels and set their alignment\n",
        "plt.setp(ax.get_xticklabels(), rotation=45, ha=\"right\",\n",
        "         rotation_mode=\"anchor\")\n",
        "\n",
        "# Loop over data dimensions and create text annotations\n",
        "for i in range(cm.shape[0]):\n",
        "    for j in range(cm.shape[1]):\n",
        "        ax.text(j, i, format(cm[i, j], 'd'),\n",
        "                ha=\"center\", va=\"center\",\n",
        "                color=\"white\" if cm[i, j] > cm.max() / 2. else \"black\")\n",
        "\n",
        "# Add a title and show plot\n",
        "ax.set_title(\"Confusion Matrix Basic CNN\")\n",
        "plt.show()"
      ]
    },
    {
      "cell_type": "markdown",
      "metadata": {
        "id": "HcV2r9XFGmy7"
      },
      "source": [
        "#  ResNet50V2 model:"
      ]
    },
    {
      "cell_type": "markdown",
      "metadata": {
        "id": "aYkLKu95GmzI"
      },
      "source": [
        "## Perform hyperparameter tuning on the ResNet50V2 model."
      ]
    },
    {
      "cell_type": "code",
      "execution_count": null,
      "metadata": {
        "id": "4f7RTR3gGmzI"
      },
      "outputs": [],
      "source": [
        "def hp_fruits_ResNet50V2(trail):\n",
        "\n",
        "  clear_session()\n",
        "\n",
        "  # preprocess data\n",
        "  train, val, train_val, test = train_val_test_generators(train_dir, val_dir, train_val_dir, test_dir)\n",
        "\n",
        "  class_weights = compute_class_weight(class_weight = 'balanced', classes = np.unique(train.classes), y = train.classes)\n",
        "  class_weights = {i : class_weights[i] for i in range(2)}\n",
        "\n",
        "  # build model\n",
        "  from tensorflow.keras.applications import ResNet50V2\n",
        "  from tensorflow.keras import layers\n",
        "\n",
        "  ResNet50V2_model = ResNet50V2(input_shape = (224, 224, 3), \n",
        "                                  include_top = False, \n",
        "                                  weights = 'imagenet')\n",
        "\n",
        "  for layer in ResNet50V2_model.layers:\n",
        "    layer.trainable = False\n",
        "\n",
        "  last_output = ResNet50V2_model.output\n",
        "  x = layers.Flatten()(last_output)\n",
        "  \n",
        "  hidden_layers = trail.suggest_int('hidden_layers', 1, 2)\n",
        "\n",
        "  for i in range(hidden_layers):\n",
        "    first_neuron = trail.suggest_categorical('first_neuron', [128, 256, 512, 768])\n",
        "    x = layers.Dense(first_neuron, activation='relu')(x)\n",
        "    drop_out = trail.suggest_categorical('drop_out', [0, 0.3, 0.5])\n",
        "    x = layers.Dropout(drop_out)(x)                  \n",
        "  \n",
        "  x = layers.Dense(1, activation='sigmoid')(x)           \n",
        "\n",
        "  model = Model(ResNet50V2_model.input, x) \n",
        "\n",
        "  # compile/train model\n",
        "  optimizer_name = trail.suggest_categorical('optimizer', ['Adam', 'RMSprop', 'AdamW'])\n",
        "  learning_rate = trail.suggest_float('lr', 1e-5, 1e-2, log=True)\n",
        "\n",
        "  if optimizer_name == 'Adam':\n",
        "      optimizer = Adam(learning_rate=learning_rate)\n",
        "  elif optimizer_name == 'RMSprop':\n",
        "      optimizer = RMSprop(learning_rate=learning_rate)\n",
        "  elif optimizer_name == 'AdamW':\n",
        "      optimizer = AdamW(learning_rate=learning_rate)\n",
        "\n",
        "  model.compile(optimizer=optimizer,\n",
        "                loss = 'binary_crossentropy', \n",
        "                metrics = ['accuracy', Recall(), Precision()])\n",
        "  \n",
        "  early_stop = EarlyStopping(monitor='val_loss', patience=5, restore_best_weights=True)\n",
        "  \n",
        "  model.fit(train, validation_data=val, class_weight=class_weights, epochs = 100, callbacks=[early_stop],\n",
        "            max_queue_size=40, workers=4, use_multiprocessing=True)\n",
        "  \n",
        "  # evaluate macro f1 score\n",
        "  \n",
        "  y_pred_val = model.predict(val)\n",
        "  y_pred_val = np.round(y_pred_val)\n",
        "\n",
        "  f1score_macro = f1_score(val.labels, y_pred_val, average = 'macro')\n",
        "  acc = accuracy_score(val.labels, y_pred_val)\n",
        "  print(f1score_macro)\n",
        "  print(acc)\n",
        "  \n",
        "  return f1score_macro\n",
        "\n",
        "if __name__ == \"__main__\":\n",
        "    warnings.warn(\n",
        "        \"Recent Keras release (2.4.0) simply redirects all APIs \"\n",
        "        \"in the standalone keras package to point to tf.keras. \"\n",
        "        \"There is now only one Keras: tf.keras. \"\n",
        "        \"There may be some breaking changes for some workflows by upgrading to keras 2.4.0. \"\n",
        "        \"Test before upgrading. \"\n",
        "        \"REF:https://github.com/keras-team/keras/releases/tag/2.4.0\"\n",
        "    )\n",
        "    study = optuna.create_study(direction=\"maximize\")\n",
        "    study.optimize(hp_fruits_ResNet50V2, n_trials=10)\n",
        "\n",
        "    print(\"Number of finished trials: {}\".format(len(study.trials)))\n",
        "\n",
        "    print(\"Best trial:\")\n",
        "    trial = study.best_trial\n",
        "\n",
        "    print(\"  Value: {}\".format(trial.value))\n",
        "\n",
        "    print(\"  Params: \")\n",
        "    for key, value in trial.params.items():\n",
        "        print(\"    {}: {}\".format(key, value))"
      ]
    },
    {
      "cell_type": "code",
      "execution_count": null,
      "metadata": {
        "colab": {
          "base_uri": "https://localhost:8080/",
          "height": 600
        },
        "id": "8P_LmV_ZGmzJ",
        "outputId": "8f93d09c-ec50-4079-a4e5-9ad72981cd9d"
      },
      "outputs": [
        {
          "output_type": "execute_result",
          "data": {
            "text/plain": [
              "   number     value             datetime_start          datetime_complete  \\\n",
              "0       0  0.675698 2023-05-15 15:23:24.931339 2023-05-15 15:38:35.741407   \n",
              "1       1  0.704136 2023-05-15 15:38:35.743696 2023-05-15 15:56:41.281370   \n",
              "2       2  0.720906 2023-05-15 15:56:41.283729 2023-05-15 16:06:43.954039   \n",
              "3       3  0.703278 2023-05-15 16:06:43.956161 2023-05-15 16:22:07.412415   \n",
              "4       4  0.665988 2023-05-15 16:22:07.414584 2023-05-15 16:30:53.392873   \n",
              "5       5  0.657833 2023-05-15 16:30:53.395052 2023-05-15 16:40:45.217488   \n",
              "6       6  0.762777 2023-05-15 16:40:45.219541 2023-05-15 17:04:21.098538   \n",
              "7       7  0.485755 2023-05-15 17:04:21.100684 2023-05-15 17:14:25.824889   \n",
              "8       8  0.587946 2023-05-15 17:14:25.827150 2023-05-15 17:23:13.472694   \n",
              "9       9  0.730250 2023-05-15 17:23:13.474946 2023-05-15 17:36:33.678280   \n",
              "\n",
              "                duration  params_drop_out  params_first_neuron  \\\n",
              "0 0 days 00:15:10.810068              0.0                  128   \n",
              "1 0 days 00:18:05.537674              0.0                  512   \n",
              "2 0 days 00:10:02.670310              0.0                  512   \n",
              "3 0 days 00:15:23.456254              0.3                  256   \n",
              "4 0 days 00:08:45.978289              0.3                  512   \n",
              "5 0 days 00:09:51.822436              0.0                  128   \n",
              "6 0 days 00:23:35.878997              0.3                  256   \n",
              "7 0 days 00:10:04.724205              0.3                  128   \n",
              "8 0 days 00:08:47.645544              0.3                  128   \n",
              "9 0 days 00:13:20.203334              0.5                  768   \n",
              "\n",
              "   params_hidden_layers  params_lr params_optimizer     state  \n",
              "0                     1   0.000766             Adam  COMPLETE  \n",
              "1                     2   0.000047             Adam  COMPLETE  \n",
              "2                     2   0.000048          RMSprop  COMPLETE  \n",
              "3                     2   0.000109          RMSprop  COMPLETE  \n",
              "4                     2   0.000365          RMSprop  COMPLETE  \n",
              "5                     2   0.000096          RMSprop  COMPLETE  \n",
              "6                     1   0.000295          RMSprop  COMPLETE  \n",
              "7                     2   0.002221             Adam  COMPLETE  \n",
              "8                     2   0.001013             Adam  COMPLETE  \n",
              "9                     1   0.000013            AdamW  COMPLETE  "
            ],
            "text/html": [
              "\n",
              "  <div id=\"df-fe181313-1c9b-4f73-938a-e06f2ca08d4f\">\n",
              "    <div class=\"colab-df-container\">\n",
              "      <div>\n",
              "<style scoped>\n",
              "    .dataframe tbody tr th:only-of-type {\n",
              "        vertical-align: middle;\n",
              "    }\n",
              "\n",
              "    .dataframe tbody tr th {\n",
              "        vertical-align: top;\n",
              "    }\n",
              "\n",
              "    .dataframe thead th {\n",
              "        text-align: right;\n",
              "    }\n",
              "</style>\n",
              "<table border=\"1\" class=\"dataframe\">\n",
              "  <thead>\n",
              "    <tr style=\"text-align: right;\">\n",
              "      <th></th>\n",
              "      <th>number</th>\n",
              "      <th>value</th>\n",
              "      <th>datetime_start</th>\n",
              "      <th>datetime_complete</th>\n",
              "      <th>duration</th>\n",
              "      <th>params_drop_out</th>\n",
              "      <th>params_first_neuron</th>\n",
              "      <th>params_hidden_layers</th>\n",
              "      <th>params_lr</th>\n",
              "      <th>params_optimizer</th>\n",
              "      <th>state</th>\n",
              "    </tr>\n",
              "  </thead>\n",
              "  <tbody>\n",
              "    <tr>\n",
              "      <th>0</th>\n",
              "      <td>0</td>\n",
              "      <td>0.675698</td>\n",
              "      <td>2023-05-15 15:23:24.931339</td>\n",
              "      <td>2023-05-15 15:38:35.741407</td>\n",
              "      <td>0 days 00:15:10.810068</td>\n",
              "      <td>0.0</td>\n",
              "      <td>128</td>\n",
              "      <td>1</td>\n",
              "      <td>0.000766</td>\n",
              "      <td>Adam</td>\n",
              "      <td>COMPLETE</td>\n",
              "    </tr>\n",
              "    <tr>\n",
              "      <th>1</th>\n",
              "      <td>1</td>\n",
              "      <td>0.704136</td>\n",
              "      <td>2023-05-15 15:38:35.743696</td>\n",
              "      <td>2023-05-15 15:56:41.281370</td>\n",
              "      <td>0 days 00:18:05.537674</td>\n",
              "      <td>0.0</td>\n",
              "      <td>512</td>\n",
              "      <td>2</td>\n",
              "      <td>0.000047</td>\n",
              "      <td>Adam</td>\n",
              "      <td>COMPLETE</td>\n",
              "    </tr>\n",
              "    <tr>\n",
              "      <th>2</th>\n",
              "      <td>2</td>\n",
              "      <td>0.720906</td>\n",
              "      <td>2023-05-15 15:56:41.283729</td>\n",
              "      <td>2023-05-15 16:06:43.954039</td>\n",
              "      <td>0 days 00:10:02.670310</td>\n",
              "      <td>0.0</td>\n",
              "      <td>512</td>\n",
              "      <td>2</td>\n",
              "      <td>0.000048</td>\n",
              "      <td>RMSprop</td>\n",
              "      <td>COMPLETE</td>\n",
              "    </tr>\n",
              "    <tr>\n",
              "      <th>3</th>\n",
              "      <td>3</td>\n",
              "      <td>0.703278</td>\n",
              "      <td>2023-05-15 16:06:43.956161</td>\n",
              "      <td>2023-05-15 16:22:07.412415</td>\n",
              "      <td>0 days 00:15:23.456254</td>\n",
              "      <td>0.3</td>\n",
              "      <td>256</td>\n",
              "      <td>2</td>\n",
              "      <td>0.000109</td>\n",
              "      <td>RMSprop</td>\n",
              "      <td>COMPLETE</td>\n",
              "    </tr>\n",
              "    <tr>\n",
              "      <th>4</th>\n",
              "      <td>4</td>\n",
              "      <td>0.665988</td>\n",
              "      <td>2023-05-15 16:22:07.414584</td>\n",
              "      <td>2023-05-15 16:30:53.392873</td>\n",
              "      <td>0 days 00:08:45.978289</td>\n",
              "      <td>0.3</td>\n",
              "      <td>512</td>\n",
              "      <td>2</td>\n",
              "      <td>0.000365</td>\n",
              "      <td>RMSprop</td>\n",
              "      <td>COMPLETE</td>\n",
              "    </tr>\n",
              "    <tr>\n",
              "      <th>5</th>\n",
              "      <td>5</td>\n",
              "      <td>0.657833</td>\n",
              "      <td>2023-05-15 16:30:53.395052</td>\n",
              "      <td>2023-05-15 16:40:45.217488</td>\n",
              "      <td>0 days 00:09:51.822436</td>\n",
              "      <td>0.0</td>\n",
              "      <td>128</td>\n",
              "      <td>2</td>\n",
              "      <td>0.000096</td>\n",
              "      <td>RMSprop</td>\n",
              "      <td>COMPLETE</td>\n",
              "    </tr>\n",
              "    <tr>\n",
              "      <th>6</th>\n",
              "      <td>6</td>\n",
              "      <td>0.762777</td>\n",
              "      <td>2023-05-15 16:40:45.219541</td>\n",
              "      <td>2023-05-15 17:04:21.098538</td>\n",
              "      <td>0 days 00:23:35.878997</td>\n",
              "      <td>0.3</td>\n",
              "      <td>256</td>\n",
              "      <td>1</td>\n",
              "      <td>0.000295</td>\n",
              "      <td>RMSprop</td>\n",
              "      <td>COMPLETE</td>\n",
              "    </tr>\n",
              "    <tr>\n",
              "      <th>7</th>\n",
              "      <td>7</td>\n",
              "      <td>0.485755</td>\n",
              "      <td>2023-05-15 17:04:21.100684</td>\n",
              "      <td>2023-05-15 17:14:25.824889</td>\n",
              "      <td>0 days 00:10:04.724205</td>\n",
              "      <td>0.3</td>\n",
              "      <td>128</td>\n",
              "      <td>2</td>\n",
              "      <td>0.002221</td>\n",
              "      <td>Adam</td>\n",
              "      <td>COMPLETE</td>\n",
              "    </tr>\n",
              "    <tr>\n",
              "      <th>8</th>\n",
              "      <td>8</td>\n",
              "      <td>0.587946</td>\n",
              "      <td>2023-05-15 17:14:25.827150</td>\n",
              "      <td>2023-05-15 17:23:13.472694</td>\n",
              "      <td>0 days 00:08:47.645544</td>\n",
              "      <td>0.3</td>\n",
              "      <td>128</td>\n",
              "      <td>2</td>\n",
              "      <td>0.001013</td>\n",
              "      <td>Adam</td>\n",
              "      <td>COMPLETE</td>\n",
              "    </tr>\n",
              "    <tr>\n",
              "      <th>9</th>\n",
              "      <td>9</td>\n",
              "      <td>0.730250</td>\n",
              "      <td>2023-05-15 17:23:13.474946</td>\n",
              "      <td>2023-05-15 17:36:33.678280</td>\n",
              "      <td>0 days 00:13:20.203334</td>\n",
              "      <td>0.5</td>\n",
              "      <td>768</td>\n",
              "      <td>1</td>\n",
              "      <td>0.000013</td>\n",
              "      <td>AdamW</td>\n",
              "      <td>COMPLETE</td>\n",
              "    </tr>\n",
              "  </tbody>\n",
              "</table>\n",
              "</div>\n",
              "      <button class=\"colab-df-convert\" onclick=\"convertToInteractive('df-fe181313-1c9b-4f73-938a-e06f2ca08d4f')\"\n",
              "              title=\"Convert this dataframe to an interactive table.\"\n",
              "              style=\"display:none;\">\n",
              "        \n",
              "  <svg xmlns=\"http://www.w3.org/2000/svg\" height=\"24px\"viewBox=\"0 0 24 24\"\n",
              "       width=\"24px\">\n",
              "    <path d=\"M0 0h24v24H0V0z\" fill=\"none\"/>\n",
              "    <path d=\"M18.56 5.44l.94 2.06.94-2.06 2.06-.94-2.06-.94-.94-2.06-.94 2.06-2.06.94zm-11 1L8.5 8.5l.94-2.06 2.06-.94-2.06-.94L8.5 2.5l-.94 2.06-2.06.94zm10 10l.94 2.06.94-2.06 2.06-.94-2.06-.94-.94-2.06-.94 2.06-2.06.94z\"/><path d=\"M17.41 7.96l-1.37-1.37c-.4-.4-.92-.59-1.43-.59-.52 0-1.04.2-1.43.59L10.3 9.45l-7.72 7.72c-.78.78-.78 2.05 0 2.83L4 21.41c.39.39.9.59 1.41.59.51 0 1.02-.2 1.41-.59l7.78-7.78 2.81-2.81c.8-.78.8-2.07 0-2.86zM5.41 20L4 18.59l7.72-7.72 1.47 1.35L5.41 20z\"/>\n",
              "  </svg>\n",
              "      </button>\n",
              "      \n",
              "  <style>\n",
              "    .colab-df-container {\n",
              "      display:flex;\n",
              "      flex-wrap:wrap;\n",
              "      gap: 12px;\n",
              "    }\n",
              "\n",
              "    .colab-df-convert {\n",
              "      background-color: #E8F0FE;\n",
              "      border: none;\n",
              "      border-radius: 50%;\n",
              "      cursor: pointer;\n",
              "      display: none;\n",
              "      fill: #1967D2;\n",
              "      height: 32px;\n",
              "      padding: 0 0 0 0;\n",
              "      width: 32px;\n",
              "    }\n",
              "\n",
              "    .colab-df-convert:hover {\n",
              "      background-color: #E2EBFA;\n",
              "      box-shadow: 0px 1px 2px rgba(60, 64, 67, 0.3), 0px 1px 3px 1px rgba(60, 64, 67, 0.15);\n",
              "      fill: #174EA6;\n",
              "    }\n",
              "\n",
              "    [theme=dark] .colab-df-convert {\n",
              "      background-color: #3B4455;\n",
              "      fill: #D2E3FC;\n",
              "    }\n",
              "\n",
              "    [theme=dark] .colab-df-convert:hover {\n",
              "      background-color: #434B5C;\n",
              "      box-shadow: 0px 1px 3px 1px rgba(0, 0, 0, 0.15);\n",
              "      filter: drop-shadow(0px 1px 2px rgba(0, 0, 0, 0.3));\n",
              "      fill: #FFFFFF;\n",
              "    }\n",
              "  </style>\n",
              "\n",
              "      <script>\n",
              "        const buttonEl =\n",
              "          document.querySelector('#df-fe181313-1c9b-4f73-938a-e06f2ca08d4f button.colab-df-convert');\n",
              "        buttonEl.style.display =\n",
              "          google.colab.kernel.accessAllowed ? 'block' : 'none';\n",
              "\n",
              "        async function convertToInteractive(key) {\n",
              "          const element = document.querySelector('#df-fe181313-1c9b-4f73-938a-e06f2ca08d4f');\n",
              "          const dataTable =\n",
              "            await google.colab.kernel.invokeFunction('convertToInteractive',\n",
              "                                                     [key], {});\n",
              "          if (!dataTable) return;\n",
              "\n",
              "          const docLinkHtml = 'Like what you see? Visit the ' +\n",
              "            '<a target=\"_blank\" href=https://colab.research.google.com/notebooks/data_table.ipynb>data table notebook</a>'\n",
              "            + ' to learn more about interactive tables.';\n",
              "          element.innerHTML = '';\n",
              "          dataTable['output_type'] = 'display_data';\n",
              "          await google.colab.output.renderOutput(dataTable, element);\n",
              "          const docLink = document.createElement('div');\n",
              "          docLink.innerHTML = docLinkHtml;\n",
              "          element.appendChild(docLink);\n",
              "        }\n",
              "      </script>\n",
              "    </div>\n",
              "  </div>\n",
              "  "
            ]
          },
          "metadata": {},
          "execution_count": 7
        }
      ],
      "source": [
        "trials_df = study.trials_dataframe()\n",
        "trials_df"
      ]
    },
    {
      "cell_type": "code",
      "execution_count": null,
      "metadata": {
        "colab": {
          "base_uri": "https://localhost:8080/",
          "height": 542
        },
        "id": "6tew6Kj_GmzJ",
        "outputId": "da5edbde-fe35-436a-ea97-aeff14ef0da3"
      },
      "outputs": [
        {
          "data": {
            "text/html": [
              "<html>\n",
              "<head><meta charset=\"utf-8\" /></head>\n",
              "<body>\n",
              "    <div>            <script src=\"https://cdnjs.cloudflare.com/ajax/libs/mathjax/2.7.5/MathJax.js?config=TeX-AMS-MML_SVG\"></script><script type=\"text/javascript\">if (window.MathJax && window.MathJax.Hub && window.MathJax.Hub.Config) {window.MathJax.Hub.Config({SVG: {font: \"STIX-Web\"}});}</script>                <script type=\"text/javascript\">window.PlotlyConfig = {MathJaxConfig: 'local'};</script>\n",
              "        <script src=\"https://cdn.plot.ly/plotly-2.18.2.min.js\"></script>                <div id=\"7de3aebc-2117-4fa0-8a15-5a2db5be5936\" class=\"plotly-graph-div\" style=\"height:525px; width:100%;\"></div>            <script type=\"text/javascript\">                                    window.PLOTLYENV=window.PLOTLYENV || {};                                    if (document.getElementById(\"7de3aebc-2117-4fa0-8a15-5a2db5be5936\")) {                    Plotly.newPlot(                        \"7de3aebc-2117-4fa0-8a15-5a2db5be5936\",                        [{\"cliponaxis\":false,\"hovertemplate\":[\"hidden_layers (IntDistribution): 0.010289561145315991<extra></extra>\",\"lr (FloatDistribution): 0.07031627776152045<extra></extra>\",\"first_neuron (CategoricalDistribution): 0.18133707450444464<extra></extra>\",\"optimizer (CategoricalDistribution): 0.30612222974471465<extra></extra>\",\"drop_out (CategoricalDistribution): 0.43193485684400423<extra></extra>\"],\"marker\":{\"color\":\"rgb(66,146,198)\"},\"orientation\":\"h\",\"text\":[\"0.01\",\"0.07\",\"0.18\",\"0.31\",\"0.43\"],\"textposition\":\"outside\",\"x\":[0.010289561145315991,0.07031627776152045,0.18133707450444464,0.30612222974471465,0.43193485684400423],\"y\":[\"hidden_layers\",\"lr\",\"first_neuron\",\"optimizer\",\"drop_out\"],\"type\":\"bar\"}],                        {\"showlegend\":false,\"title\":{\"text\":\"Hyperparameter Importances\"},\"xaxis\":{\"title\":{\"text\":\"Importance for Objective Value\"}},\"yaxis\":{\"title\":{\"text\":\"Hyperparameter\"}},\"template\":{\"data\":{\"histogram2dcontour\":[{\"type\":\"histogram2dcontour\",\"colorbar\":{\"outlinewidth\":0,\"ticks\":\"\"},\"colorscale\":[[0.0,\"#0d0887\"],[0.1111111111111111,\"#46039f\"],[0.2222222222222222,\"#7201a8\"],[0.3333333333333333,\"#9c179e\"],[0.4444444444444444,\"#bd3786\"],[0.5555555555555556,\"#d8576b\"],[0.6666666666666666,\"#ed7953\"],[0.7777777777777778,\"#fb9f3a\"],[0.8888888888888888,\"#fdca26\"],[1.0,\"#f0f921\"]]}],\"choropleth\":[{\"type\":\"choropleth\",\"colorbar\":{\"outlinewidth\":0,\"ticks\":\"\"}}],\"histogram2d\":[{\"type\":\"histogram2d\",\"colorbar\":{\"outlinewidth\":0,\"ticks\":\"\"},\"colorscale\":[[0.0,\"#0d0887\"],[0.1111111111111111,\"#46039f\"],[0.2222222222222222,\"#7201a8\"],[0.3333333333333333,\"#9c179e\"],[0.4444444444444444,\"#bd3786\"],[0.5555555555555556,\"#d8576b\"],[0.6666666666666666,\"#ed7953\"],[0.7777777777777778,\"#fb9f3a\"],[0.8888888888888888,\"#fdca26\"],[1.0,\"#f0f921\"]]}],\"heatmap\":[{\"type\":\"heatmap\",\"colorbar\":{\"outlinewidth\":0,\"ticks\":\"\"},\"colorscale\":[[0.0,\"#0d0887\"],[0.1111111111111111,\"#46039f\"],[0.2222222222222222,\"#7201a8\"],[0.3333333333333333,\"#9c179e\"],[0.4444444444444444,\"#bd3786\"],[0.5555555555555556,\"#d8576b\"],[0.6666666666666666,\"#ed7953\"],[0.7777777777777778,\"#fb9f3a\"],[0.8888888888888888,\"#fdca26\"],[1.0,\"#f0f921\"]]}],\"heatmapgl\":[{\"type\":\"heatmapgl\",\"colorbar\":{\"outlinewidth\":0,\"ticks\":\"\"},\"colorscale\":[[0.0,\"#0d0887\"],[0.1111111111111111,\"#46039f\"],[0.2222222222222222,\"#7201a8\"],[0.3333333333333333,\"#9c179e\"],[0.4444444444444444,\"#bd3786\"],[0.5555555555555556,\"#d8576b\"],[0.6666666666666666,\"#ed7953\"],[0.7777777777777778,\"#fb9f3a\"],[0.8888888888888888,\"#fdca26\"],[1.0,\"#f0f921\"]]}],\"contourcarpet\":[{\"type\":\"contourcarpet\",\"colorbar\":{\"outlinewidth\":0,\"ticks\":\"\"}}],\"contour\":[{\"type\":\"contour\",\"colorbar\":{\"outlinewidth\":0,\"ticks\":\"\"},\"colorscale\":[[0.0,\"#0d0887\"],[0.1111111111111111,\"#46039f\"],[0.2222222222222222,\"#7201a8\"],[0.3333333333333333,\"#9c179e\"],[0.4444444444444444,\"#bd3786\"],[0.5555555555555556,\"#d8576b\"],[0.6666666666666666,\"#ed7953\"],[0.7777777777777778,\"#fb9f3a\"],[0.8888888888888888,\"#fdca26\"],[1.0,\"#f0f921\"]]}],\"surface\":[{\"type\":\"surface\",\"colorbar\":{\"outlinewidth\":0,\"ticks\":\"\"},\"colorscale\":[[0.0,\"#0d0887\"],[0.1111111111111111,\"#46039f\"],[0.2222222222222222,\"#7201a8\"],[0.3333333333333333,\"#9c179e\"],[0.4444444444444444,\"#bd3786\"],[0.5555555555555556,\"#d8576b\"],[0.6666666666666666,\"#ed7953\"],[0.7777777777777778,\"#fb9f3a\"],[0.8888888888888888,\"#fdca26\"],[1.0,\"#f0f921\"]]}],\"mesh3d\":[{\"type\":\"mesh3d\",\"colorbar\":{\"outlinewidth\":0,\"ticks\":\"\"}}],\"scatter\":[{\"fillpattern\":{\"fillmode\":\"overlay\",\"size\":10,\"solidity\":0.2},\"type\":\"scatter\"}],\"parcoords\":[{\"type\":\"parcoords\",\"line\":{\"colorbar\":{\"outlinewidth\":0,\"ticks\":\"\"}}}],\"scatterpolargl\":[{\"type\":\"scatterpolargl\",\"marker\":{\"colorbar\":{\"outlinewidth\":0,\"ticks\":\"\"}}}],\"bar\":[{\"error_x\":{\"color\":\"#2a3f5f\"},\"error_y\":{\"color\":\"#2a3f5f\"},\"marker\":{\"line\":{\"color\":\"#E5ECF6\",\"width\":0.5},\"pattern\":{\"fillmode\":\"overlay\",\"size\":10,\"solidity\":0.2}},\"type\":\"bar\"}],\"scattergeo\":[{\"type\":\"scattergeo\",\"marker\":{\"colorbar\":{\"outlinewidth\":0,\"ticks\":\"\"}}}],\"scatterpolar\":[{\"type\":\"scatterpolar\",\"marker\":{\"colorbar\":{\"outlinewidth\":0,\"ticks\":\"\"}}}],\"histogram\":[{\"marker\":{\"pattern\":{\"fillmode\":\"overlay\",\"size\":10,\"solidity\":0.2}},\"type\":\"histogram\"}],\"scattergl\":[{\"type\":\"scattergl\",\"marker\":{\"colorbar\":{\"outlinewidth\":0,\"ticks\":\"\"}}}],\"scatter3d\":[{\"type\":\"scatter3d\",\"line\":{\"colorbar\":{\"outlinewidth\":0,\"ticks\":\"\"}},\"marker\":{\"colorbar\":{\"outlinewidth\":0,\"ticks\":\"\"}}}],\"scattermapbox\":[{\"type\":\"scattermapbox\",\"marker\":{\"colorbar\":{\"outlinewidth\":0,\"ticks\":\"\"}}}],\"scatterternary\":[{\"type\":\"scatterternary\",\"marker\":{\"colorbar\":{\"outlinewidth\":0,\"ticks\":\"\"}}}],\"scattercarpet\":[{\"type\":\"scattercarpet\",\"marker\":{\"colorbar\":{\"outlinewidth\":0,\"ticks\":\"\"}}}],\"carpet\":[{\"aaxis\":{\"endlinecolor\":\"#2a3f5f\",\"gridcolor\":\"white\",\"linecolor\":\"white\",\"minorgridcolor\":\"white\",\"startlinecolor\":\"#2a3f5f\"},\"baxis\":{\"endlinecolor\":\"#2a3f5f\",\"gridcolor\":\"white\",\"linecolor\":\"white\",\"minorgridcolor\":\"white\",\"startlinecolor\":\"#2a3f5f\"},\"type\":\"carpet\"}],\"table\":[{\"cells\":{\"fill\":{\"color\":\"#EBF0F8\"},\"line\":{\"color\":\"white\"}},\"header\":{\"fill\":{\"color\":\"#C8D4E3\"},\"line\":{\"color\":\"white\"}},\"type\":\"table\"}],\"barpolar\":[{\"marker\":{\"line\":{\"color\":\"#E5ECF6\",\"width\":0.5},\"pattern\":{\"fillmode\":\"overlay\",\"size\":10,\"solidity\":0.2}},\"type\":\"barpolar\"}],\"pie\":[{\"automargin\":true,\"type\":\"pie\"}]},\"layout\":{\"autotypenumbers\":\"strict\",\"colorway\":[\"#636efa\",\"#EF553B\",\"#00cc96\",\"#ab63fa\",\"#FFA15A\",\"#19d3f3\",\"#FF6692\",\"#B6E880\",\"#FF97FF\",\"#FECB52\"],\"font\":{\"color\":\"#2a3f5f\"},\"hovermode\":\"closest\",\"hoverlabel\":{\"align\":\"left\"},\"paper_bgcolor\":\"white\",\"plot_bgcolor\":\"#E5ECF6\",\"polar\":{\"bgcolor\":\"#E5ECF6\",\"angularaxis\":{\"gridcolor\":\"white\",\"linecolor\":\"white\",\"ticks\":\"\"},\"radialaxis\":{\"gridcolor\":\"white\",\"linecolor\":\"white\",\"ticks\":\"\"}},\"ternary\":{\"bgcolor\":\"#E5ECF6\",\"aaxis\":{\"gridcolor\":\"white\",\"linecolor\":\"white\",\"ticks\":\"\"},\"baxis\":{\"gridcolor\":\"white\",\"linecolor\":\"white\",\"ticks\":\"\"},\"caxis\":{\"gridcolor\":\"white\",\"linecolor\":\"white\",\"ticks\":\"\"}},\"coloraxis\":{\"colorbar\":{\"outlinewidth\":0,\"ticks\":\"\"}},\"colorscale\":{\"sequential\":[[0.0,\"#0d0887\"],[0.1111111111111111,\"#46039f\"],[0.2222222222222222,\"#7201a8\"],[0.3333333333333333,\"#9c179e\"],[0.4444444444444444,\"#bd3786\"],[0.5555555555555556,\"#d8576b\"],[0.6666666666666666,\"#ed7953\"],[0.7777777777777778,\"#fb9f3a\"],[0.8888888888888888,\"#fdca26\"],[1.0,\"#f0f921\"]],\"sequentialminus\":[[0.0,\"#0d0887\"],[0.1111111111111111,\"#46039f\"],[0.2222222222222222,\"#7201a8\"],[0.3333333333333333,\"#9c179e\"],[0.4444444444444444,\"#bd3786\"],[0.5555555555555556,\"#d8576b\"],[0.6666666666666666,\"#ed7953\"],[0.7777777777777778,\"#fb9f3a\"],[0.8888888888888888,\"#fdca26\"],[1.0,\"#f0f921\"]],\"diverging\":[[0,\"#8e0152\"],[0.1,\"#c51b7d\"],[0.2,\"#de77ae\"],[0.3,\"#f1b6da\"],[0.4,\"#fde0ef\"],[0.5,\"#f7f7f7\"],[0.6,\"#e6f5d0\"],[0.7,\"#b8e186\"],[0.8,\"#7fbc41\"],[0.9,\"#4d9221\"],[1,\"#276419\"]]},\"xaxis\":{\"gridcolor\":\"white\",\"linecolor\":\"white\",\"ticks\":\"\",\"title\":{\"standoff\":15},\"zerolinecolor\":\"white\",\"automargin\":true,\"zerolinewidth\":2},\"yaxis\":{\"gridcolor\":\"white\",\"linecolor\":\"white\",\"ticks\":\"\",\"title\":{\"standoff\":15},\"zerolinecolor\":\"white\",\"automargin\":true,\"zerolinewidth\":2},\"scene\":{\"xaxis\":{\"backgroundcolor\":\"#E5ECF6\",\"gridcolor\":\"white\",\"linecolor\":\"white\",\"showbackground\":true,\"ticks\":\"\",\"zerolinecolor\":\"white\",\"gridwidth\":2},\"yaxis\":{\"backgroundcolor\":\"#E5ECF6\",\"gridcolor\":\"white\",\"linecolor\":\"white\",\"showbackground\":true,\"ticks\":\"\",\"zerolinecolor\":\"white\",\"gridwidth\":2},\"zaxis\":{\"backgroundcolor\":\"#E5ECF6\",\"gridcolor\":\"white\",\"linecolor\":\"white\",\"showbackground\":true,\"ticks\":\"\",\"zerolinecolor\":\"white\",\"gridwidth\":2}},\"shapedefaults\":{\"line\":{\"color\":\"#2a3f5f\"}},\"annotationdefaults\":{\"arrowcolor\":\"#2a3f5f\",\"arrowhead\":0,\"arrowwidth\":1},\"geo\":{\"bgcolor\":\"white\",\"landcolor\":\"#E5ECF6\",\"subunitcolor\":\"white\",\"showland\":true,\"showlakes\":true,\"lakecolor\":\"white\"},\"title\":{\"x\":0.05},\"mapbox\":{\"style\":\"light\"}}}},                        {\"responsive\": true}                    ).then(function(){\n",
              "                            \n",
              "var gd = document.getElementById('7de3aebc-2117-4fa0-8a15-5a2db5be5936');\n",
              "var x = new MutationObserver(function (mutations, observer) {{\n",
              "        var display = window.getComputedStyle(gd).display;\n",
              "        if (!display || display === 'none') {{\n",
              "            console.log([gd, 'removed!']);\n",
              "            Plotly.purge(gd);\n",
              "            observer.disconnect();\n",
              "        }}\n",
              "}});\n",
              "\n",
              "// Listen for the removal of the full notebook cells\n",
              "var notebookContainer = gd.closest('#notebook-container');\n",
              "if (notebookContainer) {{\n",
              "    x.observe(notebookContainer, {childList: true});\n",
              "}}\n",
              "\n",
              "// Listen for the clearing of the current output cell\n",
              "var outputEl = gd.closest('.output');\n",
              "if (outputEl) {{\n",
              "    x.observe(outputEl, {childList: true});\n",
              "}}\n",
              "\n",
              "                        })                };                            </script>        </div>\n",
              "</body>\n",
              "</html>"
            ]
          },
          "metadata": {},
          "output_type": "display_data"
        }
      ],
      "source": [
        "fig = optuna.visualization.plot_param_importances(study)\n",
        "fig.show()"
      ]
    },
    {
      "cell_type": "code",
      "execution_count": null,
      "metadata": {
        "id": "lLylR_KuH6i2"
      },
      "outputs": [],
      "source": [
        "from google.colab import runtime\n",
        "runtime.unassign()"
      ]
    },
    {
      "cell_type": "markdown",
      "metadata": {
        "id": "mTExxDn8GmzJ"
      },
      "source": [
        "## Re-train the ResNet50V2 model using the best hyperparameters."
      ]
    },
    {
      "cell_type": "code",
      "execution_count": null,
      "metadata": {
        "colab": {
          "base_uri": "https://localhost:8080/"
        },
        "id": "xwCSgDAzGmzJ",
        "outputId": "47507046-ce27-484a-eade-1306fecac468"
      },
      "outputs": [
        {
          "output_type": "stream",
          "name": "stdout",
          "text": [
            "Found 713 images belonging to 2 classes.\n",
            "Found 237 images belonging to 2 classes.\n",
            "Found 950 images belonging to 2 classes.\n",
            "Found 240 images belonging to 2 classes.\n",
            "Downloading data from https://storage.googleapis.com/tensorflow/keras-applications/resnet/resnet50v2_weights_tf_dim_ordering_tf_kernels_notop.h5\n",
            "94668760/94668760 [==============================] - 6s 0us/step\n",
            "Epoch 1/15\n",
            "30/30 [==============================] - 221s 7s/step - loss: 4.1540 - accuracy: 0.6053 - recall: 0.6166 - precision: 0.8674 - val_loss: 1.4120 - val_accuracy: 0.5542 - val_recall: 0.5152 - val_precision: 0.9027\n",
            "Epoch 2/15\n",
            "30/30 [==============================] - 76s 2s/step - loss: 1.1717 - accuracy: 0.6537 - recall: 0.6675 - precision: 0.8851 - val_loss: 0.8385 - val_accuracy: 0.5750 - val_recall: 0.5202 - val_precision: 0.9364\n",
            "Epoch 3/15\n",
            "30/30 [==============================] - 82s 3s/step - loss: 0.9702 - accuracy: 0.6758 - recall: 0.6892 - precision: 0.8942 - val_loss: 0.8429 - val_accuracy: 0.5708 - val_recall: 0.5253 - val_precision: 0.9204\n",
            "Epoch 4/15\n",
            "30/30 [==============================] - 80s 2s/step - loss: 0.7854 - accuracy: 0.7074 - recall: 0.7121 - precision: 0.9149 - val_loss: 0.7569 - val_accuracy: 0.6000 - val_recall: 0.5707 - val_precision: 0.9113\n",
            "Epoch 5/15\n",
            "30/30 [==============================] - 79s 2s/step - loss: 0.8254 - accuracy: 0.7000 - recall: 0.7197 - precision: 0.8968 - val_loss: 0.5952 - val_accuracy: 0.7875 - val_recall: 0.8384 - val_precision: 0.8973\n",
            "Epoch 6/15\n",
            "30/30 [==============================] - 79s 2s/step - loss: 0.7743 - accuracy: 0.7105 - recall: 0.7248 - precision: 0.9061 - val_loss: 0.7198 - val_accuracy: 0.6792 - val_recall: 0.6717 - val_precision: 0.9172\n",
            "Epoch 7/15\n",
            "30/30 [==============================] - 82s 3s/step - loss: 0.7210 - accuracy: 0.7284 - recall: 0.7439 - precision: 0.9111 - val_loss: 0.5862 - val_accuracy: 0.8042 - val_recall: 0.8687 - val_precision: 0.8912\n",
            "Epoch 8/15\n",
            "30/30 [==============================] - 82s 3s/step - loss: 0.7560 - accuracy: 0.7358 - recall: 0.7567 - precision: 0.9083 - val_loss: 0.7704 - val_accuracy: 0.6792 - val_recall: 0.6616 - val_precision: 0.9291\n",
            "Epoch 9/15\n",
            "30/30 [==============================] - 81s 3s/step - loss: 0.7513 - accuracy: 0.7032 - recall: 0.7223 - precision: 0.8986 - val_loss: 0.6952 - val_accuracy: 0.7042 - val_recall: 0.6768 - val_precision: 0.9504\n",
            "Epoch 10/15\n",
            "30/30 [==============================] - 78s 2s/step - loss: 0.7268 - accuracy: 0.7053 - recall: 0.7159 - precision: 0.9079 - val_loss: 0.6567 - val_accuracy: 0.7750 - val_recall: 0.8283 - val_precision: 0.8913\n",
            "Epoch 11/15\n",
            "30/30 [==============================] - 79s 2s/step - loss: 0.6704 - accuracy: 0.7242 - recall: 0.7363 - precision: 0.9131 - val_loss: 0.7022 - val_accuracy: 0.7000 - val_recall: 0.6768 - val_precision: 0.9437\n",
            "Epoch 12/15\n",
            "30/30 [==============================] - 80s 2s/step - loss: 0.6844 - accuracy: 0.7621 - recall: 0.7707 - precision: 0.9293 - val_loss: 0.8087 - val_accuracy: 0.6542 - val_recall: 0.6364 - val_precision: 0.9197\n",
            "Epoch 13/15\n",
            "30/30 [==============================] - 86s 3s/step - loss: 0.7020 - accuracy: 0.7400 - recall: 0.7541 - precision: 0.9164 - val_loss: 0.8056 - val_accuracy: 0.6542 - val_recall: 0.6111 - val_precision: 0.9528\n",
            "Epoch 14/15\n",
            "30/30 [==============================] - 74s 2s/step - loss: 0.6050 - accuracy: 0.7684 - recall: 0.7745 - precision: 0.9339 - val_loss: 0.6400 - val_accuracy: 0.7833 - val_recall: 0.7980 - val_precision: 0.9294\n",
            "Epoch 15/15\n",
            "30/30 [==============================] - 79s 2s/step - loss: 0.6308 - accuracy: 0.7621 - recall: 0.7796 - precision: 0.9203 - val_loss: 0.7559 - val_accuracy: 0.7125 - val_recall: 0.7020 - val_precision: 0.9329\n"
          ]
        }
      ],
      "source": [
        "clear_session()\n",
        "\n",
        "from tensorflow.keras.applications import ResNet50V2\n",
        "from tensorflow.keras import layers\n",
        "\n",
        "# preprocess data\n",
        "train, val, train_val, test = train_val_test_generators(train_dir, val_dir, train_val_dir, test_dir)\n",
        "\n",
        "class_weights_train_val = compute_class_weight(class_weight = 'balanced', classes = np.unique(train_val.classes), y = train_val.classes)\n",
        "class_weights_train_val = {i : class_weights_train_val[i] for i in range(2)}\n",
        "\n",
        "# get best hyperparameters\n",
        "best_hidden_layers = 1# study.best_params['hidden_layers']\n",
        "best_neurons = 256 #study.best_params['first_neuron']\n",
        "best_dropout = 0.3 #study.best_params['drop_out']\n",
        "best_optimizer = 'RMSprop' #study.best_params['optimizer']\n",
        "best_lr = 0.000295\t#study.best_params['lr']\n",
        "epochs = 15 # take best epoch from HP tuning trail\n",
        "\n",
        "# retrain model\n",
        "ResNet50V2_model = ResNet50V2(input_shape = (224, 224, 3), \n",
        "                                include_top = False, \n",
        "                                weights = 'imagenet')\n",
        "\n",
        "for layer in ResNet50V2_model.layers:\n",
        "  layer.trainable = False\n",
        "\n",
        "last_output = ResNet50V2_model.output\n",
        "x = layers.Flatten()(last_output)\n",
        "\n",
        "for i in range(best_hidden_layers):\n",
        "  x = layers.Dense(best_neurons, activation='relu')(x)\n",
        "  x = layers.Dropout(best_dropout)(x)                  \n",
        "\n",
        "x = layers.Dense(1, activation='sigmoid')(x)           \n",
        "\n",
        "model = Model(ResNet50V2_model.input, x) \n",
        "\n",
        "if best_optimizer == 'Adam':\n",
        "    optimizer = Adam(learning_rate=best_lr)\n",
        "elif best_optimizer == 'RMSprop':\n",
        "    optimizer = RMSprop(learning_rate=best_lr)\n",
        "elif best_optimizer == 'AdamW':\n",
        "    optimizer = AdamW(learning_rate=best_lr)\n",
        "\n",
        "\n",
        "model.compile(optimizer=optimizer,\n",
        "              loss = 'binary_crossentropy', \n",
        "              metrics = ['accuracy', Recall(), Precision()])\n",
        "\n",
        "early_stop = EarlyStopping(monitor='val_loss', patience=5, restore_best_weights=True)\n",
        "\n",
        "ResNet50V2_history = model.fit(train_val, validation_data=test, # test set used only for monitoring loss and accuracy, not for HP tuning\n",
        "                               class_weight=class_weights_train_val, epochs = epochs,\n",
        "                               max_queue_size=40, workers=4, use_multiprocessing=True)"
      ]
    },
    {
      "cell_type": "code",
      "execution_count": null,
      "metadata": {
        "colab": {
          "base_uri": "https://localhost:8080/",
          "height": 927
        },
        "id": "tVrIxV1Jo2Kx",
        "outputId": "c0ce7bc0-0537-4075-99f6-957d19e9a005"
      },
      "outputs": [
        {
          "output_type": "display_data",
          "data": {
            "text/plain": [
              "<Figure size 640x480 with 1 Axes>"
            ],
            "image/png": "[encoded data removed]"
          },
          "metadata": {}
        },
        {
          "output_type": "display_data",
          "data": {
            "text/plain": [
              "<Figure size 640x480 with 1 Axes>"
            ],
            "image/png": "[encoded data removed]"
          },
          "metadata": {}
        }
      ],
      "source": [
        "# Plot training and validation accuracy curves\n",
        "plt.plot(ResNet50V2_history.history['accuracy'])\n",
        "plt.plot(ResNet50V2_history.history['val_accuracy'])\n",
        "plt.title('ResNet50V2 model accuracy')\n",
        "plt.ylabel('Accuracy')\n",
        "plt.xlabel('Epoch')\n",
        "plt.legend(['Train_Val', 'Test'], loc='upper left')\n",
        "plt.show()\n",
        "\n",
        "# Plot training and validation loss curves\n",
        "plt.plot(ResNet50V2_history.history['loss'])\n",
        "plt.plot(ResNet50V2_history.history['val_loss'])\n",
        "plt.title(' ResNet50V2 model loss')\n",
        "plt.ylabel('Loss')\n",
        "plt.xlabel('Epoch')\n",
        "plt.legend(['Train_Val', 'Test'], loc='upper left')\n",
        "plt.show()"
      ]
    },
    {
      "cell_type": "markdown",
      "metadata": {
        "id": "rct3noKIGmzJ"
      },
      "source": [
        "## Test the performance of the ResNet50V2 model on the test set."
      ]
    },
    {
      "cell_type": "code",
      "execution_count": null,
      "metadata": {
        "colab": {
          "base_uri": "https://localhost:8080/"
        },
        "id": "XNAz8loKGmzK",
        "outputId": "7f9826fd-f688-4d6e-b285-1959705456d2"
      },
      "outputs": [
        {
          "output_type": "stream",
          "name": "stdout",
          "text": [
            "8/8 [==============================] - 45s 5s/step - loss: 0.7559 - accuracy: 0.7125 - recall: 0.7020 - precision: 0.9329\n",
            "Test loss: 0.7558514475822449\n",
            "Test accuracy: 0.7124999761581421\n"
          ]
        }
      ],
      "source": [
        "# Evaluate model performance on test set\n",
        "performance_ResNet50V2 = model.evaluate(test)\n",
        "print('Test loss:', performance_ResNet50V2[0])\n",
        "print('Test accuracy:', performance_ResNet50V2[1])"
      ]
    },
    {
      "cell_type": "code",
      "execution_count": null,
      "metadata": {
        "colab": {
          "base_uri": "https://localhost:8080/"
        },
        "id": "jvYdRWRkGmzK",
        "outputId": "6170ea60-2ccf-486d-f719-4742eb214ea9"
      },
      "outputs": [
        {
          "output_type": "stream",
          "name": "stdout",
          "text": [
            "8/8 [==============================] - 46s 6s/step\n",
            "Accuracy: 0.7125\n",
            "Precision: 0.9328859060402684\n",
            "Recall: 0.702020202020202\n",
            "F1-score: 0.8011527377521613\n",
            "F1_score_macro: 0.6411778726354792\n",
            "AUC-ROC: 0.7319624819624818\n",
            "\n",
            "              precision    recall  f1-score   support\n",
            "\n",
            "           0       0.35      0.76      0.48        42\n",
            "           1       0.93      0.70      0.80       198\n",
            "\n",
            "    accuracy                           0.71       240\n",
            "   macro avg       0.64      0.73      0.64       240\n",
            "weighted avg       0.83      0.71      0.75       240\n",
            "\n"
          ]
        }
      ],
      "source": [
        "# Use the trained model to predict on the test set and round the prediction\n",
        "y_pred = model.predict(test)\n",
        "y_pred = np.round(y_pred)\n",
        "\n",
        "# Calculate the evaluation metrics\n",
        "accuracy = accuracy_score(test.labels, y_pred)\n",
        "precision = precision_score(test.labels, y_pred)\n",
        "recall = recall_score(test.labels, y_pred)\n",
        "f1score = f1_score(test.labels, y_pred)\n",
        "f1score_macro = f1_score(test.labels, y_pred, average = 'macro')\n",
        "auc_roc = roc_auc_score(test.labels, y_pred)\n",
        "\n",
        "# Print the evaluation metrics\n",
        "print('Accuracy:', accuracy)\n",
        "print('Precision:', precision)\n",
        "print('Recall:', recall)\n",
        "print('F1-score:', f1score)\n",
        "print('F1_score_macro:', f1score_macro)\n",
        "print('AUC-ROC:', auc_roc)\n",
        "print()\n",
        "\n",
        "print(classification_report(test.labels, y_pred))"
      ]
    },
    {
      "cell_type": "code",
      "execution_count": null,
      "metadata": {
        "colab": {
          "base_uri": "https://localhost:8080/",
          "height": 506
        },
        "id": "-WKZ_TQjGmzK",
        "outputId": "fa1ad779-3acf-4784-ce0e-91afc33d24b9"
      },
      "outputs": [
        {
          "output_type": "display_data",
          "data": {
            "text/plain": [
              "<Figure size 640x480 with 2 Axes>"
            ],
            "image/png": "[encoded data removed]"
          },
          "metadata": {}
        }
      ],
      "source": [
        "# Create a confusion matrix:\n",
        "cm = confusion_matrix(test.labels, y_pred)\n",
        "\n",
        "# Define the class labels\n",
        "classes = np.unique(['Healthy', 'Scab'])\n",
        "\n",
        "# Create the plot\n",
        "fig, ax = plt.subplots()\n",
        "im = ax.imshow(cm, interpolation='nearest', cmap=plt.cm.Blues)\n",
        "ax.figure.colorbar(im, ax=ax)\n",
        "\n",
        "# Add axis labels and tick marks\n",
        "ax.set(xticks=np.arange(cm.shape[1]),\n",
        "       yticks=np.arange(cm.shape[0]),\n",
        "       xticklabels=classes,\n",
        "       yticklabels=classes,\n",
        "       xlabel='Predicted label',\n",
        "       ylabel='True label')\n",
        "\n",
        "# Rotate the tick labels and set their alignment\n",
        "plt.setp(ax.get_xticklabels(), rotation=45, ha=\"right\",\n",
        "         rotation_mode=\"anchor\")\n",
        "\n",
        "# Loop over data dimensions and create text annotations\n",
        "for i in range(cm.shape[0]):\n",
        "    for j in range(cm.shape[1]):\n",
        "        ax.text(j, i, format(cm[i, j], 'd'),\n",
        "                ha=\"center\", va=\"center\",\n",
        "                color=\"white\" if cm[i, j] > cm.max() / 2. else \"black\")\n",
        "\n",
        "# Add a title and show plot\n",
        "ax.set_title(\"Confusion Matrix ResNet50V2\")\n",
        "plt.show()"
      ]
    },
    {
      "cell_type": "markdown",
      "metadata": {
        "id": "QS12H1oJGrJl"
      },
      "source": [
        "# EfficientNetV2B0 model:"
      ]
    },
    {
      "cell_type": "markdown",
      "metadata": {
        "id": "wtD756LbGrJw"
      },
      "source": [
        "## Perform hyperparameter tuning on the EfficientNetV2B0 model."
      ]
    },
    {
      "cell_type": "code",
      "execution_count": null,
      "metadata": {
        "colab": {
          "base_uri": "https://localhost:8080/"
        },
        "id": "_bixIesiGrJw",
        "outputId": "1f65bb1a-b9c5-4c3e-b1af-44f8c36a15e7"
      },
      "outputs": [
        {
          "metadata": {
            "tags": null
          },
          "name": "stderr",
          "output_type": "stream",
          "text": [
            "<ipython-input-12-2c637992ec41>:70: UserWarning: Recent Keras release (2.4.0) simply redirects all APIs in the standalone keras package to point to tf.keras. There is now only one Keras: tf.keras. There may be some breaking changes for some workflows by upgrading to keras 2.4.0. Test before upgrading. REF:https://github.com/keras-team/keras/releases/tag/2.4.0\n",
            "  warnings.warn(\n",
            "\u001b[32m[I 2023-05-15 18:40:39,348]\u001b[0m A new study created in memory with name: no-name-88e4a16b-f739-49ec-a7a4-b1fbe9e47ec6\u001b[0m\n"
          ]
        },
        {
          "metadata": {
            "tags": null
          },
          "name": "stdout",
          "output_type": "stream",
          "text": [
            "Found 713 images belonging to 2 classes.\n",
            "Found 237 images belonging to 2 classes.\n",
            "Found 950 images belonging to 2 classes.\n",
            "Found 240 images belonging to 2 classes.\n",
            "Downloading data from https://storage.googleapis.com/tensorflow/keras-applications/efficientnet_v2/efficientnetv2-b0_notop.h5\n",
            "24274472/24274472 [==============================] - 2s 0us/step\n",
            "Epoch 1/100\n",
            "23/23 [==============================] - 360s 16s/step - loss: 16.5781 - accuracy: 0.5849 - recall: 0.6112 - precision: 0.8431 - val_loss: 2.5726 - val_accuracy: 0.8270 - val_recall: 1.0000 - val_precision: 0.8270\n",
            "Epoch 2/100\n",
            "23/23 [==============================] - 101s 4s/step - loss: 3.7005 - accuracy: 0.5470 - recall: 0.5484 - precision: 0.8500 - val_loss: 0.5614 - val_accuracy: 0.7089 - val_recall: 0.7959 - val_precision: 0.8432\n",
            "Epoch 3/100\n",
            "23/23 [==============================] - 104s 4s/step - loss: 1.8348 - accuracy: 0.4250 - recall: 0.3837 - precision: 0.8278 - val_loss: 0.8904 - val_accuracy: 0.2363 - val_recall: 0.0867 - val_precision: 0.8947\n",
            "Epoch 4/100\n",
            "23/23 [==============================] - 106s 5s/step - loss: 1.6646 - accuracy: 0.2525 - recall: 0.1426 - precision: 0.7500 - val_loss: 0.9591 - val_accuracy: 0.2025 - val_recall: 0.0357 - val_precision: 1.0000\n",
            "Epoch 5/100\n",
            "23/23 [==============================] - 103s 4s/step - loss: 0.9872 - accuracy: 0.2062 - recall: 0.0526 - precision: 0.7949 - val_loss: 0.8822 - val_accuracy: 0.2110 - val_recall: 0.0510 - val_precision: 0.9091\n",
            "Epoch 6/100\n",
            "23/23 [==============================] - 103s 4s/step - loss: 0.9004 - accuracy: 0.2833 - recall: 0.1579 - precision: 0.8611 - val_loss: 0.7220 - val_accuracy: 0.7468 - val_recall: 0.8571 - val_precision: 0.8400\n",
            "Epoch 7/100\n",
            "23/23 [==============================] - 100s 4s/step - loss: 0.8633 - accuracy: 0.3885 - recall: 0.3328 - precision: 0.8201 - val_loss: 0.6927 - val_accuracy: 0.7848 - val_recall: 0.9235 - val_precision: 0.8341\n",
            "8/8 [==============================] - 45s 5s/step\n"
          ]
        },
        {
          "metadata": {
            "tags": null
          },
          "name": "stderr",
          "output_type": "stream",
          "text": [
            "\u001b[32m[I 2023-05-15 18:58:29,142]\u001b[0m Trial 0 finished with value: 0.538481076962154 and parameters: {'hidden_layers': 2, 'first_neuron': 128, 'drop_out': 0.5, 'optimizer': 'RMSprop', 'lr': 0.0034586306630641404}. Best is trial 0 with value: 0.538481076962154.\u001b[0m\n"
          ]
        },
        {
          "metadata": {
            "tags": null
          },
          "name": "stdout",
          "output_type": "stream",
          "text": [
            "0.538481076962154\n",
            "0.7088607594936709\n",
            "Found 713 images belonging to 2 classes.\n",
            "Found 237 images belonging to 2 classes.\n",
            "Found 950 images belonging to 2 classes.\n",
            "Found 240 images belonging to 2 classes.\n",
            "Epoch 1/100\n",
            "23/23 [==============================] - 118s 5s/step - loss: 1.8329 - accuracy: 0.5806 - recall: 0.5976 - precision: 0.8502 - val_loss: 0.7450 - val_accuracy: 0.6371 - val_recall: 0.6173 - val_precision: 0.9167\n",
            "Epoch 2/100\n",
            "23/23 [==============================] - 101s 4s/step - loss: 0.9197 - accuracy: 0.6339 - recall: 0.6367 - precision: 0.8886 - val_loss: 0.6244 - val_accuracy: 0.6540 - val_recall: 0.6122 - val_precision: 0.9524\n",
            "Epoch 3/100\n",
            "23/23 [==============================] - 106s 4s/step - loss: 0.7133 - accuracy: 0.6718 - recall: 0.6808 - precision: 0.8971 - val_loss: 0.5972 - val_accuracy: 0.6414 - val_recall: 0.6173 - val_precision: 0.9237\n",
            "Epoch 4/100\n",
            "23/23 [==============================] - 105s 4s/step - loss: 0.7766 - accuracy: 0.6424 - recall: 0.6503 - precision: 0.8866 - val_loss: 0.5286 - val_accuracy: 0.7426 - val_recall: 0.7602 - val_precision: 0.9141\n",
            "Epoch 5/100\n",
            "23/23 [==============================] - 106s 5s/step - loss: 0.8244 - accuracy: 0.6424 - recall: 0.6486 - precision: 0.8884 - val_loss: 0.4765 - val_accuracy: 0.7764 - val_recall: 0.8061 - val_precision: 0.9133\n",
            "Epoch 6/100\n",
            "23/23 [==============================] - 104s 4s/step - loss: 0.6743 - accuracy: 0.6942 - recall: 0.6978 - precision: 0.9113 - val_loss: 0.4472 - val_accuracy: 0.8017 - val_recall: 0.8622 - val_precision: 0.8942\n",
            "Epoch 7/100\n",
            "23/23 [==============================] - 102s 4s/step - loss: 0.8024 - accuracy: 0.6424 - recall: 0.6520 - precision: 0.8848 - val_loss: 0.5051 - val_accuracy: 0.7932 - val_recall: 0.8163 - val_precision: 0.9249\n",
            "Epoch 8/100\n",
            "23/23 [==============================] - 102s 4s/step - loss: 0.7033 - accuracy: 0.6578 - recall: 0.6570 - precision: 0.9021 - val_loss: 0.5323 - val_accuracy: 0.7595 - val_recall: 0.7653 - val_precision: 0.9317\n",
            "Epoch 9/100\n",
            "23/23 [==============================] - 104s 4s/step - loss: 0.8164 - accuracy: 0.6466 - recall: 0.6452 - precision: 0.8983 - val_loss: 0.5789 - val_accuracy: 0.7257 - val_recall: 0.7143 - val_precision: 0.9396\n",
            "Epoch 10/100\n",
            "23/23 [==============================] - 101s 4s/step - loss: 0.6514 - accuracy: 0.6704 - recall: 0.6672 - precision: 0.9097 - val_loss: 0.5097 - val_accuracy: 0.7932 - val_recall: 0.8163 - val_precision: 0.9249\n",
            "Epoch 11/100\n",
            "23/23 [==============================] - 101s 4s/step - loss: 0.6153 - accuracy: 0.7111 - recall: 0.7148 - precision: 0.9172 - val_loss: 0.4852 - val_accuracy: 0.7890 - val_recall: 0.8163 - val_precision: 0.9195\n",
            "8/8 [==============================] - 46s 5s/step\n"
          ]
        },
        {
          "metadata": {
            "tags": null
          },
          "name": "stderr",
          "output_type": "stream",
          "text": [
            "\u001b[32m[I 2023-05-15 19:19:07,426]\u001b[0m Trial 1 finished with value: 0.6749160951408143 and parameters: {'hidden_layers': 1, 'first_neuron': 256, 'drop_out': 0.5, 'optimizer': 'RMSprop', 'lr': 0.00020379047848451774}. Best is trial 1 with value: 0.6749160951408143.\u001b[0m\n"
          ]
        },
        {
          "metadata": {
            "tags": null
          },
          "name": "stdout",
          "output_type": "stream",
          "text": [
            "0.6749160951408143\n",
            "0.8016877637130801\n",
            "Found 713 images belonging to 2 classes.\n",
            "Found 237 images belonging to 2 classes.\n",
            "Found 950 images belonging to 2 classes.\n",
            "Found 240 images belonging to 2 classes.\n",
            "Epoch 1/100\n",
            "23/23 [==============================] - 118s 5s/step - loss: 0.9216 - accuracy: 0.5680 - recall: 0.5857 - precision: 0.8435 - val_loss: 0.6881 - val_accuracy: 0.5949 - val_recall: 0.5714 - val_precision: 0.9032\n",
            "Epoch 2/100\n",
            "23/23 [==============================] - 104s 4s/step - loss: 0.6761 - accuracy: 0.6003 - recall: 0.5942 - precision: 0.8838 - val_loss: 0.5001 - val_accuracy: 0.8228 - val_recall: 0.9235 - val_precision: 0.8702\n",
            "Epoch 3/100\n",
            "23/23 [==============================] - 103s 4s/step - loss: 0.6060 - accuracy: 0.6255 - recall: 0.5891 - precision: 0.9328 - val_loss: 0.4693 - val_accuracy: 0.8228 - val_recall: 0.8929 - val_precision: 0.8929\n",
            "Epoch 4/100\n",
            "23/23 [==============================] - 102s 4s/step - loss: 0.6043 - accuracy: 0.6858 - recall: 0.6978 - precision: 0.8993 - val_loss: 0.4292 - val_accuracy: 0.8565 - val_recall: 0.9235 - val_precision: 0.9050\n",
            "Epoch 5/100\n",
            "23/23 [==============================] - 102s 4s/step - loss: 0.5289 - accuracy: 0.7405 - recall: 0.7453 - precision: 0.9262 - val_loss: 0.4565 - val_accuracy: 0.8186 - val_recall: 0.8418 - val_precision: 0.9322\n",
            "Epoch 6/100\n",
            "23/23 [==============================] - 103s 4s/step - loss: 0.5459 - accuracy: 0.7125 - recall: 0.7097 - precision: 0.9248 - val_loss: 0.4335 - val_accuracy: 0.8270 - val_recall: 0.8571 - val_precision: 0.9282\n",
            "Epoch 7/100\n",
            "23/23 [==============================] - 105s 4s/step - loss: 0.5075 - accuracy: 0.7602 - recall: 0.7657 - precision: 0.9318 - val_loss: 0.4152 - val_accuracy: 0.8397 - val_recall: 0.8724 - val_precision: 0.9293\n",
            "Epoch 8/100\n",
            "23/23 [==============================] - 105s 4s/step - loss: 0.4726 - accuracy: 0.7742 - recall: 0.7674 - precision: 0.9496 - val_loss: 0.4359 - val_accuracy: 0.8101 - val_recall: 0.8316 - val_precision: 0.9314\n",
            "Epoch 9/100\n",
            "23/23 [==============================] - 104s 4s/step - loss: 0.4425 - accuracy: 0.8065 - recall: 0.8149 - precision: 0.9430 - val_loss: 0.5158 - val_accuracy: 0.7511 - val_recall: 0.7500 - val_precision: 0.9363\n",
            "Epoch 10/100\n",
            "23/23 [==============================] - 106s 4s/step - loss: 0.4283 - accuracy: 0.8093 - recall: 0.8065 - precision: 0.9557 - val_loss: 0.4452 - val_accuracy: 0.7975 - val_recall: 0.8265 - val_precision: 0.9205\n",
            "Epoch 11/100\n",
            "23/23 [==============================] - 105s 4s/step - loss: 0.4342 - accuracy: 0.7658 - recall: 0.7521 - precision: 0.9547 - val_loss: 0.4505 - val_accuracy: 0.8186 - val_recall: 0.8418 - val_precision: 0.9322\n",
            "Epoch 12/100\n",
            "23/23 [==============================] - 104s 4s/step - loss: 0.4383 - accuracy: 0.7952 - recall: 0.7997 - precision: 0.9439 - val_loss: 0.4365 - val_accuracy: 0.8059 - val_recall: 0.8418 - val_precision: 0.9167\n",
            "8/8 [==============================] - 47s 6s/step\n"
          ]
        },
        {
          "metadata": {
            "tags": null
          },
          "name": "stderr",
          "output_type": "stream",
          "text": [
            "\u001b[32m[I 2023-05-15 19:41:33,571]\u001b[0m Trial 2 finished with value: 0.7478723404255319 and parameters: {'hidden_layers': 1, 'first_neuron': 256, 'drop_out': 0, 'optimizer': 'AdamW', 'lr': 5.8893604206950856e-05}. Best is trial 2 with value: 0.7478723404255319.\u001b[0m\n"
          ]
        },
        {
          "metadata": {
            "tags": null
          },
          "name": "stdout",
          "output_type": "stream",
          "text": [
            "0.7478723404255319\n",
            "0.8396624472573839\n",
            "Found 713 images belonging to 2 classes.\n",
            "Found 237 images belonging to 2 classes.\n",
            "Found 950 images belonging to 2 classes.\n",
            "Found 240 images belonging to 2 classes.\n",
            "Epoch 1/100\n",
            "23/23 [==============================] - 120s 5s/step - loss: 1.1236 - accuracy: 0.6017 - recall: 0.6316 - precision: 0.8474 - val_loss: 0.8019 - val_accuracy: 0.4515 - val_recall: 0.3673 - val_precision: 0.9231\n",
            "Epoch 2/100\n",
            "23/23 [==============================] - 104s 4s/step - loss: 0.7310 - accuracy: 0.5764 - recall: 0.5722 - precision: 0.8708 - val_loss: 0.5530 - val_accuracy: 0.6962 - val_recall: 0.7245 - val_precision: 0.8875\n",
            "Epoch 3/100\n",
            "23/23 [==============================] - 104s 4s/step - loss: 0.7208 - accuracy: 0.6213 - recall: 0.6316 - precision: 0.8753 - val_loss: 0.6141 - val_accuracy: 0.6371 - val_recall: 0.6020 - val_precision: 0.9365\n",
            "Epoch 4/100\n",
            "23/23 [==============================] - 101s 4s/step - loss: 0.7186 - accuracy: 0.6045 - recall: 0.6112 - precision: 0.8717 - val_loss: 0.5849 - val_accuracy: 0.6920 - val_recall: 0.6786 - val_precision: 0.9301\n",
            "Epoch 5/100\n",
            "23/23 [==============================] - 104s 4s/step - loss: 0.7035 - accuracy: 0.6424 - recall: 0.6469 - precision: 0.8902 - val_loss: 0.6990 - val_accuracy: 0.5992 - val_recall: 0.5306 - val_precision: 0.9720\n",
            "Epoch 6/100\n",
            "23/23 [==============================] - 107s 5s/step - loss: 0.7097 - accuracy: 0.5806 - recall: 0.5671 - precision: 0.8836 - val_loss: 0.6769 - val_accuracy: 0.5781 - val_recall: 0.5102 - val_precision: 0.9615\n",
            "Epoch 7/100\n",
            "23/23 [==============================] - 105s 4s/step - loss: 0.7498 - accuracy: 0.6283 - recall: 0.6146 - precision: 0.9050 - val_loss: 0.6106 - val_accuracy: 0.6371 - val_recall: 0.6020 - val_precision: 0.9365\n",
            "8/8 [==============================] - 47s 6s/step\n"
          ]
        },
        {
          "metadata": {
            "tags": null
          },
          "name": "stderr",
          "output_type": "stream",
          "text": [
            "\u001b[32m[I 2023-05-15 19:55:11,686]\u001b[0m Trial 3 finished with value: 0.5937916587316702 and parameters: {'hidden_layers': 1, 'first_neuron': 128, 'drop_out': 0.5, 'optimizer': 'RMSprop', 'lr': 0.00011591735940610115}. Best is trial 2 with value: 0.7478723404255319.\u001b[0m\n"
          ]
        },
        {
          "metadata": {
            "tags": null
          },
          "name": "stdout",
          "output_type": "stream",
          "text": [
            "0.5937916587316702\n",
            "0.6962025316455697\n",
            "Found 713 images belonging to 2 classes.\n",
            "Found 237 images belonging to 2 classes.\n",
            "Found 950 images belonging to 2 classes.\n",
            "Found 240 images belonging to 2 classes.\n",
            "Epoch 1/100\n",
            "23/23 [==============================] - 121s 5s/step - loss: 8.1713 - accuracy: 0.5259 - recall: 0.5552 - precision: 0.8114 - val_loss: 1.4401 - val_accuracy: 0.5105 - val_recall: 0.4592 - val_precision: 0.9000\n",
            "Epoch 2/100\n",
            "23/23 [==============================] - 103s 4s/step - loss: 2.3445 - accuracy: 0.5330 - recall: 0.5144 - precision: 0.8657 - val_loss: 0.9539 - val_accuracy: 0.7848 - val_recall: 0.9286 - val_precision: 0.8311\n",
            "Epoch 3/100\n",
            "23/23 [==============================] - 104s 4s/step - loss: 1.2497 - accuracy: 0.5722 - recall: 0.5688 - precision: 0.8679 - val_loss: 0.8140 - val_accuracy: 0.6962 - val_recall: 0.7143 - val_precision: 0.8974\n",
            "Epoch 4/100\n",
            "23/23 [==============================] - 106s 4s/step - loss: 0.9371 - accuracy: 0.6339 - recall: 0.6553 - precision: 0.8694 - val_loss: 0.5953 - val_accuracy: 0.7342 - val_recall: 0.7806 - val_precision: 0.8844\n",
            "Epoch 5/100\n",
            "23/23 [==============================] - 108s 5s/step - loss: 0.6917 - accuracy: 0.6424 - recall: 0.6418 - precision: 0.8957 - val_loss: 0.9077 - val_accuracy: 0.3755 - val_recall: 0.2551 - val_precision: 0.9615\n",
            "Epoch 6/100\n",
            "23/23 [==============================] - 105s 4s/step - loss: 0.6519 - accuracy: 0.6466 - recall: 0.6537 - precision: 0.8891 - val_loss: 0.7229 - val_accuracy: 0.8143 - val_recall: 0.8980 - val_precision: 0.8800\n",
            "Epoch 7/100\n",
            "23/23 [==============================] - 103s 4s/step - loss: 0.8773 - accuracy: 0.6971 - recall: 0.7063 - precision: 0.9063 - val_loss: 0.5745 - val_accuracy: 0.8439 - val_recall: 0.9541 - val_precision: 0.8698\n",
            "Epoch 8/100\n",
            "23/23 [==============================] - 106s 4s/step - loss: 0.8040 - accuracy: 0.6634 - recall: 0.6859 - precision: 0.8802 - val_loss: 0.5058 - val_accuracy: 0.7975 - val_recall: 0.8418 - val_precision: 0.9066\n",
            "Epoch 9/100\n",
            "23/23 [==============================] - 101s 4s/step - loss: 0.5845 - accuracy: 0.7167 - recall: 0.7267 - precision: 0.9126 - val_loss: 0.5618 - val_accuracy: 0.7342 - val_recall: 0.7092 - val_precision: 0.9586\n",
            "Epoch 10/100\n",
            "23/23 [==============================] - 103s 5s/step - loss: 0.6121 - accuracy: 0.7461 - recall: 0.7589 - precision: 0.9198 - val_loss: 0.6135 - val_accuracy: 0.7342 - val_recall: 0.7347 - val_precision: 0.9290\n",
            "Epoch 11/100\n",
            "23/23 [==============================] - 105s 4s/step - loss: 0.5799 - accuracy: 0.6872 - recall: 0.6791 - precision: 0.9217 - val_loss: 0.4622 - val_accuracy: 0.8228 - val_recall: 0.9031 - val_precision: 0.8850\n",
            "Epoch 12/100\n",
            "23/23 [==============================] - 107s 5s/step - loss: 0.7403 - accuracy: 0.7518 - recall: 0.7725 - precision: 0.9137 - val_loss: 1.0785 - val_accuracy: 0.5907 - val_recall: 0.5306 - val_precision: 0.9541\n",
            "Epoch 13/100\n",
            "23/23 [==============================] - 101s 4s/step - loss: 0.6849 - accuracy: 0.6746 - recall: 0.6604 - precision: 0.9240 - val_loss: 0.7321 - val_accuracy: 0.7468 - val_recall: 0.7602 - val_precision: 0.9198\n",
            "Epoch 14/100\n",
            "23/23 [==============================] - 106s 4s/step - loss: 0.5087 - accuracy: 0.7433 - recall: 0.7419 - precision: 0.9338 - val_loss: 0.7745 - val_accuracy: 0.7890 - val_recall: 0.7959 - val_precision: 0.9398\n",
            "Epoch 15/100\n",
            "23/23 [==============================] - 106s 4s/step - loss: 0.4807 - accuracy: 0.7602 - recall: 0.7555 - precision: 0.9428 - val_loss: 0.7295 - val_accuracy: 0.8059 - val_recall: 0.8878 - val_precision: 0.8788\n",
            "Epoch 16/100\n",
            "23/23 [==============================] - 103s 4s/step - loss: 0.5065 - accuracy: 0.7083 - recall: 0.6876 - precision: 0.9441 - val_loss: 0.5950 - val_accuracy: 0.8228 - val_recall: 0.9082 - val_precision: 0.8812\n",
            "8/8 [==============================] - 46s 5s/step\n"
          ]
        },
        {
          "metadata": {
            "tags": null
          },
          "name": "stderr",
          "output_type": "stream",
          "text": [
            "\u001b[32m[I 2023-05-15 20:24:57,357]\u001b[0m Trial 4 finished with value: 0.6777389277389277 and parameters: {'hidden_layers': 2, 'first_neuron': 128, 'drop_out': 0, 'optimizer': 'AdamW', 'lr': 0.007106431127372928}. Best is trial 2 with value: 0.7478723404255319.\u001b[0m\n"
          ]
        },
        {
          "output_type": "stream",
          "name": "stdout",
          "text": [
            "0.6777389277389277\n",
            "0.8227848101265823\n",
            "Found 713 images belonging to 2 classes.\n",
            "Found 237 images belonging to 2 classes.\n",
            "Found 950 images belonging to 2 classes.\n",
            "Found 240 images belonging to 2 classes.\n",
            "Epoch 1/100\n",
            "23/23 [==============================] - 120s 5s/step - loss: 1.3165 - accuracy: 0.5288 - recall: 0.5280 - precision: 0.8428 - val_loss: 0.4761 - val_accuracy: 0.7679 - val_recall: 0.8265 - val_precision: 0.8852\n",
            "Epoch 2/100\n",
            "23/23 [==============================] - 104s 4s/step - loss: 0.7263 - accuracy: 0.6452 - recall: 0.6672 - precision: 0.8733 - val_loss: 0.5101 - val_accuracy: 0.7890 - val_recall: 0.8571 - val_precision: 0.8842\n",
            "Epoch 3/100\n",
            "23/23 [==============================] - 100s 4s/step - loss: 0.6313 - accuracy: 0.6760 - recall: 0.6995 - precision: 0.8841 - val_loss: 0.6742 - val_accuracy: 0.5696 - val_recall: 0.5357 - val_precision: 0.9052\n",
            "Epoch 4/100\n",
            "23/23 [==============================] - 103s 4s/step - loss: 0.6316 - accuracy: 0.6269 - recall: 0.6197 - precision: 0.8968 - val_loss: 0.6325 - val_accuracy: 0.6329 - val_recall: 0.6020 - val_precision: 0.9291\n",
            "Epoch 5/100\n",
            "23/23 [==============================] - 106s 4s/step - loss: 0.6374 - accuracy: 0.6017 - recall: 0.5756 - precision: 0.9088 - val_loss: 0.5298 - val_accuracy: 0.7975 - val_recall: 0.8316 - val_precision: 0.9157\n",
            "Epoch 6/100\n",
            "23/23 [==============================] - 106s 4s/step - loss: 0.5830 - accuracy: 0.6760 - recall: 0.6638 - precision: 0.9222 - val_loss: 0.4320 - val_accuracy: 0.8481 - val_recall: 0.9082 - val_precision: 0.9082\n",
            "Epoch 7/100\n",
            "23/23 [==============================] - 105s 4s/step - loss: 0.6015 - accuracy: 0.7041 - recall: 0.7182 - precision: 0.9038 - val_loss: 0.4906 - val_accuracy: 0.7848 - val_recall: 0.8265 - val_precision: 0.9050\n",
            "Epoch 8/100\n",
            "23/23 [==============================] - 105s 4s/step - loss: 0.5952 - accuracy: 0.6999 - recall: 0.7080 - precision: 0.9085 - val_loss: 0.5943 - val_accuracy: 0.6709 - val_recall: 0.6378 - val_precision: 0.9470\n",
            "Epoch 9/100\n",
            "23/23 [==============================] - 104s 4s/step - loss: 0.6016 - accuracy: 0.6760 - recall: 0.6604 - precision: 0.9262 - val_loss: 0.4290 - val_accuracy: 0.8354 - val_recall: 0.9031 - val_precision: 0.8985\n",
            "Epoch 10/100\n",
            "23/23 [==============================] - 106s 4s/step - loss: 0.5675 - accuracy: 0.7013 - recall: 0.6961 - precision: 0.9234 - val_loss: 0.4056 - val_accuracy: 0.8439 - val_recall: 0.9082 - val_precision: 0.9036\n",
            "Epoch 11/100\n",
            "23/23 [==============================] - 104s 4s/step - loss: 0.5446 - accuracy: 0.7504 - recall: 0.7589 - precision: 0.9255 - val_loss: 0.4646 - val_accuracy: 0.7890 - val_recall: 0.8061 - val_precision: 0.9294\n",
            "Epoch 12/100\n",
            "23/23 [==============================] - 104s 4s/step - loss: 0.5429 - accuracy: 0.7209 - recall: 0.7114 - precision: 0.9353 - val_loss: 0.4225 - val_accuracy: 0.8397 - val_recall: 0.8980 - val_precision: 0.9072\n",
            "Epoch 13/100\n",
            "23/23 [==============================] - 103s 4s/step - loss: 0.5493 - accuracy: 0.7419 - recall: 0.7436 - precision: 0.9299 - val_loss: 0.5529 - val_accuracy: 0.7089 - val_recall: 0.6888 - val_precision: 0.9441\n",
            "Epoch 14/100\n",
            "23/23 [==============================] - 102s 4s/step - loss: 0.5650 - accuracy: 0.7111 - recall: 0.7165 - precision: 0.9154 - val_loss: 0.4263 - val_accuracy: 0.8354 - val_recall: 0.8929 - val_precision: 0.9067\n",
            "Epoch 15/100\n",
            "23/23 [==============================] - 106s 5s/step - loss: 0.5043 - accuracy: 0.7896 - recall: 0.8014 - precision: 0.9347 - val_loss: 0.4151 - val_accuracy: 0.8608 - val_recall: 0.8929 - val_precision: 0.9358\n",
            "8/8 [==============================] - 45s 5s/step\n"
          ]
        },
        {
          "output_type": "stream",
          "name": "stderr",
          "text": [
            "\u001b[32m[I 2023-05-15 20:52:55,826]\u001b[0m Trial 5 finished with value: 0.7245311469230045 and parameters: {'hidden_layers': 1, 'first_neuron': 128, 'drop_out': 0.5, 'optimizer': 'Adam', 'lr': 0.00019916145150640981}. Best is trial 2 with value: 0.7478723404255319.\u001b[0m\n"
          ]
        },
        {
          "output_type": "stream",
          "name": "stdout",
          "text": [
            "0.7245311469230045\n",
            "0.8438818565400844\n",
            "Found 713 images belonging to 2 classes.\n",
            "Found 237 images belonging to 2 classes.\n",
            "Found 950 images belonging to 2 classes.\n",
            "Found 240 images belonging to 2 classes.\n",
            "Epoch 1/100\n",
            "23/23 [==============================] - 122s 5s/step - loss: 0.8509 - accuracy: 0.5442 - recall: 0.5722 - precision: 0.8220 - val_loss: 0.7121 - val_accuracy: 0.5612 - val_recall: 0.5612 - val_precision: 0.8594\n",
            "Epoch 2/100\n",
            "23/23 [==============================] - 106s 5s/step - loss: 0.7663 - accuracy: 0.5610 - recall: 0.5705 - precision: 0.8485 - val_loss: 0.6961 - val_accuracy: 0.5865 - val_recall: 0.5663 - val_precision: 0.8952\n",
            "Epoch 3/100\n",
            "23/23 [==============================] - 104s 4s/step - loss: 0.7473 - accuracy: 0.5652 - recall: 0.5637 - precision: 0.8623 - val_loss: 0.5892 - val_accuracy: 0.6624 - val_recall: 0.6939 - val_precision: 0.8718\n",
            "Epoch 4/100\n",
            "23/23 [==============================] - 106s 5s/step - loss: 0.6905 - accuracy: 0.6311 - recall: 0.6350 - precision: 0.8863 - val_loss: 0.5074 - val_accuracy: 0.7637 - val_recall: 0.8520 - val_precision: 0.8608\n",
            "Epoch 5/100\n",
            "23/23 [==============================] - 104s 4s/step - loss: 0.6808 - accuracy: 0.6550 - recall: 0.6655 - precision: 0.8889 - val_loss: 0.5295 - val_accuracy: 0.7300 - val_recall: 0.7857 - val_precision: 0.8750\n",
            "Epoch 6/100\n",
            "23/23 [==============================] - 105s 5s/step - loss: 0.6449 - accuracy: 0.6241 - recall: 0.6129 - precision: 0.9002 - val_loss: 0.5007 - val_accuracy: 0.7553 - val_recall: 0.8163 - val_precision: 0.8791\n",
            "Epoch 7/100\n",
            "23/23 [==============================] - 105s 4s/step - loss: 0.6254 - accuracy: 0.6704 - recall: 0.6655 - precision: 0.9116 - val_loss: 0.4893 - val_accuracy: 0.7722 - val_recall: 0.8265 - val_precision: 0.8901\n",
            "Epoch 8/100\n",
            "23/23 [==============================] - 106s 4s/step - loss: 0.5942 - accuracy: 0.6830 - recall: 0.6723 - precision: 0.9231 - val_loss: 0.4359 - val_accuracy: 0.7932 - val_recall: 0.8878 - val_precision: 0.8657\n",
            "Epoch 9/100\n",
            "23/23 [==============================] - 105s 4s/step - loss: 0.5745 - accuracy: 0.7321 - recall: 0.7470 - precision: 0.9129 - val_loss: 0.4352 - val_accuracy: 0.8017 - val_recall: 0.8827 - val_precision: 0.8782\n",
            "Epoch 10/100\n",
            "23/23 [==============================] - 106s 4s/step - loss: 0.6066 - accuracy: 0.6718 - recall: 0.6570 - precision: 0.9236 - val_loss: 0.5089 - val_accuracy: 0.7637 - val_recall: 0.7755 - val_precision: 0.9268\n",
            "Epoch 11/100\n",
            "23/23 [==============================] - 107s 4s/step - loss: 0.5627 - accuracy: 0.7069 - recall: 0.7063 - precision: 0.9204 - val_loss: 0.4241 - val_accuracy: 0.8143 - val_recall: 0.8827 - val_precision: 0.8918\n",
            "Epoch 12/100\n",
            "23/23 [==============================] - 105s 4s/step - loss: 0.5460 - accuracy: 0.7363 - recall: 0.7385 - precision: 0.9275 - val_loss: 0.4305 - val_accuracy: 0.8101 - val_recall: 0.8724 - val_precision: 0.8953\n",
            "Epoch 13/100\n",
            "23/23 [==============================] - 101s 4s/step - loss: 0.5474 - accuracy: 0.7349 - recall: 0.7436 - precision: 0.9202 - val_loss: 0.4246 - val_accuracy: 0.8143 - val_recall: 0.8776 - val_precision: 0.8958\n",
            "Epoch 14/100\n",
            "23/23 [==============================] - 105s 4s/step - loss: 0.5570 - accuracy: 0.6914 - recall: 0.6876 - precision: 0.9184 - val_loss: 0.4195 - val_accuracy: 0.8101 - val_recall: 0.8673 - val_precision: 0.8995\n",
            "Epoch 15/100\n",
            "23/23 [==============================] - 106s 5s/step - loss: 0.5701 - accuracy: 0.7363 - recall: 0.7487 - precision: 0.9168 - val_loss: 0.4322 - val_accuracy: 0.8059 - val_recall: 0.8622 - val_precision: 0.8989\n",
            "Epoch 16/100\n",
            "23/23 [==============================] - 105s 4s/step - loss: 0.5412 - accuracy: 0.6985 - recall: 0.6893 - precision: 0.9269 - val_loss: 0.4305 - val_accuracy: 0.8101 - val_recall: 0.8673 - val_precision: 0.8995\n",
            "Epoch 17/100\n",
            "23/23 [==============================] - 106s 4s/step - loss: 0.5428 - accuracy: 0.7307 - recall: 0.7233 - precision: 0.9363 - val_loss: 0.3901 - val_accuracy: 0.8186 - val_recall: 0.8929 - val_precision: 0.8883\n",
            "Epoch 18/100\n",
            "23/23 [==============================] - 102s 4s/step - loss: 0.5408 - accuracy: 0.7321 - recall: 0.7487 - precision: 0.9112 - val_loss: 0.4119 - val_accuracy: 0.8143 - val_recall: 0.8673 - val_precision: 0.9043\n",
            "Epoch 19/100\n",
            "23/23 [==============================] - 104s 4s/step - loss: 0.5194 - accuracy: 0.7349 - recall: 0.7334 - precision: 0.9310 - val_loss: 0.3935 - val_accuracy: 0.8186 - val_recall: 0.8980 - val_precision: 0.8844\n",
            "Epoch 20/100\n",
            "23/23 [==============================] - 103s 4s/step - loss: 0.4848 - accuracy: 0.7742 - recall: 0.7827 - precision: 0.9332 - val_loss: 0.4248 - val_accuracy: 0.8143 - val_recall: 0.8622 - val_precision: 0.9086\n",
            "Epoch 21/100\n",
            "23/23 [==============================] - 104s 4s/step - loss: 0.5462 - accuracy: 0.7055 - recall: 0.6978 - precision: 0.9278 - val_loss: 0.3868 - val_accuracy: 0.8101 - val_recall: 0.8878 - val_precision: 0.8832\n",
            "Epoch 22/100\n",
            "23/23 [==============================] - 101s 4s/step - loss: 0.5038 - accuracy: 0.7840 - recall: 0.7929 - precision: 0.9359 - val_loss: 0.4383 - val_accuracy: 0.7890 - val_recall: 0.8418 - val_precision: 0.8967\n",
            "Epoch 23/100\n",
            "23/23 [==============================] - 105s 4s/step - loss: 0.5225 - accuracy: 0.7279 - recall: 0.7080 - precision: 0.9499 - val_loss: 0.4106 - val_accuracy: 0.8143 - val_recall: 0.8724 - val_precision: 0.9000\n",
            "Epoch 24/100\n",
            "23/23 [==============================] - 103s 5s/step - loss: 0.4823 - accuracy: 0.8008 - recall: 0.8149 - precision: 0.9357 - val_loss: 0.4399 - val_accuracy: 0.8228 - val_recall: 0.8571 - val_precision: 0.9231\n",
            "Epoch 25/100\n",
            "23/23 [==============================] - 104s 5s/step - loss: 0.4946 - accuracy: 0.7321 - recall: 0.7199 - precision: 0.9422 - val_loss: 0.3742 - val_accuracy: 0.8312 - val_recall: 0.8878 - val_precision: 0.9062\n",
            "Epoch 26/100\n",
            "23/23 [==============================] - 101s 4s/step - loss: 0.5168 - accuracy: 0.7728 - recall: 0.7878 - precision: 0.9261 - val_loss: 0.3830 - val_accuracy: 0.8270 - val_recall: 0.8878 - val_precision: 0.9016\n",
            "Epoch 27/100\n",
            "23/23 [==============================] - 105s 4s/step - loss: 0.5222 - accuracy: 0.7293 - recall: 0.7182 - precision: 0.9400 - val_loss: 0.4153 - val_accuracy: 0.8312 - val_recall: 0.8520 - val_precision: 0.9382\n",
            "Epoch 28/100\n",
            "23/23 [==============================] - 101s 4s/step - loss: 0.4578 - accuracy: 0.7574 - recall: 0.7504 - precision: 0.9444 - val_loss: 0.3701 - val_accuracy: 0.8397 - val_recall: 0.8929 - val_precision: 0.9115\n",
            "Epoch 29/100\n",
            "23/23 [==============================] - 104s 4s/step - loss: 0.5196 - accuracy: 0.7433 - recall: 0.7385 - precision: 0.9375 - val_loss: 0.4094 - val_accuracy: 0.8186 - val_recall: 0.8520 - val_precision: 0.9227\n",
            "Epoch 30/100\n",
            "23/23 [==============================] - 104s 4s/step - loss: 0.4345 - accuracy: 0.7896 - recall: 0.7878 - precision: 0.9489 - val_loss: 0.3802 - val_accuracy: 0.8439 - val_recall: 0.8980 - val_precision: 0.9119\n",
            "Epoch 31/100\n",
            "23/23 [==============================] - 106s 4s/step - loss: 0.4495 - accuracy: 0.7854 - recall: 0.7844 - precision: 0.9467 - val_loss: 0.4000 - val_accuracy: 0.8228 - val_recall: 0.8571 - val_precision: 0.9231\n",
            "Epoch 32/100\n",
            "23/23 [==============================] - 104s 4s/step - loss: 0.4732 - accuracy: 0.7658 - recall: 0.7657 - precision: 0.9396 - val_loss: 0.3750 - val_accuracy: 0.8270 - val_recall: 0.8827 - val_precision: 0.9058\n",
            "Epoch 33/100\n",
            "23/23 [==============================] - 105s 4s/step - loss: 0.4435 - accuracy: 0.7994 - recall: 0.8031 - precision: 0.9460 - val_loss: 0.4029 - val_accuracy: 0.8354 - val_recall: 0.8571 - val_precision: 0.9385\n",
            "8/8 [==============================] - 48s 5s/step\n"
          ]
        },
        {
          "output_type": "stream",
          "name": "stderr",
          "text": [
            "\u001b[32m[I 2023-05-15 21:53:02,016]\u001b[0m Trial 6 finished with value: 0.730100695276912 and parameters: {'hidden_layers': 1, 'first_neuron': 256, 'drop_out': 0.5, 'optimizer': 'Adam', 'lr': 1.0308545387839652e-05}. Best is trial 2 with value: 0.7478723404255319.\u001b[0m\n"
          ]
        },
        {
          "output_type": "stream",
          "name": "stdout",
          "text": [
            "0.730100695276912\n",
            "0.8396624472573839\n",
            "Found 713 images belonging to 2 classes.\n",
            "Found 237 images belonging to 2 classes.\n",
            "Found 950 images belonging to 2 classes.\n",
            "Found 240 images belonging to 2 classes.\n",
            "Epoch 1/100\n",
            "23/23 [==============================] - 121s 5s/step - loss: 44.3759 - accuracy: 0.5386 - recall: 0.5569 - precision: 0.8283 - val_loss: 13.8373 - val_accuracy: 0.4726 - val_recall: 0.3878 - val_precision: 0.9383\n",
            "Epoch 2/100\n",
            "23/23 [==============================] - 105s 4s/step - loss: 7.3645 - accuracy: 0.6143 - recall: 0.6214 - precision: 0.8756 - val_loss: 2.6213 - val_accuracy: 0.6835 - val_recall: 0.6786 - val_precision: 0.9172\n",
            "Epoch 3/100\n",
            "23/23 [==============================] - 104s 4s/step - loss: 3.1942 - accuracy: 0.6101 - recall: 0.6112 - precision: 0.8802 - val_loss: 0.6539 - val_accuracy: 0.6962 - val_recall: 0.7296 - val_precision: 0.8827\n",
            "Epoch 4/100\n",
            "23/23 [==============================] - 105s 4s/step - loss: 1.3300 - accuracy: 0.5891 - recall: 0.5688 - precision: 0.8957 - val_loss: 0.6205 - val_accuracy: 0.5949 - val_recall: 0.5714 - val_precision: 0.9032\n",
            "Epoch 5/100\n",
            "23/23 [==============================] - 101s 4s/step - loss: 1.2585 - accuracy: 0.5905 - recall: 0.5857 - precision: 0.8779 - val_loss: 2.1303 - val_accuracy: 0.3966 - val_recall: 0.2806 - val_precision: 0.9649\n",
            "Epoch 6/100\n",
            "23/23 [==============================] - 105s 4s/step - loss: 1.3055 - accuracy: 0.4839 - recall: 0.4516 - precision: 0.8553 - val_loss: 0.8776 - val_accuracy: 0.5063 - val_recall: 0.4388 - val_precision: 0.9247\n",
            "Epoch 7/100\n",
            "23/23 [==============================] - 101s 4s/step - loss: 1.0357 - accuracy: 0.5330 - recall: 0.4907 - precision: 0.8975 - val_loss: 0.5905 - val_accuracy: 0.6287 - val_recall: 0.5816 - val_precision: 0.9500\n",
            "Epoch 8/100\n",
            "23/23 [==============================] - 101s 4s/step - loss: 1.1160 - accuracy: 0.5414 - recall: 0.5093 - precision: 0.8876 - val_loss: 0.5077 - val_accuracy: 0.7426 - val_recall: 0.7755 - val_precision: 0.8994\n",
            "Epoch 9/100\n",
            "23/23 [==============================] - 105s 4s/step - loss: 0.9990 - accuracy: 0.4965 - recall: 0.4499 - precision: 0.8833 - val_loss: 0.5860 - val_accuracy: 0.6245 - val_recall: 0.5918 - val_precision: 0.9280\n",
            "Epoch 10/100\n",
            "23/23 [==============================] - 100s 4s/step - loss: 0.8510 - accuracy: 0.4264 - recall: 0.3447 - precision: 0.8982 - val_loss: 0.5477 - val_accuracy: 0.6751 - val_recall: 0.6633 - val_precision: 0.9220\n",
            "Epoch 11/100\n",
            "23/23 [==============================] - 105s 4s/step - loss: 0.7744 - accuracy: 0.5526 - recall: 0.5042 - precision: 0.9167 - val_loss: 0.6116 - val_accuracy: 0.7468 - val_recall: 0.7857 - val_precision: 0.8953\n",
            "Epoch 12/100\n",
            "23/23 [==============================] - 101s 4s/step - loss: 1.3475 - accuracy: 0.4923 - recall: 0.4533 - precision: 0.8697 - val_loss: 0.6736 - val_accuracy: 0.4810 - val_recall: 0.4337 - val_precision: 0.8763\n",
            "Epoch 13/100\n",
            "23/23 [==============================] - 106s 5s/step - loss: 0.8826 - accuracy: 0.4572 - recall: 0.3871 - precision: 0.8976 - val_loss: 0.6446 - val_accuracy: 0.4346 - val_recall: 0.3418 - val_precision: 0.9306\n",
            "8/8 [==============================] - 46s 5s/step\n"
          ]
        },
        {
          "output_type": "stream",
          "name": "stderr",
          "text": [
            "\u001b[32m[I 2023-05-15 22:17:16,375]\u001b[0m Trial 7 finished with value: 0.6366218424029156 and parameters: {'hidden_layers': 1, 'first_neuron': 512, 'drop_out': 0.5, 'optimizer': 'RMSprop', 'lr': 0.0035442278090761954}. Best is trial 2 with value: 0.7478723404255319.\u001b[0m\n"
          ]
        },
        {
          "output_type": "stream",
          "name": "stdout",
          "text": [
            "0.6366218424029156\n",
            "0.7426160337552743\n",
            "Found 713 images belonging to 2 classes.\n",
            "Found 237 images belonging to 2 classes.\n",
            "Found 950 images belonging to 2 classes.\n",
            "Found 240 images belonging to 2 classes.\n",
            "Epoch 1/100\n",
            "23/23 [==============================] - 119s 5s/step - loss: 6.0602 - accuracy: 0.5877 - recall: 0.6367 - precision: 0.8242 - val_loss: 0.6210 - val_accuracy: 0.8270 - val_recall: 1.0000 - val_precision: 0.8270\n",
            "Epoch 2/100\n",
            "23/23 [==============================] - 102s 4s/step - loss: 0.6829 - accuracy: 0.4909 - recall: 0.4703 - precision: 0.8445 - val_loss: 0.6658 - val_accuracy: 0.6160 - val_recall: 0.6071 - val_precision: 0.8947\n",
            "Epoch 3/100\n",
            "23/23 [==============================] - 101s 4s/step - loss: 0.7049 - accuracy: 0.4937 - recall: 0.4465 - precision: 0.8826 - val_loss: 0.5768 - val_accuracy: 0.7426 - val_recall: 0.8265 - val_precision: 0.8571\n",
            "Epoch 4/100\n",
            "23/23 [==============================] - 105s 4s/step - loss: 0.6784 - accuracy: 0.5007 - recall: 0.4567 - precision: 0.8820 - val_loss: 0.5618 - val_accuracy: 0.7131 - val_recall: 0.7500 - val_precision: 0.8855\n",
            "Epoch 5/100\n",
            "23/23 [==============================] - 102s 4s/step - loss: 0.7130 - accuracy: 0.5372 - recall: 0.5093 - precision: 0.8798 - val_loss: 0.5923 - val_accuracy: 0.6709 - val_recall: 0.6378 - val_precision: 0.9470\n",
            "Epoch 6/100\n",
            "23/23 [==============================] - 101s 4s/step - loss: 0.6661 - accuracy: 0.4656 - recall: 0.3854 - precision: 0.9228 - val_loss: 0.5243 - val_accuracy: 0.7553 - val_recall: 0.7908 - val_precision: 0.9012\n",
            "Epoch 7/100\n",
            "23/23 [==============================] - 103s 4s/step - loss: 0.6750 - accuracy: 0.4586 - recall: 0.3718 - precision: 0.9319 - val_loss: 0.4510 - val_accuracy: 0.7806 - val_recall: 0.8673 - val_precision: 0.8673\n",
            "Epoch 8/100\n",
            "23/23 [==============================] - 103s 4s/step - loss: 0.6622 - accuracy: 0.4558 - recall: 0.3786 - precision: 0.9102 - val_loss: 0.5437 - val_accuracy: 0.6582 - val_recall: 0.6480 - val_precision: 0.9137\n",
            "Epoch 9/100\n",
            "23/23 [==============================] - 104s 4s/step - loss: 0.6440 - accuracy: 0.4109 - recall: 0.3056 - precision: 0.9424 - val_loss: 0.4854 - val_accuracy: 0.7384 - val_recall: 0.7704 - val_precision: 0.8988\n",
            "Epoch 10/100\n",
            "23/23 [==============================] - 105s 4s/step - loss: 0.6456 - accuracy: 0.4783 - recall: 0.4041 - precision: 0.9189 - val_loss: 0.5490 - val_accuracy: 0.6498 - val_recall: 0.6276 - val_precision: 0.9248\n",
            "Epoch 11/100\n",
            "23/23 [==============================] - 105s 4s/step - loss: 0.6275 - accuracy: 0.5231 - recall: 0.4550 - precision: 0.9338 - val_loss: 0.5207 - val_accuracy: 0.6667 - val_recall: 0.6582 - val_precision: 0.9149\n",
            "Epoch 12/100\n",
            "23/23 [==============================] - 107s 5s/step - loss: 0.6145 - accuracy: 0.5175 - recall: 0.4465 - precision: 0.9359 - val_loss: 0.4577 - val_accuracy: 0.7511 - val_recall: 0.7653 - val_precision: 0.9202\n",
            "8/8 [==============================] - 47s 5s/step\n"
          ]
        },
        {
          "output_type": "stream",
          "name": "stderr",
          "text": [
            "\u001b[32m[I 2023-05-15 22:39:39,125]\u001b[0m Trial 8 finished with value: 0.6166002986560477 and parameters: {'hidden_layers': 1, 'first_neuron': 256, 'drop_out': 0.3, 'optimizer': 'AdamW', 'lr': 0.0022632746405958546}. Best is trial 2 with value: 0.7478723404255319.\u001b[0m\n"
          ]
        },
        {
          "output_type": "stream",
          "name": "stdout",
          "text": [
            "0.6166002986560477\n",
            "0.7805907172995781\n",
            "Found 713 images belonging to 2 classes.\n",
            "Found 237 images belonging to 2 classes.\n",
            "Found 950 images belonging to 2 classes.\n",
            "Found 240 images belonging to 2 classes.\n",
            "Epoch 1/100\n",
            "23/23 [==============================] - 118s 5s/step - loss: 0.9281 - accuracy: 0.5652 - recall: 0.5891 - precision: 0.8361 - val_loss: 0.7491 - val_accuracy: 0.5865 - val_recall: 0.5357 - val_precision: 0.9375\n",
            "Epoch 2/100\n",
            "23/23 [==============================] - 105s 4s/step - loss: 0.7573 - accuracy: 0.5933 - recall: 0.5908 - precision: 0.8766 - val_loss: 0.5472 - val_accuracy: 0.7637 - val_recall: 0.7398 - val_precision: 0.9667\n",
            "Epoch 3/100\n",
            "23/23 [==============================] - 107s 5s/step - loss: 0.6605 - accuracy: 0.6283 - recall: 0.6180 - precision: 0.9010 - val_loss: 0.3992 - val_accuracy: 0.8312 - val_recall: 0.9184 - val_precision: 0.8824\n",
            "Epoch 4/100\n",
            "23/23 [==============================] - 102s 4s/step - loss: 0.6440 - accuracy: 0.6466 - recall: 0.6435 - precision: 0.9002 - val_loss: 0.4227 - val_accuracy: 0.8101 - val_recall: 0.8724 - val_precision: 0.8953\n",
            "Epoch 5/100\n",
            "23/23 [==============================] - 101s 4s/step - loss: 0.5931 - accuracy: 0.6985 - recall: 0.6995 - precision: 0.9156 - val_loss: 0.4330 - val_accuracy: 0.8228 - val_recall: 0.8673 - val_precision: 0.9140\n",
            "Epoch 6/100\n",
            "23/23 [==============================] - 106s 5s/step - loss: 0.5583 - accuracy: 0.6928 - recall: 0.6876 - precision: 0.9205 - val_loss: 0.3812 - val_accuracy: 0.8354 - val_recall: 0.9235 - val_precision: 0.8829\n",
            "Epoch 7/100\n",
            "23/23 [==============================] - 102s 4s/step - loss: 0.5859 - accuracy: 0.7069 - recall: 0.7114 - precision: 0.9148 - val_loss: 0.4223 - val_accuracy: 0.8228 - val_recall: 0.8827 - val_precision: 0.9010\n",
            "Epoch 8/100\n",
            "23/23 [==============================] - 100s 4s/step - loss: 0.5450 - accuracy: 0.7265 - recall: 0.7351 - precision: 0.9174 - val_loss: 0.4960 - val_accuracy: 0.7848 - val_recall: 0.7959 - val_precision: 0.9341\n",
            "Epoch 9/100\n",
            "23/23 [==============================] - 100s 4s/step - loss: 0.5106 - accuracy: 0.7391 - recall: 0.7368 - precision: 0.9333 - val_loss: 0.4602 - val_accuracy: 0.8228 - val_recall: 0.8367 - val_precision: 0.9425\n",
            "Epoch 10/100\n",
            "23/23 [==============================] - 101s 4s/step - loss: 0.5028 - accuracy: 0.7560 - recall: 0.7589 - precision: 0.9332 - val_loss: 0.3657 - val_accuracy: 0.8143 - val_recall: 0.8827 - val_precision: 0.8918\n",
            "Epoch 11/100\n",
            "23/23 [==============================] - 102s 4s/step - loss: 0.4842 - accuracy: 0.7419 - recall: 0.7334 - precision: 0.9412 - val_loss: 0.4130 - val_accuracy: 0.8270 - val_recall: 0.8571 - val_precision: 0.9282\n",
            "Epoch 12/100\n",
            "23/23 [==============================] - 106s 5s/step - loss: 0.5471 - accuracy: 0.7167 - recall: 0.7199 - precision: 0.9197 - val_loss: 0.4283 - val_accuracy: 0.7932 - val_recall: 0.8163 - val_precision: 0.9249\n",
            "Epoch 13/100\n",
            "23/23 [==============================] - 103s 5s/step - loss: 0.5061 - accuracy: 0.7938 - recall: 0.7997 - precision: 0.9420 - val_loss: 0.4701 - val_accuracy: 0.7932 - val_recall: 0.8061 - val_precision: 0.9349\n",
            "Epoch 14/100\n",
            "23/23 [==============================] - 102s 4s/step - loss: 0.4933 - accuracy: 0.7447 - recall: 0.7402 - precision: 0.9376 - val_loss: 0.5040 - val_accuracy: 0.7848 - val_recall: 0.7704 - val_precision: 0.9618\n",
            "Epoch 15/100\n",
            "23/23 [==============================] - 101s 4s/step - loss: 0.4873 - accuracy: 0.7321 - recall: 0.7216 - precision: 0.9403 - val_loss: 0.4458 - val_accuracy: 0.8059 - val_recall: 0.8061 - val_precision: 0.9518\n",
            "8/8 [==============================] - 47s 5s/step\n"
          ]
        },
        {
          "output_type": "stream",
          "name": "stderr",
          "text": [
            "\u001b[32m[I 2023-05-15 23:06:58,503]\u001b[0m Trial 9 finished with value: 0.6816849816849817 and parameters: {'hidden_layers': 1, 'first_neuron': 256, 'drop_out': 0.5, 'optimizer': 'Adam', 'lr': 3.801815889701072e-05}. Best is trial 2 with value: 0.7478723404255319.\u001b[0m\n"
          ]
        },
        {
          "output_type": "stream",
          "name": "stdout",
          "text": [
            "0.6816849816849817\n",
            "0.8143459915611815\n",
            "Number of finished trials: 10\n",
            "Best trial:\n",
            "  Value: 0.7478723404255319\n",
            "  Params: \n",
            "    hidden_layers: 1\n",
            "    first_neuron: 256\n",
            "    drop_out: 0\n",
            "    optimizer: AdamW\n",
            "    lr: 5.8893604206950856e-05\n"
          ]
        }
      ],
      "source": [
        "def hp_fruits_EfficientNetV2B0(trail):\n",
        "\n",
        "  clear_session()\n",
        "\n",
        "  # preprocess data\n",
        "  train, val, train_val, test = train_val_test_generators(train_dir, val_dir, train_val_dir, test_dir)\n",
        "\n",
        "  class_weights = compute_class_weight(class_weight = 'balanced', classes = np.unique(train.classes), y = train.classes)\n",
        "  class_weights = {i : class_weights[i] for i in range(2)}\n",
        "\n",
        "  # build model\n",
        "  from tensorflow.keras.applications import EfficientNetV2B0\n",
        "  from tensorflow.keras import layers\n",
        "\n",
        "  EfficientNetV2B0_model = EfficientNetV2B0(input_shape = (224, 224, 3), \n",
        "                                  include_top = False, \n",
        "                                  weights = 'imagenet',\n",
        "                                  include_preprocessing = False)\n",
        "\n",
        "  for layer in EfficientNetV2B0_model.layers:\n",
        "    layer.trainable = False\n",
        "\n",
        "  last_output = EfficientNetV2B0_model.output\n",
        "  x = layers.Flatten()(last_output)\n",
        "  \n",
        "  hidden_layers = trail.suggest_int('hidden_layers', 1, 2)\n",
        "\n",
        "  for i in range(hidden_layers):\n",
        "    first_neuron = trail.suggest_categorical('first_neuron', [128, 256, 512])\n",
        "    x = layers.Dense(first_neuron, activation='relu')(x)\n",
        "    drop_out = trail.suggest_categorical('drop_out', [0, 0.3, 0.5])\n",
        "    x = layers.Dropout(drop_out)(x)                  \n",
        "  \n",
        "  x = layers.Dense(1, activation='sigmoid')(x)           \n",
        "\n",
        "  model = Model(EfficientNetV2B0_model.input, x)\n",
        "\n",
        "  # compile/train model\n",
        "  optimizer_name = trail.suggest_categorical('optimizer', ['Adam', 'RMSprop', 'AdamW'])\n",
        "  learning_rate = trail.suggest_float('lr', 1e-5, 1e-2, log=True)\n",
        "\n",
        "  if optimizer_name == 'Adam':\n",
        "      optimizer = Adam(learning_rate=learning_rate)\n",
        "  elif optimizer_name == 'RMSprop':\n",
        "      optimizer = RMSprop(learning_rate=learning_rate)\n",
        "  elif optimizer_name == 'AdamW':\n",
        "      optimizer = AdamW(learning_rate=learning_rate)\n",
        "\n",
        "  model.compile(optimizer=optimizer,\n",
        "                loss = 'binary_crossentropy', \n",
        "                metrics = ['accuracy', Recall(), Precision()])\n",
        "  \n",
        "  early_stop = EarlyStopping(monitor='val_loss', patience=5, restore_best_weights=True)\n",
        "\n",
        "  model.fit(train, validation_data=val, class_weight=class_weights, epochs = 100, callbacks=[early_stop],\n",
        "            max_queue_size=20, workers=2, use_multiprocessing=True)\n",
        "  \n",
        "  # evaluate macro f1 score\n",
        "  y_pred_val = model.predict(val)\n",
        "  y_pred_val = np.round(y_pred_val)\n",
        "\n",
        "  f1score_macro = f1_score(val.labels, y_pred_val, average = 'macro')\n",
        "  acc = accuracy_score(val.labels, y_pred_val)\n",
        "  print(f1score_macro)\n",
        "  print(acc)\n",
        "  \n",
        "  return f1score_macro\n",
        "\n",
        "if __name__ == \"__main__\":\n",
        "    warnings.warn(\n",
        "        \"Recent Keras release (2.4.0) simply redirects all APIs \"\n",
        "        \"in the standalone keras package to point to tf.keras. \"\n",
        "        \"There is now only one Keras: tf.keras. \"\n",
        "        \"There may be some breaking changes for some workflows by upgrading to keras 2.4.0. \"\n",
        "        \"Test before upgrading. \"\n",
        "        \"REF:https://github.com/keras-team/keras/releases/tag/2.4.0\"\n",
        "    )\n",
        "    study = optuna.create_study(direction=\"maximize\")\n",
        "    study.optimize(hp_fruits_EfficientNetV2B0, n_trials=10)\n",
        "\n",
        "    print(\"Number of finished trials: {}\".format(len(study.trials)))\n",
        "\n",
        "    print(\"Best trial:\")\n",
        "    trial = study.best_trial\n",
        "\n",
        "    print(\"  Value: {}\".format(trial.value))\n",
        "\n",
        "    print(\"  Params: \")\n",
        "    for key, value in trial.params.items():\n",
        "        print(\"    {}: {}\".format(key, value))"
      ]
    },
    {
      "cell_type": "code",
      "execution_count": null,
      "metadata": {
        "colab": {
          "base_uri": "https://localhost:8080/",
          "height": 600
        },
        "id": "KnV8QmtbGrJw",
        "outputId": "8ce1fd24-7731-4d37-a004-b3931c2e661d"
      },
      "outputs": [
        {
          "output_type": "execute_result",
          "data": {
            "text/plain": [
              "   number     value             datetime_start          datetime_complete  \\\n",
              "0       0  0.538481 2023-05-15 18:40:39.350369 2023-05-15 18:58:29.141535   \n",
              "1       1  0.674916 2023-05-15 18:58:29.143645 2023-05-15 19:19:07.425625   \n",
              "2       2  0.747872 2023-05-15 19:19:07.427719 2023-05-15 19:41:33.571338   \n",
              "3       3  0.593792 2023-05-15 19:41:33.573444 2023-05-15 19:55:11.685599   \n",
              "4       4  0.677739 2023-05-15 19:55:11.688415 2023-05-15 20:24:57.356770   \n",
              "5       5  0.724531 2023-05-15 20:24:57.359644 2023-05-15 20:52:55.825428   \n",
              "6       6  0.730101 2023-05-15 20:52:55.827673 2023-05-15 21:53:02.015679   \n",
              "7       7  0.636622 2023-05-15 21:53:02.017426 2023-05-15 22:17:16.374800   \n",
              "8       8  0.616600 2023-05-15 22:17:16.377136 2023-05-15 22:39:39.124787   \n",
              "9       9  0.681685 2023-05-15 22:39:39.127408 2023-05-15 23:06:58.503080   \n",
              "\n",
              "                duration  params_drop_out  params_first_neuron  \\\n",
              "0 0 days 00:17:49.791166              0.5                  128   \n",
              "1 0 days 00:20:38.281980              0.5                  256   \n",
              "2 0 days 00:22:26.143619              0.0                  256   \n",
              "3 0 days 00:13:38.112155              0.5                  128   \n",
              "4 0 days 00:29:45.668355              0.0                  128   \n",
              "5 0 days 00:27:58.465784              0.5                  128   \n",
              "6 0 days 01:00:06.188006              0.5                  256   \n",
              "7 0 days 00:24:14.357374              0.5                  512   \n",
              "8 0 days 00:22:22.747651              0.3                  256   \n",
              "9 0 days 00:27:19.375672              0.5                  256   \n",
              "\n",
              "   params_hidden_layers  params_lr params_optimizer     state  \n",
              "0                     2   0.003459          RMSprop  COMPLETE  \n",
              "1                     1   0.000204          RMSprop  COMPLETE  \n",
              "2                     1   0.000059            AdamW  COMPLETE  \n",
              "3                     1   0.000116          RMSprop  COMPLETE  \n",
              "4                     2   0.007106            AdamW  COMPLETE  \n",
              "5                     1   0.000199             Adam  COMPLETE  \n",
              "6                     1   0.000010             Adam  COMPLETE  \n",
              "7                     1   0.003544          RMSprop  COMPLETE  \n",
              "8                     1   0.002263            AdamW  COMPLETE  \n",
              "9                     1   0.000038             Adam  COMPLETE  "
            ],
            "text/html": [
              "\n",
              "  <div id=\"df-5e4c69ae-4a5d-4e2a-8620-86564159cb4d\">\n",
              "    <div class=\"colab-df-container\">\n",
              "      <div>\n",
              "<style scoped>\n",
              "    .dataframe tbody tr th:only-of-type {\n",
              "        vertical-align: middle;\n",
              "    }\n",
              "\n",
              "    .dataframe tbody tr th {\n",
              "        vertical-align: top;\n",
              "    }\n",
              "\n",
              "    .dataframe thead th {\n",
              "        text-align: right;\n",
              "    }\n",
              "</style>\n",
              "<table border=\"1\" class=\"dataframe\">\n",
              "  <thead>\n",
              "    <tr style=\"text-align: right;\">\n",
              "      <th></th>\n",
              "      <th>number</th>\n",
              "      <th>value</th>\n",
              "      <th>datetime_start</th>\n",
              "      <th>datetime_complete</th>\n",
              "      <th>duration</th>\n",
              "      <th>params_drop_out</th>\n",
              "      <th>params_first_neuron</th>\n",
              "      <th>params_hidden_layers</th>\n",
              "      <th>params_lr</th>\n",
              "      <th>params_optimizer</th>\n",
              "      <th>state</th>\n",
              "    </tr>\n",
              "  </thead>\n",
              "  <tbody>\n",
              "    <tr>\n",
              "      <th>0</th>\n",
              "      <td>0</td>\n",
              "      <td>0.538481</td>\n",
              "      <td>2023-05-15 18:40:39.350369</td>\n",
              "      <td>2023-05-15 18:58:29.141535</td>\n",
              "      <td>0 days 00:17:49.791166</td>\n",
              "      <td>0.5</td>\n",
              "      <td>128</td>\n",
              "      <td>2</td>\n",
              "      <td>0.003459</td>\n",
              "      <td>RMSprop</td>\n",
              "      <td>COMPLETE</td>\n",
              "    </tr>\n",
              "    <tr>\n",
              "      <th>1</th>\n",
              "      <td>1</td>\n",
              "      <td>0.674916</td>\n",
              "      <td>2023-05-15 18:58:29.143645</td>\n",
              "      <td>2023-05-15 19:19:07.425625</td>\n",
              "      <td>0 days 00:20:38.281980</td>\n",
              "      <td>0.5</td>\n",
              "      <td>256</td>\n",
              "      <td>1</td>\n",
              "      <td>0.000204</td>\n",
              "      <td>RMSprop</td>\n",
              "      <td>COMPLETE</td>\n",
              "    </tr>\n",
              "    <tr>\n",
              "      <th>2</th>\n",
              "      <td>2</td>\n",
              "      <td>0.747872</td>\n",
              "      <td>2023-05-15 19:19:07.427719</td>\n",
              "      <td>2023-05-15 19:41:33.571338</td>\n",
              "      <td>0 days 00:22:26.143619</td>\n",
              "      <td>0.0</td>\n",
              "      <td>256</td>\n",
              "      <td>1</td>\n",
              "      <td>0.000059</td>\n",
              "      <td>AdamW</td>\n",
              "      <td>COMPLETE</td>\n",
              "    </tr>\n",
              "    <tr>\n",
              "      <th>3</th>\n",
              "      <td>3</td>\n",
              "      <td>0.593792</td>\n",
              "      <td>2023-05-15 19:41:33.573444</td>\n",
              "      <td>2023-05-15 19:55:11.685599</td>\n",
              "      <td>0 days 00:13:38.112155</td>\n",
              "      <td>0.5</td>\n",
              "      <td>128</td>\n",
              "      <td>1</td>\n",
              "      <td>0.000116</td>\n",
              "      <td>RMSprop</td>\n",
              "      <td>COMPLETE</td>\n",
              "    </tr>\n",
              "    <tr>\n",
              "      <th>4</th>\n",
              "      <td>4</td>\n",
              "      <td>0.677739</td>\n",
              "      <td>2023-05-15 19:55:11.688415</td>\n",
              "      <td>2023-05-15 20:24:57.356770</td>\n",
              "      <td>0 days 00:29:45.668355</td>\n",
              "      <td>0.0</td>\n",
              "      <td>128</td>\n",
              "      <td>2</td>\n",
              "      <td>0.007106</td>\n",
              "      <td>AdamW</td>\n",
              "      <td>COMPLETE</td>\n",
              "    </tr>\n",
              "    <tr>\n",
              "      <th>5</th>\n",
              "      <td>5</td>\n",
              "      <td>0.724531</td>\n",
              "      <td>2023-05-15 20:24:57.359644</td>\n",
              "      <td>2023-05-15 20:52:55.825428</td>\n",
              "      <td>0 days 00:27:58.465784</td>\n",
              "      <td>0.5</td>\n",
              "      <td>128</td>\n",
              "      <td>1</td>\n",
              "      <td>0.000199</td>\n",
              "      <td>Adam</td>\n",
              "      <td>COMPLETE</td>\n",
              "    </tr>\n",
              "    <tr>\n",
              "      <th>6</th>\n",
              "      <td>6</td>\n",
              "      <td>0.730101</td>\n",
              "      <td>2023-05-15 20:52:55.827673</td>\n",
              "      <td>2023-05-15 21:53:02.015679</td>\n",
              "      <td>0 days 01:00:06.188006</td>\n",
              "      <td>0.5</td>\n",
              "      <td>256</td>\n",
              "      <td>1</td>\n",
              "      <td>0.000010</td>\n",
              "      <td>Adam</td>\n",
              "      <td>COMPLETE</td>\n",
              "    </tr>\n",
              "    <tr>\n",
              "      <th>7</th>\n",
              "      <td>7</td>\n",
              "      <td>0.636622</td>\n",
              "      <td>2023-05-15 21:53:02.017426</td>\n",
              "      <td>2023-05-15 22:17:16.374800</td>\n",
              "      <td>0 days 00:24:14.357374</td>\n",
              "      <td>0.5</td>\n",
              "      <td>512</td>\n",
              "      <td>1</td>\n",
              "      <td>0.003544</td>\n",
              "      <td>RMSprop</td>\n",
              "      <td>COMPLETE</td>\n",
              "    </tr>\n",
              "    <tr>\n",
              "      <th>8</th>\n",
              "      <td>8</td>\n",
              "      <td>0.616600</td>\n",
              "      <td>2023-05-15 22:17:16.377136</td>\n",
              "      <td>2023-05-15 22:39:39.124787</td>\n",
              "      <td>0 days 00:22:22.747651</td>\n",
              "      <td>0.3</td>\n",
              "      <td>256</td>\n",
              "      <td>1</td>\n",
              "      <td>0.002263</td>\n",
              "      <td>AdamW</td>\n",
              "      <td>COMPLETE</td>\n",
              "    </tr>\n",
              "    <tr>\n",
              "      <th>9</th>\n",
              "      <td>9</td>\n",
              "      <td>0.681685</td>\n",
              "      <td>2023-05-15 22:39:39.127408</td>\n",
              "      <td>2023-05-15 23:06:58.503080</td>\n",
              "      <td>0 days 00:27:19.375672</td>\n",
              "      <td>0.5</td>\n",
              "      <td>256</td>\n",
              "      <td>1</td>\n",
              "      <td>0.000038</td>\n",
              "      <td>Adam</td>\n",
              "      <td>COMPLETE</td>\n",
              "    </tr>\n",
              "  </tbody>\n",
              "</table>\n",
              "</div>\n",
              "      <button class=\"colab-df-convert\" onclick=\"convertToInteractive('df-5e4c69ae-4a5d-4e2a-8620-86564159cb4d')\"\n",
              "              title=\"Convert this dataframe to an interactive table.\"\n",
              "              style=\"display:none;\">\n",
              "        \n",
              "  <svg xmlns=\"http://www.w3.org/2000/svg\" height=\"24px\"viewBox=\"0 0 24 24\"\n",
              "       width=\"24px\">\n",
              "    <path d=\"M0 0h24v24H0V0z\" fill=\"none\"/>\n",
              "    <path d=\"M18.56 5.44l.94 2.06.94-2.06 2.06-.94-2.06-.94-.94-2.06-.94 2.06-2.06.94zm-11 1L8.5 8.5l.94-2.06 2.06-.94-2.06-.94L8.5 2.5l-.94 2.06-2.06.94zm10 10l.94 2.06.94-2.06 2.06-.94-2.06-.94-.94-2.06-.94 2.06-2.06.94z\"/><path d=\"M17.41 7.96l-1.37-1.37c-.4-.4-.92-.59-1.43-.59-.52 0-1.04.2-1.43.59L10.3 9.45l-7.72 7.72c-.78.78-.78 2.05 0 2.83L4 21.41c.39.39.9.59 1.41.59.51 0 1.02-.2 1.41-.59l7.78-7.78 2.81-2.81c.8-.78.8-2.07 0-2.86zM5.41 20L4 18.59l7.72-7.72 1.47 1.35L5.41 20z\"/>\n",
              "  </svg>\n",
              "      </button>\n",
              "      \n",
              "  <style>\n",
              "    .colab-df-container {\n",
              "      display:flex;\n",
              "      flex-wrap:wrap;\n",
              "      gap: 12px;\n",
              "    }\n",
              "\n",
              "    .colab-df-convert {\n",
              "      background-color: #E8F0FE;\n",
              "      border: none;\n",
              "      border-radius: 50%;\n",
              "      cursor: pointer;\n",
              "      display: none;\n",
              "      fill: #1967D2;\n",
              "      height: 32px;\n",
              "      padding: 0 0 0 0;\n",
              "      width: 32px;\n",
              "    }\n",
              "\n",
              "    .colab-df-convert:hover {\n",
              "      background-color: #E2EBFA;\n",
              "      box-shadow: 0px 1px 2px rgba(60, 64, 67, 0.3), 0px 1px 3px 1px rgba(60, 64, 67, 0.15);\n",
              "      fill: #174EA6;\n",
              "    }\n",
              "\n",
              "    [theme=dark] .colab-df-convert {\n",
              "      background-color: #3B4455;\n",
              "      fill: #D2E3FC;\n",
              "    }\n",
              "\n",
              "    [theme=dark] .colab-df-convert:hover {\n",
              "      background-color: #434B5C;\n",
              "      box-shadow: 0px 1px 3px 1px rgba(0, 0, 0, 0.15);\n",
              "      filter: drop-shadow(0px 1px 2px rgba(0, 0, 0, 0.3));\n",
              "      fill: #FFFFFF;\n",
              "    }\n",
              "  </style>\n",
              "\n",
              "      <script>\n",
              "        const buttonEl =\n",
              "          document.querySelector('#df-5e4c69ae-4a5d-4e2a-8620-86564159cb4d button.colab-df-convert');\n",
              "        buttonEl.style.display =\n",
              "          google.colab.kernel.accessAllowed ? 'block' : 'none';\n",
              "\n",
              "        async function convertToInteractive(key) {\n",
              "          const element = document.querySelector('#df-5e4c69ae-4a5d-4e2a-8620-86564159cb4d');\n",
              "          const dataTable =\n",
              "            await google.colab.kernel.invokeFunction('convertToInteractive',\n",
              "                                                     [key], {});\n",
              "          if (!dataTable) return;\n",
              "\n",
              "          const docLinkHtml = 'Like what you see? Visit the ' +\n",
              "            '<a target=\"_blank\" href=https://colab.research.google.com/notebooks/data_table.ipynb>data table notebook</a>'\n",
              "            + ' to learn more about interactive tables.';\n",
              "          element.innerHTML = '';\n",
              "          dataTable['output_type'] = 'display_data';\n",
              "          await google.colab.output.renderOutput(dataTable, element);\n",
              "          const docLink = document.createElement('div');\n",
              "          docLink.innerHTML = docLinkHtml;\n",
              "          element.appendChild(docLink);\n",
              "        }\n",
              "      </script>\n",
              "    </div>\n",
              "  </div>\n",
              "  "
            ]
          },
          "metadata": {},
          "execution_count": 13
        }
      ],
      "source": [
        "trials_df = study.trials_dataframe()\n",
        "trials_df"
      ]
    },
    {
      "cell_type": "code",
      "execution_count": null,
      "metadata": {
        "colab": {
          "base_uri": "https://localhost:8080/",
          "height": 542
        },
        "id": "DcS1qeJ3GrJw",
        "outputId": "a56cf5ad-33a2-4e79-b63f-e6ae48055420"
      },
      "outputs": [
        {
          "output_type": "display_data",
          "data": {
            "text/html": [
              "<html>\n",
              "<head><meta charset=\"utf-8\" /></head>\n",
              "<body>\n",
              "    <div>            <script src=\"https://cdnjs.cloudflare.com/ajax/libs/mathjax/2.7.5/MathJax.js?config=TeX-AMS-MML_SVG\"></script><script type=\"text/javascript\">if (window.MathJax && window.MathJax.Hub && window.MathJax.Hub.Config) {window.MathJax.Hub.Config({SVG: {font: \"STIX-Web\"}});}</script>                <script type=\"text/javascript\">window.PlotlyConfig = {MathJaxConfig: 'local'};</script>\n",
              "        <script src=\"https://cdn.plot.ly/plotly-2.18.2.min.js\"></script>                <div id=\"2a355504-a3e2-405b-86e4-56b7ae92e4a5\" class=\"plotly-graph-div\" style=\"height:525px; width:100%;\"></div>            <script type=\"text/javascript\">                                    window.PLOTLYENV=window.PLOTLYENV || {};                                    if (document.getElementById(\"2a355504-a3e2-405b-86e4-56b7ae92e4a5\")) {                    Plotly.newPlot(                        \"2a355504-a3e2-405b-86e4-56b7ae92e4a5\",                        [{\"cliponaxis\":false,\"hovertemplate\":[\"drop_out (CategoricalDistribution): 0.073669624936323<extra></extra>\",\"hidden_layers (IntDistribution): 0.11142636156659305<extra></extra>\",\"lr (FloatDistribution): 0.1827374267286688<extra></extra>\",\"first_neuron (CategoricalDistribution): 0.2174044230190883<extra></extra>\",\"optimizer (CategoricalDistribution): 0.41476216374932684<extra></extra>\"],\"marker\":{\"color\":\"rgb(66,146,198)\"},\"orientation\":\"h\",\"text\":[\"0.07\",\"0.11\",\"0.18\",\"0.22\",\"0.41\"],\"textposition\":\"outside\",\"x\":[0.073669624936323,0.11142636156659305,0.1827374267286688,0.2174044230190883,0.41476216374932684],\"y\":[\"drop_out\",\"hidden_layers\",\"lr\",\"first_neuron\",\"optimizer\"],\"type\":\"bar\"}],                        {\"showlegend\":false,\"title\":{\"text\":\"Hyperparameter Importances\"},\"xaxis\":{\"title\":{\"text\":\"Importance for Objective Value\"}},\"yaxis\":{\"title\":{\"text\":\"Hyperparameter\"}},\"template\":{\"data\":{\"histogram2dcontour\":[{\"type\":\"histogram2dcontour\",\"colorbar\":{\"outlinewidth\":0,\"ticks\":\"\"},\"colorscale\":[[0.0,\"#0d0887\"],[0.1111111111111111,\"#46039f\"],[0.2222222222222222,\"#7201a8\"],[0.3333333333333333,\"#9c179e\"],[0.4444444444444444,\"#bd3786\"],[0.5555555555555556,\"#d8576b\"],[0.6666666666666666,\"#ed7953\"],[0.7777777777777778,\"#fb9f3a\"],[0.8888888888888888,\"#fdca26\"],[1.0,\"#f0f921\"]]}],\"choropleth\":[{\"type\":\"choropleth\",\"colorbar\":{\"outlinewidth\":0,\"ticks\":\"\"}}],\"histogram2d\":[{\"type\":\"histogram2d\",\"colorbar\":{\"outlinewidth\":0,\"ticks\":\"\"},\"colorscale\":[[0.0,\"#0d0887\"],[0.1111111111111111,\"#46039f\"],[0.2222222222222222,\"#7201a8\"],[0.3333333333333333,\"#9c179e\"],[0.4444444444444444,\"#bd3786\"],[0.5555555555555556,\"#d8576b\"],[0.6666666666666666,\"#ed7953\"],[0.7777777777777778,\"#fb9f3a\"],[0.8888888888888888,\"#fdca26\"],[1.0,\"#f0f921\"]]}],\"heatmap\":[{\"type\":\"heatmap\",\"colorbar\":{\"outlinewidth\":0,\"ticks\":\"\"},\"colorscale\":[[0.0,\"#0d0887\"],[0.1111111111111111,\"#46039f\"],[0.2222222222222222,\"#7201a8\"],[0.3333333333333333,\"#9c179e\"],[0.4444444444444444,\"#bd3786\"],[0.5555555555555556,\"#d8576b\"],[0.6666666666666666,\"#ed7953\"],[0.7777777777777778,\"#fb9f3a\"],[0.8888888888888888,\"#fdca26\"],[1.0,\"#f0f921\"]]}],\"heatmapgl\":[{\"type\":\"heatmapgl\",\"colorbar\":{\"outlinewidth\":0,\"ticks\":\"\"},\"colorscale\":[[0.0,\"#0d0887\"],[0.1111111111111111,\"#46039f\"],[0.2222222222222222,\"#7201a8\"],[0.3333333333333333,\"#9c179e\"],[0.4444444444444444,\"#bd3786\"],[0.5555555555555556,\"#d8576b\"],[0.6666666666666666,\"#ed7953\"],[0.7777777777777778,\"#fb9f3a\"],[0.8888888888888888,\"#fdca26\"],[1.0,\"#f0f921\"]]}],\"contourcarpet\":[{\"type\":\"contourcarpet\",\"colorbar\":{\"outlinewidth\":0,\"ticks\":\"\"}}],\"contour\":[{\"type\":\"contour\",\"colorbar\":{\"outlinewidth\":0,\"ticks\":\"\"},\"colorscale\":[[0.0,\"#0d0887\"],[0.1111111111111111,\"#46039f\"],[0.2222222222222222,\"#7201a8\"],[0.3333333333333333,\"#9c179e\"],[0.4444444444444444,\"#bd3786\"],[0.5555555555555556,\"#d8576b\"],[0.6666666666666666,\"#ed7953\"],[0.7777777777777778,\"#fb9f3a\"],[0.8888888888888888,\"#fdca26\"],[1.0,\"#f0f921\"]]}],\"surface\":[{\"type\":\"surface\",\"colorbar\":{\"outlinewidth\":0,\"ticks\":\"\"},\"colorscale\":[[0.0,\"#0d0887\"],[0.1111111111111111,\"#46039f\"],[0.2222222222222222,\"#7201a8\"],[0.3333333333333333,\"#9c179e\"],[0.4444444444444444,\"#bd3786\"],[0.5555555555555556,\"#d8576b\"],[0.6666666666666666,\"#ed7953\"],[0.7777777777777778,\"#fb9f3a\"],[0.8888888888888888,\"#fdca26\"],[1.0,\"#f0f921\"]]}],\"mesh3d\":[{\"type\":\"mesh3d\",\"colorbar\":{\"outlinewidth\":0,\"ticks\":\"\"}}],\"scatter\":[{\"fillpattern\":{\"fillmode\":\"overlay\",\"size\":10,\"solidity\":0.2},\"type\":\"scatter\"}],\"parcoords\":[{\"type\":\"parcoords\",\"line\":{\"colorbar\":{\"outlinewidth\":0,\"ticks\":\"\"}}}],\"scatterpolargl\":[{\"type\":\"scatterpolargl\",\"marker\":{\"colorbar\":{\"outlinewidth\":0,\"ticks\":\"\"}}}],\"bar\":[{\"error_x\":{\"color\":\"#2a3f5f\"},\"error_y\":{\"color\":\"#2a3f5f\"},\"marker\":{\"line\":{\"color\":\"#E5ECF6\",\"width\":0.5},\"pattern\":{\"fillmode\":\"overlay\",\"size\":10,\"solidity\":0.2}},\"type\":\"bar\"}],\"scattergeo\":[{\"type\":\"scattergeo\",\"marker\":{\"colorbar\":{\"outlinewidth\":0,\"ticks\":\"\"}}}],\"scatterpolar\":[{\"type\":\"scatterpolar\",\"marker\":{\"colorbar\":{\"outlinewidth\":0,\"ticks\":\"\"}}}],\"histogram\":[{\"marker\":{\"pattern\":{\"fillmode\":\"overlay\",\"size\":10,\"solidity\":0.2}},\"type\":\"histogram\"}],\"scattergl\":[{\"type\":\"scattergl\",\"marker\":{\"colorbar\":{\"outlinewidth\":0,\"ticks\":\"\"}}}],\"scatter3d\":[{\"type\":\"scatter3d\",\"line\":{\"colorbar\":{\"outlinewidth\":0,\"ticks\":\"\"}},\"marker\":{\"colorbar\":{\"outlinewidth\":0,\"ticks\":\"\"}}}],\"scattermapbox\":[{\"type\":\"scattermapbox\",\"marker\":{\"colorbar\":{\"outlinewidth\":0,\"ticks\":\"\"}}}],\"scatterternary\":[{\"type\":\"scatterternary\",\"marker\":{\"colorbar\":{\"outlinewidth\":0,\"ticks\":\"\"}}}],\"scattercarpet\":[{\"type\":\"scattercarpet\",\"marker\":{\"colorbar\":{\"outlinewidth\":0,\"ticks\":\"\"}}}],\"carpet\":[{\"aaxis\":{\"endlinecolor\":\"#2a3f5f\",\"gridcolor\":\"white\",\"linecolor\":\"white\",\"minorgridcolor\":\"white\",\"startlinecolor\":\"#2a3f5f\"},\"baxis\":{\"endlinecolor\":\"#2a3f5f\",\"gridcolor\":\"white\",\"linecolor\":\"white\",\"minorgridcolor\":\"white\",\"startlinecolor\":\"#2a3f5f\"},\"type\":\"carpet\"}],\"table\":[{\"cells\":{\"fill\":{\"color\":\"#EBF0F8\"},\"line\":{\"color\":\"white\"}},\"header\":{\"fill\":{\"color\":\"#C8D4E3\"},\"line\":{\"color\":\"white\"}},\"type\":\"table\"}],\"barpolar\":[{\"marker\":{\"line\":{\"color\":\"#E5ECF6\",\"width\":0.5},\"pattern\":{\"fillmode\":\"overlay\",\"size\":10,\"solidity\":0.2}},\"type\":\"barpolar\"}],\"pie\":[{\"automargin\":true,\"type\":\"pie\"}]},\"layout\":{\"autotypenumbers\":\"strict\",\"colorway\":[\"#636efa\",\"#EF553B\",\"#00cc96\",\"#ab63fa\",\"#FFA15A\",\"#19d3f3\",\"#FF6692\",\"#B6E880\",\"#FF97FF\",\"#FECB52\"],\"font\":{\"color\":\"#2a3f5f\"},\"hovermode\":\"closest\",\"hoverlabel\":{\"align\":\"left\"},\"paper_bgcolor\":\"white\",\"plot_bgcolor\":\"#E5ECF6\",\"polar\":{\"bgcolor\":\"#E5ECF6\",\"angularaxis\":{\"gridcolor\":\"white\",\"linecolor\":\"white\",\"ticks\":\"\"},\"radialaxis\":{\"gridcolor\":\"white\",\"linecolor\":\"white\",\"ticks\":\"\"}},\"ternary\":{\"bgcolor\":\"#E5ECF6\",\"aaxis\":{\"gridcolor\":\"white\",\"linecolor\":\"white\",\"ticks\":\"\"},\"baxis\":{\"gridcolor\":\"white\",\"linecolor\":\"white\",\"ticks\":\"\"},\"caxis\":{\"gridcolor\":\"white\",\"linecolor\":\"white\",\"ticks\":\"\"}},\"coloraxis\":{\"colorbar\":{\"outlinewidth\":0,\"ticks\":\"\"}},\"colorscale\":{\"sequential\":[[0.0,\"#0d0887\"],[0.1111111111111111,\"#46039f\"],[0.2222222222222222,\"#7201a8\"],[0.3333333333333333,\"#9c179e\"],[0.4444444444444444,\"#bd3786\"],[0.5555555555555556,\"#d8576b\"],[0.6666666666666666,\"#ed7953\"],[0.7777777777777778,\"#fb9f3a\"],[0.8888888888888888,\"#fdca26\"],[1.0,\"#f0f921\"]],\"sequentialminus\":[[0.0,\"#0d0887\"],[0.1111111111111111,\"#46039f\"],[0.2222222222222222,\"#7201a8\"],[0.3333333333333333,\"#9c179e\"],[0.4444444444444444,\"#bd3786\"],[0.5555555555555556,\"#d8576b\"],[0.6666666666666666,\"#ed7953\"],[0.7777777777777778,\"#fb9f3a\"],[0.8888888888888888,\"#fdca26\"],[1.0,\"#f0f921\"]],\"diverging\":[[0,\"#8e0152\"],[0.1,\"#c51b7d\"],[0.2,\"#de77ae\"],[0.3,\"#f1b6da\"],[0.4,\"#fde0ef\"],[0.5,\"#f7f7f7\"],[0.6,\"#e6f5d0\"],[0.7,\"#b8e186\"],[0.8,\"#7fbc41\"],[0.9,\"#4d9221\"],[1,\"#276419\"]]},\"xaxis\":{\"gridcolor\":\"white\",\"linecolor\":\"white\",\"ticks\":\"\",\"title\":{\"standoff\":15},\"zerolinecolor\":\"white\",\"automargin\":true,\"zerolinewidth\":2},\"yaxis\":{\"gridcolor\":\"white\",\"linecolor\":\"white\",\"ticks\":\"\",\"title\":{\"standoff\":15},\"zerolinecolor\":\"white\",\"automargin\":true,\"zerolinewidth\":2},\"scene\":{\"xaxis\":{\"backgroundcolor\":\"#E5ECF6\",\"gridcolor\":\"white\",\"linecolor\":\"white\",\"showbackground\":true,\"ticks\":\"\",\"zerolinecolor\":\"white\",\"gridwidth\":2},\"yaxis\":{\"backgroundcolor\":\"#E5ECF6\",\"gridcolor\":\"white\",\"linecolor\":\"white\",\"showbackground\":true,\"ticks\":\"\",\"zerolinecolor\":\"white\",\"gridwidth\":2},\"zaxis\":{\"backgroundcolor\":\"#E5ECF6\",\"gridcolor\":\"white\",\"linecolor\":\"white\",\"showbackground\":true,\"ticks\":\"\",\"zerolinecolor\":\"white\",\"gridwidth\":2}},\"shapedefaults\":{\"line\":{\"color\":\"#2a3f5f\"}},\"annotationdefaults\":{\"arrowcolor\":\"#2a3f5f\",\"arrowhead\":0,\"arrowwidth\":1},\"geo\":{\"bgcolor\":\"white\",\"landcolor\":\"#E5ECF6\",\"subunitcolor\":\"white\",\"showland\":true,\"showlakes\":true,\"lakecolor\":\"white\"},\"title\":{\"x\":0.05},\"mapbox\":{\"style\":\"light\"}}}},                        {\"responsive\": true}                    ).then(function(){\n",
              "                            \n",
              "var gd = document.getElementById('2a355504-a3e2-405b-86e4-56b7ae92e4a5');\n",
              "var x = new MutationObserver(function (mutations, observer) {{\n",
              "        var display = window.getComputedStyle(gd).display;\n",
              "        if (!display || display === 'none') {{\n",
              "            console.log([gd, 'removed!']);\n",
              "            Plotly.purge(gd);\n",
              "            observer.disconnect();\n",
              "        }}\n",
              "}});\n",
              "\n",
              "// Listen for the removal of the full notebook cells\n",
              "var notebookContainer = gd.closest('#notebook-container');\n",
              "if (notebookContainer) {{\n",
              "    x.observe(notebookContainer, {childList: true});\n",
              "}}\n",
              "\n",
              "// Listen for the clearing of the current output cell\n",
              "var outputEl = gd.closest('.output');\n",
              "if (outputEl) {{\n",
              "    x.observe(outputEl, {childList: true});\n",
              "}}\n",
              "\n",
              "                        })                };                            </script>        </div>\n",
              "</body>\n",
              "</html>"
            ]
          },
          "metadata": {}
        }
      ],
      "source": [
        "fig = optuna.visualization.plot_param_importances(study)\n",
        "fig.show()"
      ]
    },
    {
      "cell_type": "code",
      "execution_count": null,
      "metadata": {
        "id": "a9fBHAvg20Mg"
      },
      "outputs": [],
      "source": [
        "from google.colab import runtime\n",
        "runtime.unassign()"
      ]
    },
    {
      "cell_type": "markdown",
      "metadata": {
        "id": "NXYGtxI2GrJw"
      },
      "source": [
        "## Re-train the EfficientNetV2B0 model using the best hyperparameters.\n",
        "\n",
        "\n",
        "\n",
        "\n",
        "\n",
        "\n",
        "\n"
      ]
    },
    {
      "cell_type": "code",
      "execution_count": null,
      "metadata": {
        "colab": {
          "base_uri": "https://localhost:8080/"
        },
        "id": "9NTu1N31GrJx",
        "outputId": "517d6a3b-90f8-4a36-a191-61555fc27238"
      },
      "outputs": [
        {
          "output_type": "stream",
          "name": "stdout",
          "text": [
            "Found 713 images belonging to 2 classes.\n",
            "Found 237 images belonging to 2 classes.\n",
            "Found 950 images belonging to 2 classes.\n",
            "Found 240 images belonging to 2 classes.\n",
            "Epoch 1/7\n",
            "30/30 [==============================] - 467s 15s/step - loss: 0.8844 - accuracy: 0.5600 - recall: 0.5631 - precision: 0.8549 - val_loss: 0.5664 - val_accuracy: 0.6958 - val_recall: 0.7626 - val_precision: 0.8531\n",
            "Epoch 2/7\n",
            "30/30 [==============================] - 135s 4s/step - loss: 0.6252 - accuracy: 0.6526 - recall: 0.6459 - precision: 0.9070 - val_loss: 0.7374 - val_accuracy: 0.5667 - val_recall: 0.5202 - val_precision: 0.9196\n",
            "Epoch 3/7\n",
            "30/30 [==============================] - 139s 5s/step - loss: 0.5865 - accuracy: 0.6811 - recall: 0.6764 - precision: 0.9155 - val_loss: 0.5229 - val_accuracy: 0.7625 - val_recall: 0.8232 - val_precision: 0.8811\n",
            "Epoch 4/7\n",
            "30/30 [==============================] - 137s 4s/step - loss: 0.5440 - accuracy: 0.7337 - recall: 0.7376 - precision: 0.9249 - val_loss: 0.4566 - val_accuracy: 0.7917 - val_recall: 0.8636 - val_precision: 0.8814\n",
            "Epoch 5/7\n",
            "30/30 [==============================] - 140s 5s/step - loss: 0.5143 - accuracy: 0.7379 - recall: 0.7338 - precision: 0.9351 - val_loss: 0.5097 - val_accuracy: 0.7625 - val_recall: 0.7727 - val_precision: 0.9273\n",
            "Epoch 6/7\n",
            "30/30 [==============================] - 142s 5s/step - loss: 0.5052 - accuracy: 0.7368 - recall: 0.7338 - precision: 0.9335 - val_loss: 0.4052 - val_accuracy: 0.8458 - val_recall: 0.9394 - val_precision: 0.8815\n",
            "Epoch 7/7\n",
            "30/30 [==============================] - 140s 5s/step - loss: 0.4887 - accuracy: 0.7526 - recall: 0.7516 - precision: 0.9365 - val_loss: 0.4799 - val_accuracy: 0.7625 - val_recall: 0.8081 - val_precision: 0.8939\n"
          ]
        }
      ],
      "source": [
        "clear_session()\n",
        "\n",
        "from tensorflow.keras.applications import EfficientNetV2B0\n",
        "from tensorflow.keras import layers\n",
        "\n",
        "# preprocess data\n",
        "train, val, train_val, test = train_val_test_generators(train_dir, val_dir, train_val_dir, test_dir)\n",
        "\n",
        "class_weights_train_val = compute_class_weight(class_weight = 'balanced', classes = np.unique(train_val.classes), y = train_val.classes)\n",
        "class_weights_train_val = {i : class_weights_train_val[i] for i in range(2)}\n",
        "\n",
        "# get best hyperparameters\n",
        "best_hidden_layers = 1 #study.best_params['hidden_layers']\n",
        "best_neurons = 256 #study.best_params['first_neuron']\n",
        "best_dropout = 0 #study.best_params['drop_out']\n",
        "best_optimizer = 'AdamW' #study.best_params['optimizer']\n",
        "best_lr = 0.000059\t# study.best_params['lr']\n",
        "epochs = 7 #take best epoch from HP tuning trail\n",
        "\n",
        "\n",
        "# retrain model\n",
        "EfficientNetV2B0_model = EfficientNetV2B0(input_shape = (224, 224, 3), \n",
        "                                include_top = False, \n",
        "                                weights = 'imagenet',\n",
        "                                include_preprocessing = False)\n",
        "\n",
        "for layer in EfficientNetV2B0_model.layers:\n",
        "  layer.trainable = False\n",
        "\n",
        "last_output = EfficientNetV2B0_model.output\n",
        "x = layers.Flatten()(last_output)\n",
        "\n",
        "for i in range(best_hidden_layers):\n",
        "  x = layers.Dense(best_neurons, activation='relu')(x)\n",
        "  x = layers.Dropout(best_dropout)(x)                  \n",
        "\n",
        "x = layers.Dense(1, activation='sigmoid')(x)           \n",
        "\n",
        "model = Model(EfficientNetV2B0_model.input, x) \n",
        "\n",
        "if best_optimizer == 'Adam':\n",
        "    optimizer = Adam(learning_rate=best_lr)\n",
        "elif best_optimizer == 'RMSprop':\n",
        "    optimizer = RMSprop(learning_rate=best_lr)\n",
        "elif best_optimizer == 'AdamW':\n",
        "    optimizer = AdamW(learning_rate=best_lr)\n",
        "\n",
        "\n",
        "model.compile(optimizer=optimizer,\n",
        "              loss = 'binary_crossentropy', \n",
        "              metrics = ['accuracy', Recall(), Precision()])\n",
        "\n",
        "EfficientNetV2B0_history = model.fit(train_val, validation_data=test, # test set used only for monitoring loss and accuracy, not for HP tuning\n",
        "                                   class_weight=class_weights_train_val, epochs = epochs,\n",
        "                                   max_queue_size=20, workers=2, use_multiprocessing=True)"
      ]
    },
    {
      "cell_type": "code",
      "execution_count": null,
      "metadata": {
        "colab": {
          "base_uri": "https://localhost:8080/",
          "height": 927
        },
        "id": "uWlV9WZ2paAy",
        "outputId": "96e9dd6c-0271-4b74-9b06-9b8ef2e67d39"
      },
      "outputs": [
        {
          "output_type": "display_data",
          "data": {
            "text/plain": [
              "<Figure size 640x480 with 1 Axes>"
            ],
            "image/png": "[encoded data removed]"
          },
          "metadata": {}
        },
        {
          "output_type": "display_data",
          "data": {
            "text/plain": [
              "<Figure size 640x480 with 1 Axes>"
            ],
            "image/png": "[encoded data removed]"
          },
          "metadata": {}
        }
      ],
      "source": [
        "# Plot training and validation accuracy curves\n",
        "plt.plot(EfficientNetV2B0_history.history['accuracy'])\n",
        "plt.plot(EfficientNetV2B0_history.history['val_accuracy'])\n",
        "plt.title('Model accuracy')\n",
        "plt.ylabel('Accuracy')\n",
        "plt.xlabel('Epoch')\n",
        "plt.legend(['Train_Val', 'Test'], loc='upper left')\n",
        "plt.show()\n",
        "\n",
        "# Plot training and validation loss curves\n",
        "plt.plot(EfficientNetV2B0_history.history['loss'])\n",
        "plt.plot(EfficientNetV2B0_history.history['val_loss'])\n",
        "plt.title('Model loss')\n",
        "plt.ylabel('Loss')\n",
        "plt.xlabel('Epoch')\n",
        "plt.legend(['Train_Val', 'Test'], loc='upper left')\n",
        "plt.show()"
      ]
    },
    {
      "cell_type": "markdown",
      "metadata": {
        "id": "Ar1M0UkwGrJx"
      },
      "source": [
        "## Test the performance of the EfficientNetV2B0 model on the test set."
      ]
    },
    {
      "cell_type": "code",
      "execution_count": null,
      "metadata": {
        "colab": {
          "base_uri": "https://localhost:8080/"
        },
        "id": "jVbO6fsxGrJx",
        "outputId": "e4334d2f-abf1-4573-9e72-37801901c9a0"
      },
      "outputs": [
        {
          "output_type": "stream",
          "name": "stdout",
          "text": [
            "8/8 [==============================] - 49s 6s/step - loss: 0.4799 - accuracy: 0.7625 - recall: 0.8081 - precision: 0.8939\n",
            "Test loss: 0.47988587617874146\n",
            "Test accuracy: 0.762499988079071\n"
          ]
        }
      ],
      "source": [
        "# Evaluate model performance on test set\n",
        "performance_EfficientNetV2B0 = model.evaluate(test)\n",
        "print('Test loss:', performance_EfficientNetV2B0[0])\n",
        "print('Test accuracy:', performance_EfficientNetV2B0[1])"
      ]
    },
    {
      "cell_type": "code",
      "execution_count": null,
      "metadata": {
        "colab": {
          "base_uri": "https://localhost:8080/"
        },
        "id": "Dp4lg26dGrJx",
        "outputId": "625650e3-3ee0-4373-a6e5-07ed2d48f347"
      },
      "outputs": [
        {
          "output_type": "stream",
          "name": "stdout",
          "text": [
            "8/8 [==============================] - 47s 6s/step\n",
            "Accuracy: 0.7625\n",
            "Precision: 0.8938547486033519\n",
            "Recall: 0.8080808080808081\n",
            "F1-score: 0.8488063660477454\n",
            "F1_score_macro: 0.6477041538976591\n",
            "AUC-ROC: 0.6778499278499279\n",
            "\n",
            "              precision    recall  f1-score   support\n",
            "\n",
            "           0       0.38      0.55      0.45        42\n",
            "           1       0.89      0.81      0.85       198\n",
            "\n",
            "    accuracy                           0.76       240\n",
            "   macro avg       0.64      0.68      0.65       240\n",
            "weighted avg       0.80      0.76      0.78       240\n",
            "\n"
          ]
        }
      ],
      "source": [
        "# Use the trained model to predict on the test set and round the prediction\n",
        "y_pred = model.predict(test)\n",
        "y_pred = np.round(y_pred)\n",
        "\n",
        "# Calculate the evaluation metrics\n",
        "accuracy = accuracy_score(test.labels, y_pred)\n",
        "precision = precision_score(test.labels, y_pred)\n",
        "recall = recall_score(test.labels, y_pred)\n",
        "f1score = f1_score(test.labels, y_pred)\n",
        "f1score_macro = f1_score(test.labels, y_pred, average = 'macro')\n",
        "auc_roc = roc_auc_score(test.labels, y_pred)\n",
        "\n",
        "# Print the evaluation metrics\n",
        "print('Accuracy:', accuracy)\n",
        "print('Precision:', precision)\n",
        "print('Recall:', recall)\n",
        "print('F1-score:', f1score)\n",
        "print('F1_score_macro:', f1score_macro)\n",
        "print('AUC-ROC:', auc_roc)\n",
        "print()\n",
        "\n",
        "print(classification_report(test.labels, y_pred))"
      ]
    },
    {
      "cell_type": "code",
      "execution_count": null,
      "metadata": {
        "colab": {
          "base_uri": "https://localhost:8080/",
          "height": 506
        },
        "id": "TDoFHslMGrJx",
        "outputId": "f056ea30-f24b-4ac5-86e6-8970739321b1"
      },
      "outputs": [
        {
          "output_type": "display_data",
          "data": {
            "text/plain": [
              "<Figure size 640x480 with 2 Axes>"
            ],
            "image/png": "[encoded data removed]"
          },
          "metadata": {}
        }
      ],
      "source": [
        "# Create a confusion matrix:\n",
        "cm = confusion_matrix(test.labels, y_pred)\n",
        "\n",
        "# Define the class labels\n",
        "classes = np.unique(['Healthy', 'Scab'])\n",
        "\n",
        "# Create the plot\n",
        "fig, ax = plt.subplots()\n",
        "im = ax.imshow(cm, interpolation='nearest', cmap=plt.cm.Blues)\n",
        "ax.figure.colorbar(im, ax=ax)\n",
        "\n",
        "# Add axis labels and tick marks\n",
        "ax.set(xticks=np.arange(cm.shape[1]),\n",
        "       yticks=np.arange(cm.shape[0]),\n",
        "       xticklabels=classes,\n",
        "       yticklabels=classes,\n",
        "       xlabel='Predicted label',\n",
        "       ylabel='True label')\n",
        "\n",
        "# Rotate the tick labels and set their alignment\n",
        "plt.setp(ax.get_xticklabels(), rotation=45, ha=\"right\",\n",
        "         rotation_mode=\"anchor\")\n",
        "\n",
        "# Loop over data dimensions and create text annotations\n",
        "for i in range(cm.shape[0]):\n",
        "    for j in range(cm.shape[1]):\n",
        "        ax.text(j, i, format(cm[i, j], 'd'),\n",
        "                ha=\"center\", va=\"center\",\n",
        "                color=\"white\" if cm[i, j] > cm.max() / 2. else \"black\")\n",
        "\n",
        "# Add a title\n",
        "ax.set_title(\"Confusion Matrix\")\n",
        "\n",
        "# Show the plot\n",
        "plt.show()"
      ]
    },
    {
      "cell_type": "code",
      "execution_count": null,
      "metadata": {
        "id": "PHjBeMZV8Wbc"
      },
      "outputs": [],
      "source": [
        "from google.colab import runtime\n",
        "runtime.unassign()"
      ]
    },
    {
      "cell_type": "markdown",
      "metadata": {
        "id": "eGV_xMMvGtTd"
      },
      "source": [
        "# ConvNeXtTiny model:"
      ]
    },
    {
      "cell_type": "markdown",
      "metadata": {
        "id": "zeqGojVHGtTe"
      },
      "source": [
        "## Perform hyperparameter tuning on the ConvNeXtTiny: model."
      ]
    },
    {
      "cell_type": "code",
      "execution_count": null,
      "metadata": {
        "colab": {
          "base_uri": "https://localhost:8080/"
        },
        "id": "HrH5fj_vGtTe",
        "outputId": "35b34b4b-1d9d-4fb2-ceb5-53afa04c7763"
      },
      "outputs": [
        {
          "output_type": "stream",
          "name": "stderr",
          "text": [
            "<ipython-input-7-e91c3bbae14a>:67: UserWarning: Recent Keras release (2.4.0) simply redirects all APIs in the standalone keras package to point to tf.keras. There is now only one Keras: tf.keras. There may be some breaking changes for some workflows by upgrading to keras 2.4.0. Test before upgrading. REF:https://github.com/keras-team/keras/releases/tag/2.4.0\n",
            "  warnings.warn(\n",
            "\u001b[32m[I 2023-05-16 19:50:00,749]\u001b[0m A new study created in memory with name: no-name-a3ea8c86-33db-4e74-b09c-a2692e2e5d30\u001b[0m\n"
          ]
        },
        {
          "output_type": "stream",
          "name": "stdout",
          "text": [
            "Found 713 images belonging to 2 classes.\n",
            "Found 237 images belonging to 2 classes.\n",
            "Found 950 images belonging to 2 classes.\n",
            "Found 240 images belonging to 2 classes.\n",
            "Downloading data from https://storage.googleapis.com/tensorflow/keras-applications/convnext/convnext_tiny_notop.h5\n",
            "111650432/111650432 [==============================] - 4s 0us/step\n",
            "Epoch 1/100\n",
            "23/23 [==============================] - 415s 18s/step - loss: 5.4926 - accuracy: 0.5386 - recall: 0.5416 - precision: 0.8439 - val_loss: 0.4062 - val_accuracy: 0.8565 - val_recall: 0.9490 - val_precision: 0.8857\n",
            "Epoch 2/100\n",
            "23/23 [==============================] - 188s 8s/step - loss: 1.0817 - accuracy: 0.6213 - recall: 0.6282 - precision: 0.8789 - val_loss: 0.5224 - val_accuracy: 0.7595 - val_recall: 0.7500 - val_precision: 0.9484\n",
            "Epoch 3/100\n",
            "23/23 [==============================] - 187s 8s/step - loss: 0.8744 - accuracy: 0.6438 - recall: 0.6537 - precision: 0.8851 - val_loss: 0.6014 - val_accuracy: 0.6540 - val_recall: 0.6224 - val_precision: 0.9385\n",
            "Epoch 4/100\n",
            "23/23 [==============================] - 189s 8s/step - loss: 0.7879 - accuracy: 0.6578 - recall: 0.6723 - precision: 0.8859 - val_loss: 0.3959 - val_accuracy: 0.8186 - val_recall: 0.9541 - val_precision: 0.8462\n",
            "Epoch 5/100\n",
            "23/23 [==============================] - 186s 8s/step - loss: 0.7037 - accuracy: 0.6367 - recall: 0.6452 - precision: 0.8837 - val_loss: 0.6940 - val_accuracy: 0.6245 - val_recall: 0.5714 - val_precision: 0.9573\n",
            "Epoch 6/100\n",
            "23/23 [==============================] - 184s 8s/step - loss: 0.6889 - accuracy: 0.6957 - recall: 0.6944 - precision: 0.9170 - val_loss: 0.3775 - val_accuracy: 0.8439 - val_recall: 0.8776 - val_precision: 0.9297\n",
            "Epoch 7/100\n",
            "23/23 [==============================] - 188s 8s/step - loss: 0.6016 - accuracy: 0.7321 - recall: 0.7351 - precision: 0.9252 - val_loss: 0.4179 - val_accuracy: 0.8312 - val_recall: 0.9949 - val_precision: 0.8333\n",
            "Epoch 8/100\n",
            "23/23 [==============================] - 190s 8s/step - loss: 0.7066 - accuracy: 0.6914 - recall: 0.7097 - precision: 0.8951 - val_loss: 0.9738 - val_accuracy: 0.5190 - val_recall: 0.4388 - val_precision: 0.9556\n",
            "Epoch 9/100\n",
            "23/23 [==============================] - 185s 8s/step - loss: 0.6075 - accuracy: 0.7181 - recall: 0.7165 - precision: 0.9254 - val_loss: 0.6431 - val_accuracy: 0.7173 - val_recall: 0.6837 - val_precision: 0.9640\n",
            "Epoch 10/100\n",
            "23/23 [==============================] - 187s 8s/step - loss: 0.6907 - accuracy: 0.7097 - recall: 0.7267 - precision: 0.9030 - val_loss: 1.3602 - val_accuracy: 0.3840 - val_recall: 0.2551 - val_precision: 1.0000\n",
            "Epoch 11/100\n",
            "23/23 [==============================] - 185s 8s/step - loss: 0.5645 - accuracy: 0.7419 - recall: 0.7470 - precision: 0.9263 - val_loss: 0.6939 - val_accuracy: 0.7089 - val_recall: 0.6684 - val_precision: 0.9704\n",
            "8/8 [==============================] - 49s 6s/step\n"
          ]
        },
        {
          "output_type": "stream",
          "name": "stderr",
          "text": [
            "\u001b[32m[I 2023-05-16 20:29:54,078]\u001b[0m Trial 0 finished with value: 0.7525188383710101 and parameters: {'hidden_layers': 1, 'first_neuron': 512, 'drop_out': 0.3, 'optimizer': 'RMSprop', 'lr': 0.0008547677015733051}. Best is trial 0 with value: 0.7525188383710101.\u001b[0m\n"
          ]
        },
        {
          "output_type": "stream",
          "name": "stdout",
          "text": [
            "0.7525188383710101\n",
            "Found 713 images belonging to 2 classes.\n",
            "Found 237 images belonging to 2 classes.\n",
            "Found 950 images belonging to 2 classes.\n",
            "Found 240 images belonging to 2 classes.\n",
            "Epoch 1/100\n",
            "23/23 [==============================] - 202s 8s/step - loss: 0.9129 - accuracy: 0.5273 - recall: 0.5450 - precision: 0.8231 - val_loss: 0.5558 - val_accuracy: 0.7300 - val_recall: 0.7551 - val_precision: 0.9024\n",
            "Epoch 2/100\n",
            "23/23 [==============================] - 188s 8s/step - loss: 0.7213 - accuracy: 0.6269 - recall: 0.6367 - precision: 0.8782 - val_loss: 0.7978 - val_accuracy: 0.4641 - val_recall: 0.3622 - val_precision: 0.9726\n",
            "Epoch 3/100\n",
            "23/23 [==============================] - 185s 8s/step - loss: 0.6987 - accuracy: 0.6438 - recall: 0.6435 - precision: 0.8960 - val_loss: 0.4158 - val_accuracy: 0.8270 - val_recall: 0.9439 - val_precision: 0.8605\n",
            "Epoch 4/100\n",
            "23/23 [==============================] - 189s 8s/step - loss: 0.6874 - accuracy: 0.6732 - recall: 0.6910 - precision: 0.8886 - val_loss: 0.6616 - val_accuracy: 0.6245 - val_recall: 0.5714 - val_precision: 0.9573\n",
            "Epoch 5/100\n",
            "23/23 [==============================] - 186s 8s/step - loss: 0.6172 - accuracy: 0.6620 - recall: 0.6638 - precision: 0.9009 - val_loss: 0.4614 - val_accuracy: 0.7890 - val_recall: 0.7908 - val_precision: 0.9451\n",
            "Epoch 6/100\n",
            "23/23 [==============================] - 190s 8s/step - loss: 0.6580 - accuracy: 0.6957 - recall: 0.7114 - precision: 0.8991 - val_loss: 0.4674 - val_accuracy: 0.7848 - val_recall: 0.7908 - val_precision: 0.9394\n",
            "Epoch 7/100\n",
            "23/23 [==============================] - 184s 8s/step - loss: 0.6132 - accuracy: 0.6760 - recall: 0.6893 - precision: 0.8943 - val_loss: 0.4513 - val_accuracy: 0.7848 - val_recall: 0.7959 - val_precision: 0.9341\n",
            "Epoch 8/100\n",
            "23/23 [==============================] - 186s 8s/step - loss: 0.5866 - accuracy: 0.7055 - recall: 0.7046 - precision: 0.9202 - val_loss: 0.4424 - val_accuracy: 0.7932 - val_recall: 0.7908 - val_precision: 0.9509\n",
            "8/8 [==============================] - 47s 5s/step\n"
          ]
        },
        {
          "output_type": "stream",
          "name": "stderr",
          "text": [
            "\u001b[32m[I 2023-05-16 20:56:05,847]\u001b[0m Trial 1 finished with value: 0.6247248291043911 and parameters: {'hidden_layers': 2, 'first_neuron': 512, 'drop_out': 0.3, 'optimizer': 'RMSprop', 'lr': 3.444310855844599e-05}. Best is trial 0 with value: 0.7525188383710101.\u001b[0m\n"
          ]
        },
        {
          "output_type": "stream",
          "name": "stdout",
          "text": [
            "0.6247248291043911\n",
            "Found 713 images belonging to 2 classes.\n",
            "Found 237 images belonging to 2 classes.\n",
            "Found 950 images belonging to 2 classes.\n",
            "Found 240 images belonging to 2 classes.\n",
            "Epoch 1/100\n",
            "23/23 [==============================] - 206s 9s/step - loss: 1.0688 - accuracy: 0.5849 - recall: 0.5959 - precision: 0.8582 - val_loss: 0.5261 - val_accuracy: 0.7342 - val_recall: 0.7806 - val_precision: 0.8844\n",
            "Epoch 2/100\n",
            "23/23 [==============================] - 184s 8s/step - loss: 0.6203 - accuracy: 0.6704 - recall: 0.6706 - precision: 0.9060 - val_loss: 0.4383 - val_accuracy: 0.8143 - val_recall: 0.8571 - val_precision: 0.9130\n",
            "Epoch 3/100\n",
            "23/23 [==============================] - 182s 8s/step - loss: 0.5589 - accuracy: 0.6957 - recall: 0.6859 - precision: 0.9266 - val_loss: 0.5426 - val_accuracy: 0.7426 - val_recall: 0.7296 - val_precision: 0.9470\n",
            "Epoch 4/100\n",
            "23/23 [==============================] - 185s 8s/step - loss: 0.5729 - accuracy: 0.7209 - recall: 0.7216 - precision: 0.9239 - val_loss: 0.4046 - val_accuracy: 0.8312 - val_recall: 0.8622 - val_precision: 0.9286\n",
            "Epoch 5/100\n",
            "23/23 [==============================] - 188s 8s/step - loss: 0.4841 - accuracy: 0.7546 - recall: 0.7504 - precision: 0.9404 - val_loss: 0.3512 - val_accuracy: 0.8650 - val_recall: 0.8980 - val_precision: 0.9362\n",
            "Epoch 6/100\n",
            "23/23 [==============================] - 192s 8s/step - loss: 0.5249 - accuracy: 0.7756 - recall: 0.7810 - precision: 0.9369 - val_loss: 0.3811 - val_accuracy: 0.8354 - val_recall: 0.8520 - val_precision: 0.9435\n",
            "Epoch 7/100\n",
            "23/23 [==============================] - 187s 8s/step - loss: 0.5403 - accuracy: 0.6774 - recall: 0.6435 - precision: 0.9499 - val_loss: 0.3994 - val_accuracy: 0.8397 - val_recall: 0.8418 - val_precision: 0.9593\n",
            "Epoch 8/100\n",
            "23/23 [==============================] - 186s 8s/step - loss: 0.4851 - accuracy: 0.7518 - recall: 0.7589 - precision: 0.9274 - val_loss: 0.2836 - val_accuracy: 0.8734 - val_recall: 0.9235 - val_precision: 0.9235\n",
            "Epoch 9/100\n",
            "23/23 [==============================] - 188s 8s/step - loss: 0.4040 - accuracy: 0.8079 - recall: 0.7946 - precision: 0.9669 - val_loss: 0.3878 - val_accuracy: 0.8439 - val_recall: 0.8520 - val_precision: 0.9543\n",
            "Epoch 10/100\n",
            "23/23 [==============================] - 191s 8s/step - loss: 0.4019 - accuracy: 0.8093 - recall: 0.8014 - precision: 0.9613 - val_loss: 0.3525 - val_accuracy: 0.8523 - val_recall: 0.8673 - val_precision: 0.9497\n",
            "Epoch 11/100\n",
            "23/23 [==============================] - 189s 8s/step - loss: 0.3795 - accuracy: 0.8345 - recall: 0.8268 - precision: 0.9682 - val_loss: 0.4361 - val_accuracy: 0.7975 - val_recall: 0.7806 - val_precision: 0.9684\n",
            "Epoch 12/100\n",
            "23/23 [==============================] - 188s 8s/step - loss: 0.3782 - accuracy: 0.8429 - recall: 0.8387 - precision: 0.9667 - val_loss: 0.4823 - val_accuracy: 0.7806 - val_recall: 0.7602 - val_precision: 0.9675\n",
            "Epoch 13/100\n",
            "23/23 [==============================] - 186s 8s/step - loss: 0.3431 - accuracy: 0.8317 - recall: 0.8166 - precision: 0.9757 - val_loss: 0.3214 - val_accuracy: 0.8608 - val_recall: 0.8776 - val_precision: 0.9503\n",
            "8/8 [==============================] - 48s 6s/step\n"
          ]
        },
        {
          "output_type": "stream",
          "name": "stderr",
          "text": [
            "\u001b[32m[I 2023-05-16 21:38:00,855]\u001b[0m Trial 2 finished with value: 0.7788078646092583 and parameters: {'hidden_layers': 1, 'first_neuron': 128, 'drop_out': 0, 'optimizer': 'Adam', 'lr': 0.000243929341233299}. Best is trial 2 with value: 0.7788078646092583.\u001b[0m\n"
          ]
        },
        {
          "output_type": "stream",
          "name": "stdout",
          "text": [
            "0.7788078646092583\n",
            "Found 713 images belonging to 2 classes.\n",
            "Found 237 images belonging to 2 classes.\n",
            "Found 950 images belonging to 2 classes.\n",
            "Found 240 images belonging to 2 classes.\n",
            "Epoch 1/100\n",
            "23/23 [==============================] - 203s 8s/step - loss: 0.8969 - accuracy: 0.5386 - recall: 0.5569 - precision: 0.8283 - val_loss: 0.5879 - val_accuracy: 0.6540 - val_recall: 0.6582 - val_precision: 0.8958\n",
            "Epoch 2/100\n",
            "23/23 [==============================] - 183s 8s/step - loss: 0.7148 - accuracy: 0.5933 - recall: 0.5756 - precision: 0.8945 - val_loss: 0.5355 - val_accuracy: 0.7131 - val_recall: 0.7194 - val_precision: 0.9156\n",
            "Epoch 3/100\n",
            "23/23 [==============================] - 187s 8s/step - loss: 0.6593 - accuracy: 0.6255 - recall: 0.6180 - precision: 0.8966 - val_loss: 0.3971 - val_accuracy: 0.8270 - val_recall: 0.9490 - val_precision: 0.8571\n",
            "Epoch 4/100\n",
            "23/23 [==============================] - 190s 8s/step - loss: 0.6474 - accuracy: 0.6620 - recall: 0.6723 - precision: 0.8919 - val_loss: 0.3788 - val_accuracy: 0.8354 - val_recall: 0.9490 - val_precision: 0.8651\n",
            "Epoch 5/100\n",
            "23/23 [==============================] - 182s 8s/step - loss: 0.6281 - accuracy: 0.6746 - recall: 0.6740 - precision: 0.9085 - val_loss: 0.4402 - val_accuracy: 0.8059 - val_recall: 0.8214 - val_precision: 0.9360\n",
            "Epoch 6/100\n",
            "23/23 [==============================] - 182s 8s/step - loss: 0.6338 - accuracy: 0.6676 - recall: 0.6706 - precision: 0.9018 - val_loss: 0.4164 - val_accuracy: 0.8270 - val_recall: 0.8367 - val_precision: 0.9480\n",
            "Epoch 7/100\n",
            "23/23 [==============================] - 186s 8s/step - loss: 0.5500 - accuracy: 0.7209 - recall: 0.7233 - precision: 0.9221 - val_loss: 0.4547 - val_accuracy: 0.7890 - val_recall: 0.7908 - val_precision: 0.9451\n",
            "Epoch 8/100\n",
            "23/23 [==============================] - 185s 8s/step - loss: 0.6082 - accuracy: 0.6830 - recall: 0.6757 - precision: 0.9192 - val_loss: 0.6489 - val_accuracy: 0.6245 - val_recall: 0.5663 - val_precision: 0.9652\n",
            "Epoch 9/100\n",
            "23/23 [==============================] - 182s 8s/step - loss: 0.5861 - accuracy: 0.6928 - recall: 0.6842 - precision: 0.9243 - val_loss: 0.3300 - val_accuracy: 0.8692 - val_recall: 0.9082 - val_precision: 0.9319\n",
            "Epoch 10/100\n",
            "23/23 [==============================] - 183s 8s/step - loss: 0.5707 - accuracy: 0.6971 - recall: 0.6910 - precision: 0.9229 - val_loss: 0.3978 - val_accuracy: 0.8312 - val_recall: 0.8367 - val_precision: 0.9535\n",
            "Epoch 11/100\n",
            "23/23 [==============================] - 187s 8s/step - loss: 0.5829 - accuracy: 0.7083 - recall: 0.7131 - precision: 0.9150 - val_loss: 0.3920 - val_accuracy: 0.8186 - val_recall: 0.8316 - val_precision: 0.9422\n",
            "Epoch 12/100\n",
            "23/23 [==============================] - 182s 8s/step - loss: 0.5241 - accuracy: 0.7532 - recall: 0.7470 - precision: 0.9422 - val_loss: 0.3953 - val_accuracy: 0.8397 - val_recall: 0.8418 - val_precision: 0.9593\n",
            "Epoch 13/100\n",
            "23/23 [==============================] - 182s 8s/step - loss: 0.4631 - accuracy: 0.7588 - recall: 0.7504 - precision: 0.9465 - val_loss: 0.3969 - val_accuracy: 0.8354 - val_recall: 0.8367 - val_precision: 0.9591\n",
            "Epoch 14/100\n",
            "23/23 [==============================] - 186s 8s/step - loss: 0.4885 - accuracy: 0.7770 - recall: 0.7844 - precision: 0.9352 - val_loss: 0.5267 - val_accuracy: 0.7553 - val_recall: 0.7245 - val_precision: 0.9726\n",
            "8/8 [==============================] - 45s 5s/step\n"
          ]
        },
        {
          "output_type": "stream",
          "name": "stderr",
          "text": [
            "\u001b[32m[I 2023-05-16 22:22:21,223]\u001b[0m Trial 3 finished with value: 0.7817874008732069 and parameters: {'hidden_layers': 2, 'first_neuron': 512, 'drop_out': 0.3, 'optimizer': 'Adam', 'lr': 3.7011574807773375e-05}. Best is trial 3 with value: 0.7817874008732069.\u001b[0m\n"
          ]
        },
        {
          "output_type": "stream",
          "name": "stdout",
          "text": [
            "0.7817874008732069\n",
            "Found 713 images belonging to 2 classes.\n",
            "Found 237 images belonging to 2 classes.\n",
            "Found 950 images belonging to 2 classes.\n",
            "Found 240 images belonging to 2 classes.\n",
            "Epoch 1/100\n",
            "23/23 [==============================] - 199s 8s/step - loss: 1.0736 - accuracy: 0.5554 - recall: 0.5552 - precision: 0.8560 - val_loss: 0.6699 - val_accuracy: 0.5949 - val_recall: 0.5306 - val_precision: 0.9630\n",
            "Epoch 2/100\n",
            "23/23 [==============================] - 184s 8s/step - loss: 0.8676 - accuracy: 0.6003 - recall: 0.6231 - precision: 0.8535 - val_loss: 0.7156 - val_accuracy: 0.6034 - val_recall: 0.5357 - val_precision: 0.9722\n",
            "Epoch 3/100\n",
            "23/23 [==============================] - 183s 8s/step - loss: 0.7619 - accuracy: 0.6381 - recall: 0.6435 - precision: 0.8876 - val_loss: 0.5268 - val_accuracy: 0.7553 - val_recall: 0.7500 - val_precision: 0.9423\n",
            "Epoch 4/100\n",
            "23/23 [==============================] - 181s 8s/step - loss: 0.6904 - accuracy: 0.6620 - recall: 0.6655 - precision: 0.8991 - val_loss: 0.6158 - val_accuracy: 0.7046 - val_recall: 0.6684 - val_precision: 0.9632\n",
            "Epoch 5/100\n",
            "23/23 [==============================] - 179s 8s/step - loss: 0.6894 - accuracy: 0.6606 - recall: 0.6621 - precision: 0.9007 - val_loss: 0.4768 - val_accuracy: 0.8017 - val_recall: 0.8010 - val_precision: 0.9515\n",
            "Epoch 6/100\n",
            "23/23 [==============================] - 181s 8s/step - loss: 0.5909 - accuracy: 0.7391 - recall: 0.7606 - precision: 0.9087 - val_loss: 0.5871 - val_accuracy: 0.7257 - val_recall: 0.6990 - val_precision: 0.9580\n",
            "Epoch 7/100\n",
            "23/23 [==============================] - 184s 8s/step - loss: 0.6383 - accuracy: 0.6494 - recall: 0.6180 - precision: 0.9357 - val_loss: 0.3759 - val_accuracy: 0.8439 - val_recall: 0.8878 - val_precision: 0.9206\n",
            "Epoch 8/100\n",
            "23/23 [==============================] - 185s 8s/step - loss: 0.5925 - accuracy: 0.7251 - recall: 0.7351 - precision: 0.9154 - val_loss: 0.3665 - val_accuracy: 0.8270 - val_recall: 0.8776 - val_precision: 0.9101\n",
            "Epoch 9/100\n",
            "23/23 [==============================] - 182s 8s/step - loss: 0.6219 - accuracy: 0.6690 - recall: 0.6520 - precision: 0.9253 - val_loss: 0.4092 - val_accuracy: 0.8059 - val_recall: 0.8265 - val_precision: 0.9310\n",
            "Epoch 10/100\n",
            "23/23 [==============================] - 181s 8s/step - loss: 0.5611 - accuracy: 0.7504 - recall: 0.7776 - precision: 0.9069 - val_loss: 0.4130 - val_accuracy: 0.8186 - val_recall: 0.8265 - val_precision: 0.9474\n",
            "Epoch 11/100\n",
            "23/23 [==============================] - 184s 8s/step - loss: 0.5423 - accuracy: 0.7293 - recall: 0.7267 - precision: 0.9304 - val_loss: 0.5188 - val_accuracy: 0.7679 - val_recall: 0.7449 - val_precision: 0.9669\n",
            "Epoch 12/100\n",
            "23/23 [==============================] - 185s 8s/step - loss: 0.5060 - accuracy: 0.7419 - recall: 0.7385 - precision: 0.9355 - val_loss: 0.4337 - val_accuracy: 0.7932 - val_recall: 0.7857 - val_precision: 0.9565\n",
            "Epoch 13/100\n",
            "23/23 [==============================] - 183s 8s/step - loss: 0.5042 - accuracy: 0.7433 - recall: 0.7419 - precision: 0.9338 - val_loss: 0.3103 - val_accuracy: 0.8650 - val_recall: 0.9133 - val_precision: 0.9227\n",
            "Epoch 14/100\n",
            "23/23 [==============================] - 185s 8s/step - loss: 0.4717 - accuracy: 0.7686 - recall: 0.7606 - precision: 0.9492 - val_loss: 0.3828 - val_accuracy: 0.8354 - val_recall: 0.8520 - val_precision: 0.9435\n",
            "Epoch 15/100\n",
            "23/23 [==============================] - 181s 8s/step - loss: 0.4697 - accuracy: 0.7854 - recall: 0.7895 - precision: 0.9413 - val_loss: 0.5513 - val_accuracy: 0.7468 - val_recall: 0.7245 - val_precision: 0.9595\n",
            "Epoch 16/100\n",
            "23/23 [==============================] - 183s 8s/step - loss: 0.5086 - accuracy: 0.7153 - recall: 0.6944 - precision: 0.9468 - val_loss: 0.5231 - val_accuracy: 0.7975 - val_recall: 0.7755 - val_precision: 0.9744\n",
            "Epoch 17/100\n",
            "23/23 [==============================] - 181s 8s/step - loss: 0.4730 - accuracy: 0.7574 - recall: 0.7572 - precision: 0.9370 - val_loss: 0.5165 - val_accuracy: 0.7848 - val_recall: 0.7602 - val_precision: 0.9739\n",
            "Epoch 18/100\n",
            "23/23 [==============================] - 187s 8s/step - loss: 0.4586 - accuracy: 0.7980 - recall: 0.7929 - precision: 0.9550 - val_loss: 0.4515 - val_accuracy: 0.8143 - val_recall: 0.8010 - val_precision: 0.9691\n",
            "8/8 [==============================] - 46s 5s/step\n"
          ]
        },
        {
          "output_type": "stream",
          "name": "stderr",
          "text": [
            "\u001b[32m[I 2023-05-16 23:18:30,866]\u001b[0m Trial 4 finished with value: 0.7684981684981685 and parameters: {'hidden_layers': 2, 'first_neuron': 512, 'drop_out': 0.3, 'optimizer': 'AdamW', 'lr': 0.0001709030011437925}. Best is trial 3 with value: 0.7817874008732069.\u001b[0m\n"
          ]
        },
        {
          "output_type": "stream",
          "name": "stdout",
          "text": [
            "0.7684981684981685\n",
            "Found 713 images belonging to 2 classes.\n",
            "Found 237 images belonging to 2 classes.\n",
            "Found 950 images belonging to 2 classes.\n",
            "Found 240 images belonging to 2 classes.\n",
            "Epoch 1/100\n",
            "23/23 [==============================] - 207s 9s/step - loss: 0.8231 - accuracy: 0.6297 - recall: 0.6774 - precision: 0.8436 - val_loss: 0.6026 - val_accuracy: 0.6751 - val_recall: 0.7245 - val_precision: 0.8606\n",
            "Epoch 2/100\n",
            "23/23 [==============================] - 185s 8s/step - loss: 0.8019 - accuracy: 0.5947 - recall: 0.6163 - precision: 0.8521 - val_loss: 0.6548 - val_accuracy: 0.5949 - val_recall: 0.5765 - val_precision: 0.8968\n",
            "Epoch 3/100\n",
            "23/23 [==============================] - 183s 8s/step - loss: 0.7318 - accuracy: 0.5540 - recall: 0.5603 - precision: 0.8483 - val_loss: 0.5328 - val_accuracy: 0.7722 - val_recall: 0.8316 - val_precision: 0.8859\n",
            "Epoch 4/100\n",
            "23/23 [==============================] - 187s 8s/step - loss: 0.7028 - accuracy: 0.6283 - recall: 0.6570 - precision: 0.8600 - val_loss: 0.5496 - val_accuracy: 0.7553 - val_recall: 0.7959 - val_precision: 0.8966\n",
            "Epoch 5/100\n",
            "23/23 [==============================] - 186s 8s/step - loss: 0.6862 - accuracy: 0.6227 - recall: 0.6248 - precision: 0.8846 - val_loss: 0.5280 - val_accuracy: 0.7679 - val_recall: 0.8010 - val_precision: 0.9075\n",
            "Epoch 6/100\n",
            "23/23 [==============================] - 189s 8s/step - loss: 0.6644 - accuracy: 0.6339 - recall: 0.6435 - precision: 0.8814 - val_loss: 0.5316 - val_accuracy: 0.7595 - val_recall: 0.7755 - val_precision: 0.9212\n",
            "Epoch 7/100\n",
            "23/23 [==============================] - 186s 8s/step - loss: 0.6731 - accuracy: 0.6199 - recall: 0.6350 - precision: 0.8698 - val_loss: 0.5197 - val_accuracy: 0.7553 - val_recall: 0.7704 - val_precision: 0.9207\n",
            "Epoch 8/100\n",
            "23/23 [==============================] - 187s 8s/step - loss: 0.6433 - accuracy: 0.6536 - recall: 0.6672 - precision: 0.8851 - val_loss: 0.5228 - val_accuracy: 0.7511 - val_recall: 0.7551 - val_precision: 0.9308\n",
            "Epoch 9/100\n",
            "23/23 [==============================] - 184s 8s/step - loss: 0.6353 - accuracy: 0.6452 - recall: 0.6452 - precision: 0.8962 - val_loss: 0.5018 - val_accuracy: 0.7722 - val_recall: 0.7755 - val_precision: 0.9383\n",
            "Epoch 10/100\n",
            "23/23 [==============================] - 183s 8s/step - loss: 0.6553 - accuracy: 0.6311 - recall: 0.6333 - precision: 0.8881 - val_loss: 0.4765 - val_accuracy: 0.7890 - val_recall: 0.8061 - val_precision: 0.9294\n",
            "Epoch 11/100\n",
            "23/23 [==============================] - 189s 8s/step - loss: 0.6138 - accuracy: 0.6774 - recall: 0.6944 - precision: 0.8911 - val_loss: 0.4489 - val_accuracy: 0.8228 - val_recall: 0.8418 - val_precision: 0.9375\n",
            "Epoch 12/100\n",
            "23/23 [==============================] - 186s 8s/step - loss: 0.6028 - accuracy: 0.6788 - recall: 0.6859 - precision: 0.9018 - val_loss: 0.4187 - val_accuracy: 0.8354 - val_recall: 0.8724 - val_precision: 0.9243\n",
            "Epoch 13/100\n",
            "23/23 [==============================] - 187s 8s/step - loss: 0.6051 - accuracy: 0.7069 - recall: 0.7216 - precision: 0.9043 - val_loss: 0.4335 - val_accuracy: 0.8186 - val_recall: 0.8418 - val_precision: 0.9322\n",
            "Epoch 14/100\n",
            "23/23 [==============================] - 186s 8s/step - loss: 0.5902 - accuracy: 0.6830 - recall: 0.6859 - precision: 0.9079 - val_loss: 0.4256 - val_accuracy: 0.8312 - val_recall: 0.8571 - val_precision: 0.9333\n",
            "Epoch 15/100\n",
            "23/23 [==============================] - 188s 8s/step - loss: 0.6085 - accuracy: 0.6928 - recall: 0.7046 - precision: 0.9022 - val_loss: 0.4554 - val_accuracy: 0.7890 - val_recall: 0.7959 - val_precision: 0.9398\n",
            "Epoch 16/100\n",
            "23/23 [==============================] - 186s 8s/step - loss: 0.6222 - accuracy: 0.6774 - recall: 0.6944 - precision: 0.8911 - val_loss: 0.4313 - val_accuracy: 0.8186 - val_recall: 0.8316 - val_precision: 0.9422\n",
            "Epoch 17/100\n",
            "23/23 [==============================] - 191s 8s/step - loss: 0.6043 - accuracy: 0.6999 - recall: 0.7046 - precision: 0.9121 - val_loss: 0.4259 - val_accuracy: 0.8270 - val_recall: 0.8469 - val_precision: 0.9379\n",
            "8/8 [==============================] - 46s 5s/step\n"
          ]
        },
        {
          "output_type": "stream",
          "name": "stderr",
          "text": [
            "\u001b[32m[I 2023-05-17 00:12:41,318]\u001b[0m Trial 5 finished with value: 0.7391414782829566 and parameters: {'hidden_layers': 2, 'first_neuron': 256, 'drop_out': 0.3, 'optimizer': 'RMSprop', 'lr': 1.3947922815025808e-05}. Best is trial 3 with value: 0.7817874008732069.\u001b[0m\n"
          ]
        },
        {
          "output_type": "stream",
          "name": "stdout",
          "text": [
            "0.7391414782829566\n",
            "Found 713 images belonging to 2 classes.\n",
            "Found 237 images belonging to 2 classes.\n",
            "Found 950 images belonging to 2 classes.\n",
            "Found 240 images belonging to 2 classes.\n",
            "Epoch 1/100\n",
            "23/23 [==============================] - 203s 8s/step - loss: 0.6864 - accuracy: 0.6129 - recall: 0.6299 - precision: 0.8648 - val_loss: 0.6837 - val_accuracy: 0.5485 - val_recall: 0.5000 - val_precision: 0.9159\n",
            "Epoch 2/100\n",
            "23/23 [==============================] - 185s 8s/step - loss: 0.6509 - accuracy: 0.6031 - recall: 0.5976 - precision: 0.8844 - val_loss: 0.5686 - val_accuracy: 0.7004 - val_recall: 0.7143 - val_precision: 0.9032\n",
            "Epoch 3/100\n",
            "23/23 [==============================] - 183s 8s/step - loss: 0.6204 - accuracy: 0.6059 - recall: 0.5908 - precision: 0.8969 - val_loss: 0.4186 - val_accuracy: 0.8439 - val_recall: 0.9490 - val_precision: 0.8732\n",
            "Epoch 4/100\n",
            "23/23 [==============================] - 186s 8s/step - loss: 0.6024 - accuracy: 0.6830 - recall: 0.6774 - precision: 0.9172 - val_loss: 0.4395 - val_accuracy: 0.8143 - val_recall: 0.8878 - val_precision: 0.8878\n",
            "Epoch 5/100\n",
            "23/23 [==============================] - 185s 8s/step - loss: 0.5821 - accuracy: 0.7041 - recall: 0.7063 - precision: 0.9163 - val_loss: 0.4917 - val_accuracy: 0.7890 - val_recall: 0.8061 - val_precision: 0.9294\n",
            "Epoch 6/100\n",
            "23/23 [==============================] - 188s 8s/step - loss: 0.5826 - accuracy: 0.6886 - recall: 0.6825 - precision: 0.9199 - val_loss: 0.4773 - val_accuracy: 0.8017 - val_recall: 0.8214 - val_precision: 0.9306\n",
            "Epoch 7/100\n",
            "23/23 [==============================] - 188s 8s/step - loss: 0.5462 - accuracy: 0.7363 - recall: 0.7334 - precision: 0.9330 - val_loss: 0.4623 - val_accuracy: 0.7975 - val_recall: 0.8112 - val_precision: 0.9353\n",
            "Epoch 8/100\n",
            "23/23 [==============================] - 186s 8s/step - loss: 0.5143 - accuracy: 0.7405 - recall: 0.7402 - precision: 0.9316 - val_loss: 0.4208 - val_accuracy: 0.8270 - val_recall: 0.8469 - val_precision: 0.9379\n",
            "8/8 [==============================] - 45s 5s/step\n"
          ]
        },
        {
          "output_type": "stream",
          "name": "stderr",
          "text": [
            "\u001b[32m[I 2023-05-17 00:38:45,159]\u001b[0m Trial 6 finished with value: 0.6701523415459846 and parameters: {'hidden_layers': 2, 'first_neuron': 256, 'drop_out': 0, 'optimizer': 'AdamW', 'lr': 1.5300651962001827e-05}. Best is trial 3 with value: 0.7817874008732069.\u001b[0m\n"
          ]
        },
        {
          "output_type": "stream",
          "name": "stdout",
          "text": [
            "0.6701523415459846\n",
            "Found 713 images belonging to 2 classes.\n",
            "Found 237 images belonging to 2 classes.\n",
            "Found 950 images belonging to 2 classes.\n",
            "Found 240 images belonging to 2 classes.\n",
            "Epoch 1/100\n",
            "23/23 [==============================] - 211s 9s/step - loss: 1.0398 - accuracy: 0.5414 - recall: 0.5620 - precision: 0.8275 - val_loss: 0.9182 - val_accuracy: 0.4557 - val_recall: 0.3622 - val_precision: 0.9467\n",
            "Epoch 2/100\n",
            "23/23 [==============================] - 187s 8s/step - loss: 0.8503 - accuracy: 0.5442 - recall: 0.5314 - precision: 0.8646 - val_loss: 0.8270 - val_accuracy: 0.5148 - val_recall: 0.4388 - val_precision: 0.9451\n",
            "Epoch 3/100\n",
            "23/23 [==============================] - 187s 8s/step - loss: 0.7160 - accuracy: 0.6101 - recall: 0.5908 - precision: 0.9039 - val_loss: 0.4906 - val_accuracy: 0.7553 - val_recall: 0.7908 - val_precision: 0.9012\n",
            "Epoch 4/100\n",
            "23/23 [==============================] - 189s 8s/step - loss: 0.6747 - accuracy: 0.6662 - recall: 0.6825 - precision: 0.8874 - val_loss: 0.5925 - val_accuracy: 0.6920 - val_recall: 0.6684 - val_precision: 0.9424\n",
            "Epoch 5/100\n",
            "23/23 [==============================] - 185s 8s/step - loss: 0.6224 - accuracy: 0.6536 - recall: 0.6486 - precision: 0.9052 - val_loss: 0.4876 - val_accuracy: 0.7595 - val_recall: 0.7602 - val_precision: 0.9371\n",
            "Epoch 6/100\n",
            "23/23 [==============================] - 189s 8s/step - loss: 0.5964 - accuracy: 0.6928 - recall: 0.6927 - precision: 0.9148 - val_loss: 0.3993 - val_accuracy: 0.8101 - val_recall: 0.8469 - val_precision: 0.9171\n",
            "Epoch 7/100\n",
            "23/23 [==============================] - 186s 8s/step - loss: 0.5620 - accuracy: 0.6942 - recall: 0.6927 - precision: 0.9169 - val_loss: 0.3921 - val_accuracy: 0.8270 - val_recall: 0.8622 - val_precision: 0.9235\n",
            "Epoch 8/100\n",
            "23/23 [==============================] - 188s 8s/step - loss: 0.5612 - accuracy: 0.7083 - recall: 0.7063 - precision: 0.9224 - val_loss: 0.3424 - val_accuracy: 0.8481 - val_recall: 0.9235 - val_precision: 0.8960\n",
            "Epoch 9/100\n",
            "23/23 [==============================] - 187s 8s/step - loss: 0.5292 - accuracy: 0.7363 - recall: 0.7368 - precision: 0.9293 - val_loss: 0.4096 - val_accuracy: 0.8354 - val_recall: 0.8469 - val_precision: 0.9486\n",
            "Epoch 10/100\n",
            "23/23 [==============================] - 186s 8s/step - loss: 0.5411 - accuracy: 0.7461 - recall: 0.7589 - precision: 0.9198 - val_loss: 0.3687 - val_accuracy: 0.8608 - val_recall: 0.8929 - val_precision: 0.9358\n",
            "Epoch 11/100\n",
            "23/23 [==============================] - 189s 8s/step - loss: 0.5303 - accuracy: 0.7433 - recall: 0.7402 - precision: 0.9356 - val_loss: 0.4535 - val_accuracy: 0.7932 - val_recall: 0.7908 - val_precision: 0.9509\n",
            "Epoch 12/100\n",
            "23/23 [==============================] - 185s 8s/step - loss: 0.5343 - accuracy: 0.7013 - recall: 0.6893 - precision: 0.9312 - val_loss: 0.4099 - val_accuracy: 0.8017 - val_recall: 0.8163 - val_precision: 0.9357\n",
            "Epoch 13/100\n",
            "23/23 [==============================] - 186s 8s/step - loss: 0.4888 - accuracy: 0.7714 - recall: 0.7776 - precision: 0.9347 - val_loss: 0.4258 - val_accuracy: 0.7975 - val_recall: 0.8010 - val_precision: 0.9458\n",
            "8/8 [==============================] - 47s 6s/step\n"
          ]
        },
        {
          "output_type": "stream",
          "name": "stderr",
          "text": [
            "\u001b[32m[I 2023-05-17 01:20:43,625]\u001b[0m Trial 7 finished with value: 0.7179317640835758 and parameters: {'hidden_layers': 1, 'first_neuron': 256, 'drop_out': 0.5, 'optimizer': 'AdamW', 'lr': 3.505849394692989e-05}. Best is trial 3 with value: 0.7817874008732069.\u001b[0m\n"
          ]
        },
        {
          "output_type": "stream",
          "name": "stdout",
          "text": [
            "0.7179317640835758\n",
            "Found 713 images belonging to 2 classes.\n",
            "Found 237 images belonging to 2 classes.\n",
            "Found 950 images belonging to 2 classes.\n",
            "Found 240 images belonging to 2 classes.\n",
            "Epoch 1/100\n",
            "23/23 [==============================] - 206s 9s/step - loss: 8.2156 - accuracy: 0.5147 - recall: 0.5127 - precision: 0.8366 - val_loss: 0.6746 - val_accuracy: 0.7806 - val_recall: 0.8265 - val_precision: 0.9000\n",
            "Epoch 2/100\n",
            "23/23 [==============================] - 184s 8s/step - loss: 0.9188 - accuracy: 0.5386 - recall: 0.5331 - precision: 0.8533 - val_loss: 0.5849 - val_accuracy: 0.5485 - val_recall: 0.4847 - val_precision: 0.9406\n",
            "Epoch 3/100\n",
            "23/23 [==============================] - 185s 8s/step - loss: 0.7324 - accuracy: 0.2384 - recall: 0.1002 - precision: 0.8194 - val_loss: 0.7283 - val_accuracy: 0.2700 - val_recall: 0.1327 - val_precision: 0.8966\n",
            "Epoch 4/100\n",
            "23/23 [==============================] - 187s 8s/step - loss: 0.6572 - accuracy: 0.2875 - recall: 0.1579 - precision: 0.8857 - val_loss: 0.4767 - val_accuracy: 0.8312 - val_recall: 1.0000 - val_precision: 0.8305\n",
            "Epoch 5/100\n",
            "23/23 [==============================] - 194s 9s/step - loss: 0.7130 - accuracy: 0.5456 - recall: 0.5263 - precision: 0.8732 - val_loss: 0.4445 - val_accuracy: 0.8312 - val_recall: 0.8929 - val_precision: 0.9021\n",
            "Epoch 6/100\n",
            "23/23 [==============================] - 188s 8s/step - loss: 0.6540 - accuracy: 0.7307 - recall: 0.8048 - precision: 0.8603 - val_loss: 0.6727 - val_accuracy: 0.7806 - val_recall: 0.8316 - val_precision: 0.8956\n",
            "Epoch 7/100\n",
            "23/23 [==============================] - 188s 8s/step - loss: 0.6704 - accuracy: 0.7181 - recall: 0.7895 - precision: 0.8579 - val_loss: 0.6655 - val_accuracy: 0.8270 - val_recall: 0.9847 - val_precision: 0.8355\n",
            "Epoch 8/100\n",
            "23/23 [==============================] - 188s 8s/step - loss: 0.6676 - accuracy: 0.7574 - recall: 0.8523 - precision: 0.8537 - val_loss: 0.5729 - val_accuracy: 0.8354 - val_recall: 0.9643 - val_precision: 0.8552\n",
            "Epoch 9/100\n",
            "23/23 [==============================] - 188s 8s/step - loss: 0.6436 - accuracy: 0.7475 - recall: 0.8149 - precision: 0.8711 - val_loss: 0.4580 - val_accuracy: 0.8186 - val_recall: 0.8418 - val_precision: 0.9322\n",
            "Epoch 10/100\n",
            "23/23 [==============================] - 189s 8s/step - loss: 0.6089 - accuracy: 0.7742 - recall: 0.8455 - precision: 0.8768 - val_loss: 0.4661 - val_accuracy: 0.7975 - val_recall: 0.8214 - val_precision: 0.9253\n",
            "8/8 [==============================] - 46s 5s/step\n"
          ]
        },
        {
          "output_type": "stream",
          "name": "stderr",
          "text": [
            "\u001b[32m[I 2023-05-17 01:53:22,021]\u001b[0m Trial 8 finished with value: 0.7106227106227107 and parameters: {'hidden_layers': 1, 'first_neuron': 128, 'drop_out': 0.5, 'optimizer': 'Adam', 'lr': 0.0036885776369435254}. Best is trial 3 with value: 0.7817874008732069.\u001b[0m\n"
          ]
        },
        {
          "output_type": "stream",
          "name": "stdout",
          "text": [
            "0.7106227106227107\n",
            "Found 713 images belonging to 2 classes.\n",
            "Found 237 images belonging to 2 classes.\n",
            "Found 950 images belonging to 2 classes.\n",
            "Found 240 images belonging to 2 classes.\n",
            "Epoch 1/100\n",
            "23/23 [==============================] - 206s 9s/step - loss: 1.9154 - accuracy: 0.4979 - recall: 0.4873 - precision: 0.8367 - val_loss: 0.3641 - val_accuracy: 0.8312 - val_recall: 0.9745 - val_precision: 0.8451\n",
            "Epoch 2/100\n",
            "23/23 [==============================] - 189s 8s/step - loss: 0.6264 - accuracy: 0.6466 - recall: 0.6469 - precision: 0.8965 - val_loss: 0.4297 - val_accuracy: 0.8101 - val_recall: 0.8163 - val_precision: 0.9467\n",
            "Epoch 3/100\n",
            "23/23 [==============================] - 184s 8s/step - loss: 0.6292 - accuracy: 0.6788 - recall: 0.6740 - precision: 0.9147 - val_loss: 0.7146 - val_accuracy: 0.6245 - val_recall: 0.5612 - val_precision: 0.9735\n",
            "Epoch 4/100\n",
            "23/23 [==============================] - 186s 8s/step - loss: 0.5276 - accuracy: 0.7560 - recall: 0.7555 - precision: 0.9368 - val_loss: 0.3359 - val_accuracy: 0.8397 - val_recall: 0.8724 - val_precision: 0.9293\n",
            "Epoch 5/100\n",
            "23/23 [==============================] - 185s 8s/step - loss: 0.4535 - accuracy: 0.7700 - recall: 0.7691 - precision: 0.9418 - val_loss: 0.2794 - val_accuracy: 0.8861 - val_recall: 0.9541 - val_precision: 0.9122\n",
            "Epoch 6/100\n",
            "23/23 [==============================] - 190s 8s/step - loss: 0.5222 - accuracy: 0.7195 - recall: 0.7131 - precision: 0.9313 - val_loss: 0.2895 - val_accuracy: 0.8861 - val_recall: 0.9847 - val_precision: 0.8894\n",
            "Epoch 7/100\n",
            "23/23 [==============================] - 184s 8s/step - loss: 0.5093 - accuracy: 0.7574 - recall: 0.7606 - precision: 0.9333 - val_loss: 0.3513 - val_accuracy: 0.8481 - val_recall: 0.8724 - val_precision: 0.9396\n",
            "Epoch 8/100\n",
            "23/23 [==============================] - 187s 8s/step - loss: 0.4421 - accuracy: 0.7938 - recall: 0.7929 - precision: 0.9492 - val_loss: 0.2904 - val_accuracy: 0.8776 - val_recall: 0.8929 - val_precision: 0.9563\n",
            "Epoch 9/100\n",
            "23/23 [==============================] - 184s 8s/step - loss: 0.3884 - accuracy: 0.8163 - recall: 0.8065 - precision: 0.9654 - val_loss: 0.3710 - val_accuracy: 0.8608 - val_recall: 0.8622 - val_precision: 0.9657\n",
            "Epoch 10/100\n",
            "23/23 [==============================] - 190s 8s/step - loss: 0.4380 - accuracy: 0.7896 - recall: 0.7810 - precision: 0.9563 - val_loss: 0.3925 - val_accuracy: 0.8186 - val_recall: 0.8214 - val_precision: 0.9527\n",
            "8/8 [==============================] - 46s 5s/step\n"
          ]
        },
        {
          "output_type": "stream",
          "name": "stderr",
          "text": [
            "\u001b[32m[I 2023-05-17 02:25:47,934]\u001b[0m Trial 9 finished with value: 0.7814026577392137 and parameters: {'hidden_layers': 2, 'first_neuron': 512, 'drop_out': 0, 'optimizer': 'AdamW', 'lr': 0.0007979883477950347}. Best is trial 3 with value: 0.7817874008732069.\u001b[0m\n"
          ]
        },
        {
          "output_type": "stream",
          "name": "stdout",
          "text": [
            "0.7814026577392137\n",
            "Number of finished trials: 10\n",
            "Best trial:\n",
            "  Value: 0.7817874008732069\n",
            "  Params: \n",
            "    hidden_layers: 2\n",
            "    first_neuron: 512\n",
            "    drop_out: 0.3\n",
            "    optimizer: Adam\n",
            "    lr: 3.7011574807773375e-05\n"
          ]
        }
      ],
      "source": [
        "def hp_fruits_ConvNeXtTiny(trail):\n",
        "\n",
        "  clear_session()\n",
        "\n",
        "  # preprocess data\n",
        "  train, val, train_val, test = train_val_test_generators(train_dir, val_dir, train_val_dir, test_dir)\n",
        "\n",
        "  class_weights = compute_class_weight(class_weight = 'balanced', classes = np.unique(train.classes), y = train.classes)\n",
        "  class_weights = {i : class_weights[i] for i in range(2)}\n",
        "\n",
        "  # build model\n",
        "  from tensorflow.keras.applications import ConvNeXtTiny\n",
        "  from tensorflow.keras import layers\n",
        "\n",
        "  ConvNeXtTiny_model = ConvNeXtTiny(input_shape = (224, 224, 3), \n",
        "                                  include_top = False, \n",
        "                                  weights = 'imagenet',\n",
        "                                  include_preprocessing = False)\n",
        "\n",
        "  for layer in ConvNeXtTiny_model.layers:\n",
        "    layer.trainable = False\n",
        "\n",
        "  last_output = ConvNeXtTiny_model.output\n",
        "  x = layers.Flatten()(last_output)\n",
        "  \n",
        "  hidden_layers = trail.suggest_int('hidden_layers', 1, 2)\n",
        "\n",
        "  for i in range(hidden_layers):\n",
        "    first_neuron = trail.suggest_categorical('first_neuron', [128, 256, 512])\n",
        "    x = layers.Dense(first_neuron, activation='relu')(x)\n",
        "    drop_out = trail.suggest_categorical('drop_out', [0, 0.3, 0.5])\n",
        "    x = layers.Dropout(drop_out)(x)                  \n",
        "  \n",
        "  x = layers.Dense(1, activation='sigmoid')(x)           \n",
        "\n",
        "  model = Model(ConvNeXtTiny_model.input, x)\n",
        "\n",
        "  # compile/train model\n",
        "  optimizer_name = trail.suggest_categorical('optimizer', ['Adam', 'RMSprop', 'AdamW'])\n",
        "  learning_rate = trail.suggest_float('lr', 1e-5, 1e-2, log=True)\n",
        "\n",
        "  if optimizer_name == 'Adam':\n",
        "      optimizer = Adam(learning_rate=learning_rate)\n",
        "  elif optimizer_name == 'RMSprop':\n",
        "      optimizer = RMSprop(learning_rate=learning_rate)\n",
        "  elif optimizer_name == 'AdamW':\n",
        "      optimizer = AdamW(learning_rate=learning_rate)\n",
        "\n",
        "  model.compile(optimizer=optimizer,\n",
        "                loss = 'binary_crossentropy', \n",
        "                metrics = ['accuracy', Recall(), Precision()])\n",
        "  \n",
        "  early_stop = EarlyStopping(monitor='val_loss', patience=5, restore_best_weights=True)\n",
        "  \n",
        "  model.fit(train, validation_data=val, class_weight=class_weights, epochs = 100, callbacks=[early_stop])\n",
        "  \n",
        "  # Evaluate macro f1 score\n",
        "  y_pred_val = model.predict(val)\n",
        "  y_pred_val = np.round(y_pred_val)\n",
        "\n",
        "  f1score_macro = f1_score(val.labels, y_pred_val, average = 'macro')\n",
        "  print(f1score_macro)\n",
        "  \n",
        "  return f1score_macro\n",
        "\n",
        "if __name__ == \"__main__\":\n",
        "    warnings.warn(\n",
        "        \"Recent Keras release (2.4.0) simply redirects all APIs \"\n",
        "        \"in the standalone keras package to point to tf.keras. \"\n",
        "        \"There is now only one Keras: tf.keras. \"\n",
        "        \"There may be some breaking changes for some workflows by upgrading to keras 2.4.0. \"\n",
        "        \"Test before upgrading. \"\n",
        "        \"REF:https://github.com/keras-team/keras/releases/tag/2.4.0\"\n",
        "    )\n",
        "    study = optuna.create_study(direction=\"maximize\")\n",
        "    study.optimize(hp_fruits_ConvNeXtTiny, n_trials=10)\n",
        "\n",
        "    print(\"Number of finished trials: {}\".format(len(study.trials)))\n",
        "\n",
        "    print(\"Best trial:\")\n",
        "    trial = study.best_trial\n",
        "\n",
        "    print(\"  Value: {}\".format(trial.value))\n",
        "\n",
        "    print(\"  Params: \")\n",
        "    for key, value in trial.params.items():\n",
        "        print(\"    {}: {}\".format(key, value))"
      ]
    },
    {
      "cell_type": "code",
      "execution_count": null,
      "metadata": {
        "colab": {
          "base_uri": "https://localhost:8080/",
          "height": 600
        },
        "id": "TZ_g0d-2GtTe",
        "outputId": "d50c431f-72c4-442e-ec2f-be39fdb96c62"
      },
      "outputs": [
        {
          "output_type": "execute_result",
          "data": {
            "text/plain": [
              "   number     value             datetime_start          datetime_complete  \\\n",
              "0       0  0.752519 2023-05-16 19:50:00.752501 2023-05-16 20:29:54.077707   \n",
              "1       1  0.624725 2023-05-16 20:29:54.079459 2023-05-16 20:56:05.847063   \n",
              "2       2  0.778808 2023-05-16 20:56:05.848668 2023-05-16 21:38:00.855264   \n",
              "3       3  0.781787 2023-05-16 21:38:00.856773 2023-05-16 22:22:21.223323   \n",
              "4       4  0.768498 2023-05-16 22:22:21.224713 2023-05-16 23:18:30.865823   \n",
              "5       5  0.739141 2023-05-16 23:18:30.867635 2023-05-17 00:12:41.317888   \n",
              "6       6  0.670152 2023-05-17 00:12:41.319655 2023-05-17 00:38:45.159456   \n",
              "7       7  0.717932 2023-05-17 00:38:45.160944 2023-05-17 01:20:43.624823   \n",
              "8       8  0.710623 2023-05-17 01:20:43.626325 2023-05-17 01:53:22.021175   \n",
              "9       9  0.781403 2023-05-17 01:53:22.022675 2023-05-17 02:25:47.934186   \n",
              "\n",
              "                duration  params_drop_out  params_first_neuron  \\\n",
              "0 0 days 00:39:53.325206              0.3                  512   \n",
              "1 0 days 00:26:11.767604              0.3                  512   \n",
              "2 0 days 00:41:55.006596              0.0                  128   \n",
              "3 0 days 00:44:20.366550              0.3                  512   \n",
              "4 0 days 00:56:09.641110              0.3                  512   \n",
              "5 0 days 00:54:10.450253              0.3                  256   \n",
              "6 0 days 00:26:03.839801              0.0                  256   \n",
              "7 0 days 00:41:58.463879              0.5                  256   \n",
              "8 0 days 00:32:38.394850              0.5                  128   \n",
              "9 0 days 00:32:25.911511              0.0                  512   \n",
              "\n",
              "   params_hidden_layers  params_lr params_optimizer     state  \n",
              "0                     1   0.000855          RMSprop  COMPLETE  \n",
              "1                     2   0.000034          RMSprop  COMPLETE  \n",
              "2                     1   0.000244             Adam  COMPLETE  \n",
              "3                     2   0.000037             Adam  COMPLETE  \n",
              "4                     2   0.000171            AdamW  COMPLETE  \n",
              "5                     2   0.000014          RMSprop  COMPLETE  \n",
              "6                     2   0.000015            AdamW  COMPLETE  \n",
              "7                     1   0.000035            AdamW  COMPLETE  \n",
              "8                     1   0.003689             Adam  COMPLETE  \n",
              "9                     2   0.000798            AdamW  COMPLETE  "
            ],
            "text/html": [
              "\n",
              "  <div id=\"df-6882337c-665d-4fa4-b935-7467fc3e0c3c\">\n",
              "    <div class=\"colab-df-container\">\n",
              "      <div>\n",
              "<style scoped>\n",
              "    .dataframe tbody tr th:only-of-type {\n",
              "        vertical-align: middle;\n",
              "    }\n",
              "\n",
              "    .dataframe tbody tr th {\n",
              "        vertical-align: top;\n",
              "    }\n",
              "\n",
              "    .dataframe thead th {\n",
              "        text-align: right;\n",
              "    }\n",
              "</style>\n",
              "<table border=\"1\" class=\"dataframe\">\n",
              "  <thead>\n",
              "    <tr style=\"text-align: right;\">\n",
              "      <th></th>\n",
              "      <th>number</th>\n",
              "      <th>value</th>\n",
              "      <th>datetime_start</th>\n",
              "      <th>datetime_complete</th>\n",
              "      <th>duration</th>\n",
              "      <th>params_drop_out</th>\n",
              "      <th>params_first_neuron</th>\n",
              "      <th>params_hidden_layers</th>\n",
              "      <th>params_lr</th>\n",
              "      <th>params_optimizer</th>\n",
              "      <th>state</th>\n",
              "    </tr>\n",
              "  </thead>\n",
              "  <tbody>\n",
              "    <tr>\n",
              "      <th>0</th>\n",
              "      <td>0</td>\n",
              "      <td>0.752519</td>\n",
              "      <td>2023-05-16 19:50:00.752501</td>\n",
              "      <td>2023-05-16 20:29:54.077707</td>\n",
              "      <td>0 days 00:39:53.325206</td>\n",
              "      <td>0.3</td>\n",
              "      <td>512</td>\n",
              "      <td>1</td>\n",
              "      <td>0.000855</td>\n",
              "      <td>RMSprop</td>\n",
              "      <td>COMPLETE</td>\n",
              "    </tr>\n",
              "    <tr>\n",
              "      <th>1</th>\n",
              "      <td>1</td>\n",
              "      <td>0.624725</td>\n",
              "      <td>2023-05-16 20:29:54.079459</td>\n",
              "      <td>2023-05-16 20:56:05.847063</td>\n",
              "      <td>0 days 00:26:11.767604</td>\n",
              "      <td>0.3</td>\n",
              "      <td>512</td>\n",
              "      <td>2</td>\n",
              "      <td>0.000034</td>\n",
              "      <td>RMSprop</td>\n",
              "      <td>COMPLETE</td>\n",
              "    </tr>\n",
              "    <tr>\n",
              "      <th>2</th>\n",
              "      <td>2</td>\n",
              "      <td>0.778808</td>\n",
              "      <td>2023-05-16 20:56:05.848668</td>\n",
              "      <td>2023-05-16 21:38:00.855264</td>\n",
              "      <td>0 days 00:41:55.006596</td>\n",
              "      <td>0.0</td>\n",
              "      <td>128</td>\n",
              "      <td>1</td>\n",
              "      <td>0.000244</td>\n",
              "      <td>Adam</td>\n",
              "      <td>COMPLETE</td>\n",
              "    </tr>\n",
              "    <tr>\n",
              "      <th>3</th>\n",
              "      <td>3</td>\n",
              "      <td>0.781787</td>\n",
              "      <td>2023-05-16 21:38:00.856773</td>\n",
              "      <td>2023-05-16 22:22:21.223323</td>\n",
              "      <td>0 days 00:44:20.366550</td>\n",
              "      <td>0.3</td>\n",
              "      <td>512</td>\n",
              "      <td>2</td>\n",
              "      <td>0.000037</td>\n",
              "      <td>Adam</td>\n",
              "      <td>COMPLETE</td>\n",
              "    </tr>\n",
              "    <tr>\n",
              "      <th>4</th>\n",
              "      <td>4</td>\n",
              "      <td>0.768498</td>\n",
              "      <td>2023-05-16 22:22:21.224713</td>\n",
              "      <td>2023-05-16 23:18:30.865823</td>\n",
              "      <td>0 days 00:56:09.641110</td>\n",
              "      <td>0.3</td>\n",
              "      <td>512</td>\n",
              "      <td>2</td>\n",
              "      <td>0.000171</td>\n",
              "      <td>AdamW</td>\n",
              "      <td>COMPLETE</td>\n",
              "    </tr>\n",
              "    <tr>\n",
              "      <th>5</th>\n",
              "      <td>5</td>\n",
              "      <td>0.739141</td>\n",
              "      <td>2023-05-16 23:18:30.867635</td>\n",
              "      <td>2023-05-17 00:12:41.317888</td>\n",
              "      <td>0 days 00:54:10.450253</td>\n",
              "      <td>0.3</td>\n",
              "      <td>256</td>\n",
              "      <td>2</td>\n",
              "      <td>0.000014</td>\n",
              "      <td>RMSprop</td>\n",
              "      <td>COMPLETE</td>\n",
              "    </tr>\n",
              "    <tr>\n",
              "      <th>6</th>\n",
              "      <td>6</td>\n",
              "      <td>0.670152</td>\n",
              "      <td>2023-05-17 00:12:41.319655</td>\n",
              "      <td>2023-05-17 00:38:45.159456</td>\n",
              "      <td>0 days 00:26:03.839801</td>\n",
              "      <td>0.0</td>\n",
              "      <td>256</td>\n",
              "      <td>2</td>\n",
              "      <td>0.000015</td>\n",
              "      <td>AdamW</td>\n",
              "      <td>COMPLETE</td>\n",
              "    </tr>\n",
              "    <tr>\n",
              "      <th>7</th>\n",
              "      <td>7</td>\n",
              "      <td>0.717932</td>\n",
              "      <td>2023-05-17 00:38:45.160944</td>\n",
              "      <td>2023-05-17 01:20:43.624823</td>\n",
              "      <td>0 days 00:41:58.463879</td>\n",
              "      <td>0.5</td>\n",
              "      <td>256</td>\n",
              "      <td>1</td>\n",
              "      <td>0.000035</td>\n",
              "      <td>AdamW</td>\n",
              "      <td>COMPLETE</td>\n",
              "    </tr>\n",
              "    <tr>\n",
              "      <th>8</th>\n",
              "      <td>8</td>\n",
              "      <td>0.710623</td>\n",
              "      <td>2023-05-17 01:20:43.626325</td>\n",
              "      <td>2023-05-17 01:53:22.021175</td>\n",
              "      <td>0 days 00:32:38.394850</td>\n",
              "      <td>0.5</td>\n",
              "      <td>128</td>\n",
              "      <td>1</td>\n",
              "      <td>0.003689</td>\n",
              "      <td>Adam</td>\n",
              "      <td>COMPLETE</td>\n",
              "    </tr>\n",
              "    <tr>\n",
              "      <th>9</th>\n",
              "      <td>9</td>\n",
              "      <td>0.781403</td>\n",
              "      <td>2023-05-17 01:53:22.022675</td>\n",
              "      <td>2023-05-17 02:25:47.934186</td>\n",
              "      <td>0 days 00:32:25.911511</td>\n",
              "      <td>0.0</td>\n",
              "      <td>512</td>\n",
              "      <td>2</td>\n",
              "      <td>0.000798</td>\n",
              "      <td>AdamW</td>\n",
              "      <td>COMPLETE</td>\n",
              "    </tr>\n",
              "  </tbody>\n",
              "</table>\n",
              "</div>\n",
              "      <button class=\"colab-df-convert\" onclick=\"convertToInteractive('df-6882337c-665d-4fa4-b935-7467fc3e0c3c')\"\n",
              "              title=\"Convert this dataframe to an interactive table.\"\n",
              "              style=\"display:none;\">\n",
              "        \n",
              "  <svg xmlns=\"http://www.w3.org/2000/svg\" height=\"24px\"viewBox=\"0 0 24 24\"\n",
              "       width=\"24px\">\n",
              "    <path d=\"M0 0h24v24H0V0z\" fill=\"none\"/>\n",
              "    <path d=\"M18.56 5.44l.94 2.06.94-2.06 2.06-.94-2.06-.94-.94-2.06-.94 2.06-2.06.94zm-11 1L8.5 8.5l.94-2.06 2.06-.94-2.06-.94L8.5 2.5l-.94 2.06-2.06.94zm10 10l.94 2.06.94-2.06 2.06-.94-2.06-.94-.94-2.06-.94 2.06-2.06.94z\"/><path d=\"M17.41 7.96l-1.37-1.37c-.4-.4-.92-.59-1.43-.59-.52 0-1.04.2-1.43.59L10.3 9.45l-7.72 7.72c-.78.78-.78 2.05 0 2.83L4 21.41c.39.39.9.59 1.41.59.51 0 1.02-.2 1.41-.59l7.78-7.78 2.81-2.81c.8-.78.8-2.07 0-2.86zM5.41 20L4 18.59l7.72-7.72 1.47 1.35L5.41 20z\"/>\n",
              "  </svg>\n",
              "      </button>\n",
              "      \n",
              "  <style>\n",
              "    .colab-df-container {\n",
              "      display:flex;\n",
              "      flex-wrap:wrap;\n",
              "      gap: 12px;\n",
              "    }\n",
              "\n",
              "    .colab-df-convert {\n",
              "      background-color: #E8F0FE;\n",
              "      border: none;\n",
              "      border-radius: 50%;\n",
              "      cursor: pointer;\n",
              "      display: none;\n",
              "      fill: #1967D2;\n",
              "      height: 32px;\n",
              "      padding: 0 0 0 0;\n",
              "      width: 32px;\n",
              "    }\n",
              "\n",
              "    .colab-df-convert:hover {\n",
              "      background-color: #E2EBFA;\n",
              "      box-shadow: 0px 1px 2px rgba(60, 64, 67, 0.3), 0px 1px 3px 1px rgba(60, 64, 67, 0.15);\n",
              "      fill: #174EA6;\n",
              "    }\n",
              "\n",
              "    [theme=dark] .colab-df-convert {\n",
              "      background-color: #3B4455;\n",
              "      fill: #D2E3FC;\n",
              "    }\n",
              "\n",
              "    [theme=dark] .colab-df-convert:hover {\n",
              "      background-color: #434B5C;\n",
              "      box-shadow: 0px 1px 3px 1px rgba(0, 0, 0, 0.15);\n",
              "      filter: drop-shadow(0px 1px 2px rgba(0, 0, 0, 0.3));\n",
              "      fill: #FFFFFF;\n",
              "    }\n",
              "  </style>\n",
              "\n",
              "      <script>\n",
              "        const buttonEl =\n",
              "          document.querySelector('#df-6882337c-665d-4fa4-b935-7467fc3e0c3c button.colab-df-convert');\n",
              "        buttonEl.style.display =\n",
              "          google.colab.kernel.accessAllowed ? 'block' : 'none';\n",
              "\n",
              "        async function convertToInteractive(key) {\n",
              "          const element = document.querySelector('#df-6882337c-665d-4fa4-b935-7467fc3e0c3c');\n",
              "          const dataTable =\n",
              "            await google.colab.kernel.invokeFunction('convertToInteractive',\n",
              "                                                     [key], {});\n",
              "          if (!dataTable) return;\n",
              "\n",
              "          const docLinkHtml = 'Like what you see? Visit the ' +\n",
              "            '<a target=\"_blank\" href=https://colab.research.google.com/notebooks/data_table.ipynb>data table notebook</a>'\n",
              "            + ' to learn more about interactive tables.';\n",
              "          element.innerHTML = '';\n",
              "          dataTable['output_type'] = 'display_data';\n",
              "          await google.colab.output.renderOutput(dataTable, element);\n",
              "          const docLink = document.createElement('div');\n",
              "          docLink.innerHTML = docLinkHtml;\n",
              "          element.appendChild(docLink);\n",
              "        }\n",
              "      </script>\n",
              "    </div>\n",
              "  </div>\n",
              "  "
            ]
          },
          "metadata": {},
          "execution_count": 8
        }
      ],
      "source": [
        "trials_df = study.trials_dataframe()\n",
        "trials_df"
      ]
    },
    {
      "cell_type": "code",
      "execution_count": null,
      "metadata": {
        "colab": {
          "base_uri": "https://localhost:8080/",
          "height": 542
        },
        "id": "LjZA5cxNGtTe",
        "outputId": "bdb946ee-8f4d-470f-d7ff-1925e6076ea7"
      },
      "outputs": [
        {
          "output_type": "display_data",
          "data": {
            "text/html": [
              "<html>\n",
              "<head><meta charset=\"utf-8\" /></head>\n",
              "<body>\n",
              "    <div>            <script src=\"https://cdnjs.cloudflare.com/ajax/libs/mathjax/2.7.5/MathJax.js?config=TeX-AMS-MML_SVG\"></script><script type=\"text/javascript\">if (window.MathJax && window.MathJax.Hub && window.MathJax.Hub.Config) {window.MathJax.Hub.Config({SVG: {font: \"STIX-Web\"}});}</script>                <script type=\"text/javascript\">window.PlotlyConfig = {MathJaxConfig: 'local'};</script>\n",
              "        <script src=\"https://cdn.plot.ly/plotly-2.18.2.min.js\"></script>                <div id=\"22005c58-c87d-4612-86bc-1c7627c5fcc4\" class=\"plotly-graph-div\" style=\"height:525px; width:100%;\"></div>            <script type=\"text/javascript\">                                    window.PLOTLYENV=window.PLOTLYENV || {};                                    if (document.getElementById(\"22005c58-c87d-4612-86bc-1c7627c5fcc4\")) {                    Plotly.newPlot(                        \"22005c58-c87d-4612-86bc-1c7627c5fcc4\",                        [{\"cliponaxis\":false,\"hovertemplate\":[\"hidden_layers (IntDistribution): 0.002547002264250779<extra></extra>\",\"optimizer (CategoricalDistribution): 0.10763697522764266<extra></extra>\",\"first_neuron (CategoricalDistribution): 0.21706436119432168<extra></extra>\",\"lr (FloatDistribution): 0.2595855625274764<extra></extra>\",\"drop_out (CategoricalDistribution): 0.41316609878630844<extra></extra>\"],\"marker\":{\"color\":\"rgb(66,146,198)\"},\"orientation\":\"h\",\"text\":[\"<0.01\",\"0.11\",\"0.22\",\"0.26\",\"0.41\"],\"textposition\":\"outside\",\"x\":[0.002547002264250779,0.10763697522764266,0.21706436119432168,0.2595855625274764,0.41316609878630844],\"y\":[\"hidden_layers\",\"optimizer\",\"first_neuron\",\"lr\",\"drop_out\"],\"type\":\"bar\"}],                        {\"showlegend\":false,\"title\":{\"text\":\"Hyperparameter Importances\"},\"xaxis\":{\"title\":{\"text\":\"Importance for Objective Value\"}},\"yaxis\":{\"title\":{\"text\":\"Hyperparameter\"}},\"template\":{\"data\":{\"histogram2dcontour\":[{\"type\":\"histogram2dcontour\",\"colorbar\":{\"outlinewidth\":0,\"ticks\":\"\"},\"colorscale\":[[0.0,\"#0d0887\"],[0.1111111111111111,\"#46039f\"],[0.2222222222222222,\"#7201a8\"],[0.3333333333333333,\"#9c179e\"],[0.4444444444444444,\"#bd3786\"],[0.5555555555555556,\"#d8576b\"],[0.6666666666666666,\"#ed7953\"],[0.7777777777777778,\"#fb9f3a\"],[0.8888888888888888,\"#fdca26\"],[1.0,\"#f0f921\"]]}],\"choropleth\":[{\"type\":\"choropleth\",\"colorbar\":{\"outlinewidth\":0,\"ticks\":\"\"}}],\"histogram2d\":[{\"type\":\"histogram2d\",\"colorbar\":{\"outlinewidth\":0,\"ticks\":\"\"},\"colorscale\":[[0.0,\"#0d0887\"],[0.1111111111111111,\"#46039f\"],[0.2222222222222222,\"#7201a8\"],[0.3333333333333333,\"#9c179e\"],[0.4444444444444444,\"#bd3786\"],[0.5555555555555556,\"#d8576b\"],[0.6666666666666666,\"#ed7953\"],[0.7777777777777778,\"#fb9f3a\"],[0.8888888888888888,\"#fdca26\"],[1.0,\"#f0f921\"]]}],\"heatmap\":[{\"type\":\"heatmap\",\"colorbar\":{\"outlinewidth\":0,\"ticks\":\"\"},\"colorscale\":[[0.0,\"#0d0887\"],[0.1111111111111111,\"#46039f\"],[0.2222222222222222,\"#7201a8\"],[0.3333333333333333,\"#9c179e\"],[0.4444444444444444,\"#bd3786\"],[0.5555555555555556,\"#d8576b\"],[0.6666666666666666,\"#ed7953\"],[0.7777777777777778,\"#fb9f3a\"],[0.8888888888888888,\"#fdca26\"],[1.0,\"#f0f921\"]]}],\"heatmapgl\":[{\"type\":\"heatmapgl\",\"colorbar\":{\"outlinewidth\":0,\"ticks\":\"\"},\"colorscale\":[[0.0,\"#0d0887\"],[0.1111111111111111,\"#46039f\"],[0.2222222222222222,\"#7201a8\"],[0.3333333333333333,\"#9c179e\"],[0.4444444444444444,\"#bd3786\"],[0.5555555555555556,\"#d8576b\"],[0.6666666666666666,\"#ed7953\"],[0.7777777777777778,\"#fb9f3a\"],[0.8888888888888888,\"#fdca26\"],[1.0,\"#f0f921\"]]}],\"contourcarpet\":[{\"type\":\"contourcarpet\",\"colorbar\":{\"outlinewidth\":0,\"ticks\":\"\"}}],\"contour\":[{\"type\":\"contour\",\"colorbar\":{\"outlinewidth\":0,\"ticks\":\"\"},\"colorscale\":[[0.0,\"#0d0887\"],[0.1111111111111111,\"#46039f\"],[0.2222222222222222,\"#7201a8\"],[0.3333333333333333,\"#9c179e\"],[0.4444444444444444,\"#bd3786\"],[0.5555555555555556,\"#d8576b\"],[0.6666666666666666,\"#ed7953\"],[0.7777777777777778,\"#fb9f3a\"],[0.8888888888888888,\"#fdca26\"],[1.0,\"#f0f921\"]]}],\"surface\":[{\"type\":\"surface\",\"colorbar\":{\"outlinewidth\":0,\"ticks\":\"\"},\"colorscale\":[[0.0,\"#0d0887\"],[0.1111111111111111,\"#46039f\"],[0.2222222222222222,\"#7201a8\"],[0.3333333333333333,\"#9c179e\"],[0.4444444444444444,\"#bd3786\"],[0.5555555555555556,\"#d8576b\"],[0.6666666666666666,\"#ed7953\"],[0.7777777777777778,\"#fb9f3a\"],[0.8888888888888888,\"#fdca26\"],[1.0,\"#f0f921\"]]}],\"mesh3d\":[{\"type\":\"mesh3d\",\"colorbar\":{\"outlinewidth\":0,\"ticks\":\"\"}}],\"scatter\":[{\"fillpattern\":{\"fillmode\":\"overlay\",\"size\":10,\"solidity\":0.2},\"type\":\"scatter\"}],\"parcoords\":[{\"type\":\"parcoords\",\"line\":{\"colorbar\":{\"outlinewidth\":0,\"ticks\":\"\"}}}],\"scatterpolargl\":[{\"type\":\"scatterpolargl\",\"marker\":{\"colorbar\":{\"outlinewidth\":0,\"ticks\":\"\"}}}],\"bar\":[{\"error_x\":{\"color\":\"#2a3f5f\"},\"error_y\":{\"color\":\"#2a3f5f\"},\"marker\":{\"line\":{\"color\":\"#E5ECF6\",\"width\":0.5},\"pattern\":{\"fillmode\":\"overlay\",\"size\":10,\"solidity\":0.2}},\"type\":\"bar\"}],\"scattergeo\":[{\"type\":\"scattergeo\",\"marker\":{\"colorbar\":{\"outlinewidth\":0,\"ticks\":\"\"}}}],\"scatterpolar\":[{\"type\":\"scatterpolar\",\"marker\":{\"colorbar\":{\"outlinewidth\":0,\"ticks\":\"\"}}}],\"histogram\":[{\"marker\":{\"pattern\":{\"fillmode\":\"overlay\",\"size\":10,\"solidity\":0.2}},\"type\":\"histogram\"}],\"scattergl\":[{\"type\":\"scattergl\",\"marker\":{\"colorbar\":{\"outlinewidth\":0,\"ticks\":\"\"}}}],\"scatter3d\":[{\"type\":\"scatter3d\",\"line\":{\"colorbar\":{\"outlinewidth\":0,\"ticks\":\"\"}},\"marker\":{\"colorbar\":{\"outlinewidth\":0,\"ticks\":\"\"}}}],\"scattermapbox\":[{\"type\":\"scattermapbox\",\"marker\":{\"colorbar\":{\"outlinewidth\":0,\"ticks\":\"\"}}}],\"scatterternary\":[{\"type\":\"scatterternary\",\"marker\":{\"colorbar\":{\"outlinewidth\":0,\"ticks\":\"\"}}}],\"scattercarpet\":[{\"type\":\"scattercarpet\",\"marker\":{\"colorbar\":{\"outlinewidth\":0,\"ticks\":\"\"}}}],\"carpet\":[{\"aaxis\":{\"endlinecolor\":\"#2a3f5f\",\"gridcolor\":\"white\",\"linecolor\":\"white\",\"minorgridcolor\":\"white\",\"startlinecolor\":\"#2a3f5f\"},\"baxis\":{\"endlinecolor\":\"#2a3f5f\",\"gridcolor\":\"white\",\"linecolor\":\"white\",\"minorgridcolor\":\"white\",\"startlinecolor\":\"#2a3f5f\"},\"type\":\"carpet\"}],\"table\":[{\"cells\":{\"fill\":{\"color\":\"#EBF0F8\"},\"line\":{\"color\":\"white\"}},\"header\":{\"fill\":{\"color\":\"#C8D4E3\"},\"line\":{\"color\":\"white\"}},\"type\":\"table\"}],\"barpolar\":[{\"marker\":{\"line\":{\"color\":\"#E5ECF6\",\"width\":0.5},\"pattern\":{\"fillmode\":\"overlay\",\"size\":10,\"solidity\":0.2}},\"type\":\"barpolar\"}],\"pie\":[{\"automargin\":true,\"type\":\"pie\"}]},\"layout\":{\"autotypenumbers\":\"strict\",\"colorway\":[\"#636efa\",\"#EF553B\",\"#00cc96\",\"#ab63fa\",\"#FFA15A\",\"#19d3f3\",\"#FF6692\",\"#B6E880\",\"#FF97FF\",\"#FECB52\"],\"font\":{\"color\":\"#2a3f5f\"},\"hovermode\":\"closest\",\"hoverlabel\":{\"align\":\"left\"},\"paper_bgcolor\":\"white\",\"plot_bgcolor\":\"#E5ECF6\",\"polar\":{\"bgcolor\":\"#E5ECF6\",\"angularaxis\":{\"gridcolor\":\"white\",\"linecolor\":\"white\",\"ticks\":\"\"},\"radialaxis\":{\"gridcolor\":\"white\",\"linecolor\":\"white\",\"ticks\":\"\"}},\"ternary\":{\"bgcolor\":\"#E5ECF6\",\"aaxis\":{\"gridcolor\":\"white\",\"linecolor\":\"white\",\"ticks\":\"\"},\"baxis\":{\"gridcolor\":\"white\",\"linecolor\":\"white\",\"ticks\":\"\"},\"caxis\":{\"gridcolor\":\"white\",\"linecolor\":\"white\",\"ticks\":\"\"}},\"coloraxis\":{\"colorbar\":{\"outlinewidth\":0,\"ticks\":\"\"}},\"colorscale\":{\"sequential\":[[0.0,\"#0d0887\"],[0.1111111111111111,\"#46039f\"],[0.2222222222222222,\"#7201a8\"],[0.3333333333333333,\"#9c179e\"],[0.4444444444444444,\"#bd3786\"],[0.5555555555555556,\"#d8576b\"],[0.6666666666666666,\"#ed7953\"],[0.7777777777777778,\"#fb9f3a\"],[0.8888888888888888,\"#fdca26\"],[1.0,\"#f0f921\"]],\"sequentialminus\":[[0.0,\"#0d0887\"],[0.1111111111111111,\"#46039f\"],[0.2222222222222222,\"#7201a8\"],[0.3333333333333333,\"#9c179e\"],[0.4444444444444444,\"#bd3786\"],[0.5555555555555556,\"#d8576b\"],[0.6666666666666666,\"#ed7953\"],[0.7777777777777778,\"#fb9f3a\"],[0.8888888888888888,\"#fdca26\"],[1.0,\"#f0f921\"]],\"diverging\":[[0,\"#8e0152\"],[0.1,\"#c51b7d\"],[0.2,\"#de77ae\"],[0.3,\"#f1b6da\"],[0.4,\"#fde0ef\"],[0.5,\"#f7f7f7\"],[0.6,\"#e6f5d0\"],[0.7,\"#b8e186\"],[0.8,\"#7fbc41\"],[0.9,\"#4d9221\"],[1,\"#276419\"]]},\"xaxis\":{\"gridcolor\":\"white\",\"linecolor\":\"white\",\"ticks\":\"\",\"title\":{\"standoff\":15},\"zerolinecolor\":\"white\",\"automargin\":true,\"zerolinewidth\":2},\"yaxis\":{\"gridcolor\":\"white\",\"linecolor\":\"white\",\"ticks\":\"\",\"title\":{\"standoff\":15},\"zerolinecolor\":\"white\",\"automargin\":true,\"zerolinewidth\":2},\"scene\":{\"xaxis\":{\"backgroundcolor\":\"#E5ECF6\",\"gridcolor\":\"white\",\"linecolor\":\"white\",\"showbackground\":true,\"ticks\":\"\",\"zerolinecolor\":\"white\",\"gridwidth\":2},\"yaxis\":{\"backgroundcolor\":\"#E5ECF6\",\"gridcolor\":\"white\",\"linecolor\":\"white\",\"showbackground\":true,\"ticks\":\"\",\"zerolinecolor\":\"white\",\"gridwidth\":2},\"zaxis\":{\"backgroundcolor\":\"#E5ECF6\",\"gridcolor\":\"white\",\"linecolor\":\"white\",\"showbackground\":true,\"ticks\":\"\",\"zerolinecolor\":\"white\",\"gridwidth\":2}},\"shapedefaults\":{\"line\":{\"color\":\"#2a3f5f\"}},\"annotationdefaults\":{\"arrowcolor\":\"#2a3f5f\",\"arrowhead\":0,\"arrowwidth\":1},\"geo\":{\"bgcolor\":\"white\",\"landcolor\":\"#E5ECF6\",\"subunitcolor\":\"white\",\"showland\":true,\"showlakes\":true,\"lakecolor\":\"white\"},\"title\":{\"x\":0.05},\"mapbox\":{\"style\":\"light\"}}}},                        {\"responsive\": true}                    ).then(function(){\n",
              "                            \n",
              "var gd = document.getElementById('22005c58-c87d-4612-86bc-1c7627c5fcc4');\n",
              "var x = new MutationObserver(function (mutations, observer) {{\n",
              "        var display = window.getComputedStyle(gd).display;\n",
              "        if (!display || display === 'none') {{\n",
              "            console.log([gd, 'removed!']);\n",
              "            Plotly.purge(gd);\n",
              "            observer.disconnect();\n",
              "        }}\n",
              "}});\n",
              "\n",
              "// Listen for the removal of the full notebook cells\n",
              "var notebookContainer = gd.closest('#notebook-container');\n",
              "if (notebookContainer) {{\n",
              "    x.observe(notebookContainer, {childList: true});\n",
              "}}\n",
              "\n",
              "// Listen for the clearing of the current output cell\n",
              "var outputEl = gd.closest('.output');\n",
              "if (outputEl) {{\n",
              "    x.observe(outputEl, {childList: true});\n",
              "}}\n",
              "\n",
              "                        })                };                            </script>        </div>\n",
              "</body>\n",
              "</html>"
            ]
          },
          "metadata": {}
        }
      ],
      "source": [
        "fig = optuna.visualization.plot_param_importances(study)\n",
        "fig.show()"
      ]
    },
    {
      "cell_type": "code",
      "source": [
        "from google.colab import runtime\n",
        "runtime.unassign()"
      ],
      "metadata": {
        "id": "y26ADc3BSBCu"
      },
      "execution_count": null,
      "outputs": []
    },
    {
      "cell_type": "markdown",
      "metadata": {
        "id": "Iy0CwJ6wGtTf"
      },
      "source": [
        "## Re-train the ConvNeXtTiny model using the best hyperparameters."
      ]
    },
    {
      "cell_type": "code",
      "execution_count": null,
      "metadata": {
        "colab": {
          "base_uri": "https://localhost:8080/"
        },
        "id": "JHft4ZVsGtTf",
        "outputId": "94bcba0d-b3dc-4ec8-fcfc-ef4ea135d691"
      },
      "outputs": [
        {
          "output_type": "stream",
          "name": "stdout",
          "text": [
            "Found 713 images belonging to 2 classes.\n",
            "Found 237 images belonging to 2 classes.\n",
            "Found 950 images belonging to 2 classes.\n",
            "Found 240 images belonging to 2 classes.\n",
            "Downloading data from https://storage.googleapis.com/tensorflow/keras-applications/convnext/convnext_tiny_notop.h5\n",
            "111650432/111650432 [==============================] - 4s 0us/step\n",
            "Epoch 1/9\n",
            "30/30 [==============================] - 152s 4s/step - loss: 0.8729 - accuracy: 0.5695 - recall: 0.5962 - precision: 0.8357 - val_loss: 0.4962 - val_accuracy: 0.8042 - val_recall: 0.9040 - val_precision: 0.8647\n",
            "Epoch 2/9\n",
            "30/30 [==============================] - 100s 3s/step - loss: 0.7194 - accuracy: 0.5579 - recall: 0.5452 - precision: 0.8717 - val_loss: 0.6770 - val_accuracy: 0.5750 - val_recall: 0.5404 - val_precision: 0.9068\n",
            "Epoch 3/9\n",
            "30/30 [==============================] - 86s 3s/step - loss: 0.6598 - accuracy: 0.6053 - recall: 0.5924 - precision: 0.8942 - val_loss: 0.5002 - val_accuracy: 0.7750 - val_recall: 0.8232 - val_precision: 0.8956\n",
            "Epoch 4/9\n",
            "30/30 [==============================] - 85s 3s/step - loss: 0.6481 - accuracy: 0.6105 - recall: 0.6102 - precision: 0.8821 - val_loss: 0.4987 - val_accuracy: 0.7417 - val_recall: 0.7828 - val_precision: 0.8908\n",
            "Epoch 5/9\n",
            "30/30 [==============================] - 82s 3s/step - loss: 0.5651 - accuracy: 0.7105 - recall: 0.7159 - precision: 0.9153 - val_loss: 0.5003 - val_accuracy: 0.7458 - val_recall: 0.7626 - val_precision: 0.9152\n",
            "Epoch 6/9\n",
            "30/30 [==============================] - 107s 3s/step - loss: 0.5863 - accuracy: 0.6937 - recall: 0.6955 - precision: 0.9130 - val_loss: 0.4629 - val_accuracy: 0.7750 - val_recall: 0.7980 - val_precision: 0.9186\n",
            "Epoch 7/9\n",
            "30/30 [==============================] - 85s 3s/step - loss: 0.5488 - accuracy: 0.7305 - recall: 0.7261 - precision: 0.9329 - val_loss: 0.3602 - val_accuracy: 0.8500 - val_recall: 0.9848 - val_precision: 0.8553\n",
            "Epoch 8/9\n",
            "30/30 [==============================] - 84s 3s/step - loss: 0.5951 - accuracy: 0.6832 - recall: 0.6713 - precision: 0.9246 - val_loss: 0.4376 - val_accuracy: 0.8042 - val_recall: 0.8333 - val_precision: 0.9218\n",
            "Epoch 9/9\n",
            "30/30 [==============================] - 106s 3s/step - loss: 0.5387 - accuracy: 0.7347 - recall: 0.7312 - precision: 0.9333 - val_loss: 0.3789 - val_accuracy: 0.8333 - val_recall: 0.9192 - val_precision: 0.8835\n"
          ]
        }
      ],
      "source": [
        "clear_session()\n",
        "\n",
        "from tensorflow.keras.applications import ConvNeXtTiny\n",
        "from tensorflow.keras import layers\n",
        "\n",
        "# preprocess data\n",
        "train, val, train_val, test = train_val_test_generators(train_dir, val_dir, train_val_dir, test_dir)\n",
        "\n",
        "class_weights_train_val = compute_class_weight(class_weight = 'balanced', classes = np.unique(train_val.classes), y = train_val.classes)\n",
        "class_weights_train_val = {i : class_weights_train_val[i] for i in range(2)}\n",
        "\n",
        "# get best hyperparameters\n",
        "best_hidden_layers = 2 #study.best_params['hidden_layers']\n",
        "best_neurons = 512 #study.best_params['first_neuron']\n",
        "best_dropout = 0.3 #study.best_params['drop_out']\n",
        "best_optimizer = 'Adam' #study.best_params['optimizer']\n",
        "best_lr = 0.000037\t #study.best_params['lr']\n",
        "epochs = 9# take best epoch from HP tuning trail\n",
        "\n",
        "\n",
        "ConvNeXtTiny_model = ConvNeXtTiny(input_shape = (224, 224, 3), \n",
        "                                include_top = False, \n",
        "                                weights = 'imagenet',\n",
        "                                include_preprocessing = False)\n",
        "\n",
        "for layer in ConvNeXtTiny_model.layers:\n",
        "  layer.trainable = False\n",
        "\n",
        "last_output = ConvNeXtTiny_model.output\n",
        "x = layers.Flatten()(last_output)\n",
        "\n",
        "for i in range(best_hidden_layers):\n",
        "  x = layers.Dense(best_neurons, activation='relu')(x)\n",
        "  x = layers.Dropout(best_dropout)(x)                  \n",
        "\n",
        "x = layers.Dense(1, activation='sigmoid')(x)           \n",
        "\n",
        "model = Model(ConvNeXtTiny_model.input, x) \n",
        "\n",
        "if best_optimizer == 'Adam':\n",
        "    optimizer = Adam(learning_rate=best_lr)\n",
        "elif best_optimizer == 'RMSprop':\n",
        "    optimizer = RMSprop(learning_rate=best_lr)\n",
        "elif best_optimizer == 'AdamW':\n",
        "    optimizer = AdamW(learning_rate=best_lr)\n",
        "\n",
        "\n",
        "model.compile(optimizer=optimizer,\n",
        "              loss = 'binary_crossentropy', \n",
        "              metrics = ['accuracy', Recall(), Precision()])\n",
        "\n",
        "ConvNeXtTiny_history = model.fit(train_val, validation_data=test, # test set used only for monitoring loss and accuracy, not for HP tuning\n",
        "                                 class_weight=class_weights_train_val, epochs = epochs,\n",
        "                                 max_queue_size=40, workers=4, use_multiprocessing=True)"
      ]
    },
    {
      "cell_type": "code",
      "execution_count": null,
      "metadata": {
        "colab": {
          "base_uri": "https://localhost:8080/",
          "height": 927
        },
        "id": "4d1HZNrap1vD",
        "outputId": "4bda33a0-6e5c-4b33-e442-fb6f1d08b6ef"
      },
      "outputs": [
        {
          "output_type": "display_data",
          "data": {
            "text/plain": [
              "<Figure size 640x480 with 1 Axes>"
            ],
            "image/png": "[encoded data removed]"
          },
          "metadata": {}
        },
        {
          "output_type": "display_data",
          "data": {
            "text/plain": [
              "<Figure size 640x480 with 1 Axes>"
            ],
            "image/png": "[encoded data removed]"
          },
          "metadata": {}
        }
      ],
      "source": [
        "# Plot training and validation accuracy curves\n",
        "plt.plot(ConvNeXtTiny_history.history['accuracy'])\n",
        "plt.plot(ConvNeXtTiny_history.history['val_accuracy'])\n",
        "plt.title('ConvNeXtTiny model accuracy')\n",
        "plt.ylabel('Accuracy')\n",
        "plt.xlabel('Epoch')\n",
        "plt.legend(['Train_Val', 'Test'], loc='upper left')\n",
        "plt.show()\n",
        "\n",
        "# Plot training and validation loss curves\n",
        "plt.plot(ConvNeXtTiny_history.history['loss'])\n",
        "plt.plot(ConvNeXtTiny_history.history['val_loss'])\n",
        "plt.title('ConvNeXtTiny model loss')\n",
        "plt.ylabel('Loss')\n",
        "plt.xlabel('Epoch')\n",
        "plt.legend(['Train_Val', 'Test'], loc='upper left')\n",
        "plt.show()"
      ]
    },
    {
      "cell_type": "markdown",
      "metadata": {
        "id": "AvyJ7d54GtTf"
      },
      "source": [
        "## Test the performance of the ConvNeXtTiny model on the test set."
      ]
    },
    {
      "cell_type": "code",
      "execution_count": null,
      "metadata": {
        "colab": {
          "base_uri": "https://localhost:8080/"
        },
        "id": "6GwuA14SGtTf",
        "outputId": "c20ae21e-e6ea-4ff8-88e8-21347cd90e57"
      },
      "outputs": [
        {
          "output_type": "stream",
          "name": "stdout",
          "text": [
            "8/8 [==============================] - 43s 5s/step - loss: 0.3789 - accuracy: 0.8333 - recall: 0.9192 - precision: 0.8835\n",
            "Test loss: 0.37892135977745056\n",
            "Test accuracy: 0.8333333134651184\n"
          ]
        }
      ],
      "source": [
        "# Evaluate model performance on test set\n",
        "performance_ConvNeXtTiny = model.evaluate(test)\n",
        "print('Test loss:', performance_ConvNeXtTiny[0])\n",
        "print('Test accuracy:', performance_ConvNeXtTiny[1])"
      ]
    },
    {
      "cell_type": "code",
      "execution_count": null,
      "metadata": {
        "colab": {
          "base_uri": "https://localhost:8080/"
        },
        "id": "B3xCXRxdGtTf",
        "outputId": "30006f53-051d-414f-ef4f-45844babe616"
      },
      "outputs": [
        {
          "output_type": "stream",
          "name": "stdout",
          "text": [
            "8/8 [==============================] - 45s 5s/step\n",
            "Accuracy: 0.8333333333333334\n",
            "Precision: 0.883495145631068\n",
            "Recall: 0.9191919191919192\n",
            "F1-score: 0.9009900990099011\n",
            "F1_score_macro: 0.6873371547681084\n",
            "AUC-ROC: 0.6738816738816739\n",
            "\n",
            "              precision    recall  f1-score   support\n",
            "\n",
            "           0       0.53      0.43      0.47        42\n",
            "           1       0.88      0.92      0.90       198\n",
            "\n",
            "    accuracy                           0.83       240\n",
            "   macro avg       0.71      0.67      0.69       240\n",
            "weighted avg       0.82      0.83      0.83       240\n",
            "\n"
          ]
        }
      ],
      "source": [
        "# Use the trained model to predict on the test set and round the prediction\n",
        "y_pred = model.predict(test)\n",
        "y_pred = np.round(y_pred)\n",
        "\n",
        "# Calculate the evaluation metrics\n",
        "accuracy = accuracy_score(test.labels, y_pred)\n",
        "precision = precision_score(test.labels, y_pred)\n",
        "recall = recall_score(test.labels, y_pred)\n",
        "f1score = f1_score(test.labels, y_pred)\n",
        "f1score_macro = f1_score(test.labels, y_pred, average = 'macro')\n",
        "auc_roc = roc_auc_score(test.labels, y_pred)\n",
        "\n",
        "# Print the evaluation metrics\n",
        "print('Accuracy:', accuracy)\n",
        "print('Precision:', precision)\n",
        "print('Recall:', recall)\n",
        "print('F1-score:', f1score)\n",
        "print('F1_score_macro:', f1score_macro)\n",
        "print('AUC-ROC:', auc_roc)\n",
        "print()\n",
        "\n",
        "print(classification_report(test.labels, y_pred))"
      ]
    },
    {
      "cell_type": "code",
      "execution_count": null,
      "metadata": {
        "colab": {
          "base_uri": "https://localhost:8080/",
          "height": 506
        },
        "id": "91uvgdrzGtTf",
        "outputId": "5fe3597c-0557-4ba7-9b67-cabb99b678ec"
      },
      "outputs": [
        {
          "output_type": "display_data",
          "data": {
            "text/plain": [
              "<Figure size 640x480 with 2 Axes>"
            ],
            "image/png": "[encoded data removed]"
          },
          "metadata": {}
        }
      ],
      "source": [
        "# Create a confusion matrix:\n",
        "cm = confusion_matrix(test.labels, y_pred)\n",
        "\n",
        "# Define the class labels\n",
        "classes = np.unique(['Healthy', 'Scab'])\n",
        "\n",
        "# Create the plot\n",
        "fig, ax = plt.subplots()\n",
        "im = ax.imshow(cm, interpolation='nearest', cmap=plt.cm.Blues)\n",
        "ax.figure.colorbar(im, ax=ax)\n",
        "\n",
        "# Add axis labels and tick marks\n",
        "ax.set(xticks=np.arange(cm.shape[1]),\n",
        "       yticks=np.arange(cm.shape[0]),\n",
        "       xticklabels=classes,\n",
        "       yticklabels=classes,\n",
        "       xlabel='Predicted label',\n",
        "       ylabel='True label')\n",
        "\n",
        "# Rotate the tick labels and set their alignment\n",
        "plt.setp(ax.get_xticklabels(), rotation=45, ha=\"right\",\n",
        "         rotation_mode=\"anchor\")\n",
        "\n",
        "# Loop over data dimensions and create text annotations\n",
        "for i in range(cm.shape[0]):\n",
        "    for j in range(cm.shape[1]):\n",
        "        ax.text(j, i, format(cm[i, j], 'd'),\n",
        "                ha=\"center\", va=\"center\",\n",
        "                color=\"white\" if cm[i, j] > cm.max() / 2. else \"black\")\n",
        "\n",
        "# Add a title and show plot\n",
        "ax.set_title(\"Confusion Matrix ConvNeXtTiny\")\n",
        "plt.show()"
      ]
    }
  ],
  "metadata": {
    "accelerator": "GPU",
    "colab": {
      "collapsed_sections": [
        "v0RlqCkMzrje",
        "saZ0l4ifzwvS",
        "AlUc1BKh074U",
        "zeqGojVHGtTe"
      ],
      "machine_shape": "hm",
      "provenance": [],
      "gpuType": "V100"
    },
    "gpuClass": "standard",
    "kernelspec": {
      "display_name": "Python 3",
      "name": "python3"
    },
    "language_info": {
      "name": "python"
    }
  },
  "nbformat": 4,
  "nbformat_minor": 0
}